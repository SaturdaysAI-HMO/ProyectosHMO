{
 "cells": [
  {
   "cell_type": "markdown",
   "metadata": {
    "colab_type": "text",
    "id": "pdrMMokvH9Fz"
   },
   "source": [
    "# IMPORTS AND LOAD DATASET"
   ]
  },
  {
   "cell_type": "code",
   "execution_count": 1,
   "metadata": {
    "colab": {},
    "colab_type": "code",
    "id": "LuJ7ND66ezkR"
   },
   "outputs": [],
   "source": [
    "#This are the most common imports\n",
    "import pandas as pd\n",
    "import numpy as np\n",
    "import seaborn as sns\n",
    "import matplotlib.pyplot as plt\n",
    "from datetime import datetime, timedelta\n",
    "%matplotlib inline"
   ]
  },
  {
   "cell_type": "markdown",
   "metadata": {
    "colab_type": "text",
    "id": "7SGbJc-3H7oZ"
   },
   "source": []
  },
  {
   "cell_type": "code",
   "execution_count": 2,
   "metadata": {
    "colab": {
     "base_uri": "https://localhost:8080/",
     "height": 41,
     "resources": {
      "http://localhost:8080/nbextensions/google.colab/files.js": {
       "data": "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",
       "headers": [
        [
         "content-type",
         "application/javascript"
        ]
       ],
       "ok": true,
       "status": 200,
       "status_text": ""
      }
     }
    },
    "colab_type": "code",
    "executionInfo": {
     "elapsed": 22737,
     "status": "ok",
     "timestamp": 1564257720160,
     "user": {
      "displayName": "Daniel Ramirez Rios",
      "photoUrl": "https://lh6.googleusercontent.com/-vO3eHtVyrAk/AAAAAAAAAAI/AAAAAAAAA9g/abxupfvFsFk/s64/photo.jpg",
      "userId": "16809089177157616231"
     },
     "user_tz": 420
    },
    "id": "qH_2qrace6WP",
    "outputId": "358cb2a5-ff5f-469b-f179-b908f1fdec65"
   },
   "outputs": [],
   "source": [
    "SBH = pd.read_csv('serviciosbomberoshmo.csv', encoding=\"latin1\")"
   ]
  },
  {
   "cell_type": "code",
   "execution_count": 3,
   "metadata": {
    "colab": {},
    "colab_type": "code",
    "id": "ZZk-GV78e9u2"
   },
   "outputs": [],
   "source": [
    "sbh = SBH.copy()"
   ]
  },
  {
   "cell_type": "code",
   "execution_count": 4,
   "metadata": {
    "colab": {},
    "colab_type": "code",
    "id": "trYE2i5je_7G"
   },
   "outputs": [
    {
     "data": {
      "text/html": [
       "<div>\n",
       "<style scoped>\n",
       "    .dataframe tbody tr th:only-of-type {\n",
       "        vertical-align: middle;\n",
       "    }\n",
       "\n",
       "    .dataframe tbody tr th {\n",
       "        vertical-align: top;\n",
       "    }\n",
       "\n",
       "    .dataframe thead th {\n",
       "        text-align: right;\n",
       "    }\n",
       "</style>\n",
       "<table border=\"1\" class=\"dataframe\">\n",
       "  <thead>\n",
       "    <tr style=\"text-align: right;\">\n",
       "      <th></th>\n",
       "      <th>FOLIO</th>\n",
       "      <th>TIPO</th>\n",
       "      <th>LUGAR</th>\n",
       "      <th>FECHA</th>\n",
       "      <th>SALIDA</th>\n",
       "      <th>LLEGADA</th>\n",
       "      <th>CAUSA</th>\n",
       "      <th>COLONIA</th>\n",
       "      <th>ESTACION</th>\n",
       "    </tr>\n",
       "  </thead>\n",
       "  <tbody>\n",
       "    <tr>\n",
       "      <th>0</th>\n",
       "      <td>01012016-0007-INZB-2A</td>\n",
       "      <td>INCENDIO DE ZACATE Y BASURA</td>\n",
       "      <td>COMERCIO</td>\n",
       "      <td>01-01-16</td>\n",
       "      <td>01-01-16 0:07</td>\n",
       "      <td>01-01-16 0:16</td>\n",
       "      <td>FUEGO DIRECTO</td>\n",
       "      <td>SIN COLONIA</td>\n",
       "      <td>2.0</td>\n",
       "    </tr>\n",
       "    <tr>\n",
       "      <th>1</th>\n",
       "      <td>01012016-0022-INZB-1A</td>\n",
       "      <td>INCENDIO DE ZACATE Y BASURA</td>\n",
       "      <td>CASA</td>\n",
       "      <td>01-01-16</td>\n",
       "      <td>01-01-16 0:22</td>\n",
       "      <td>01-01-16 0:32</td>\n",
       "      <td>FUEGO DIRECTO</td>\n",
       "      <td>LOMAS DE MADRID</td>\n",
       "      <td>1.0</td>\n",
       "    </tr>\n",
       "    <tr>\n",
       "      <th>2</th>\n",
       "      <td>01012016-0029-IDCM-1A</td>\n",
       "      <td>INCENDIO DE CASA DE MATERIAL</td>\n",
       "      <td>CASA</td>\n",
       "      <td>01-01-16</td>\n",
       "      <td>01-01-16 0:29</td>\n",
       "      <td>01-01-16 0:43</td>\n",
       "      <td>OTROS</td>\n",
       "      <td>PUERTA REAL RESIDENCIAL</td>\n",
       "      <td>1.0</td>\n",
       "    </tr>\n",
       "    <tr>\n",
       "      <th>3</th>\n",
       "      <td>01012016-0039-INZB-2A</td>\n",
       "      <td>INCENDIO DE ZACATE Y BASURA</td>\n",
       "      <td>VEHICULO</td>\n",
       "      <td>01-01-16</td>\n",
       "      <td>01-01-16 0:39</td>\n",
       "      <td>01-01-16 0:43</td>\n",
       "      <td>FUEGO DIRECTO</td>\n",
       "      <td>NORBERTO ORTEGA</td>\n",
       "      <td>2.0</td>\n",
       "    </tr>\n",
       "    <tr>\n",
       "      <th>4</th>\n",
       "      <td>01012016-0051-INZB-2A</td>\n",
       "      <td>INCENDIO DE ZACATE Y BASURA</td>\n",
       "      <td>CASA</td>\n",
       "      <td>01-01-16</td>\n",
       "      <td>01-01-16 0:51</td>\n",
       "      <td>01-01-16 0:59</td>\n",
       "      <td>FUEGO DIRECTO</td>\n",
       "      <td>MIGUEL HIDALGO</td>\n",
       "      <td>2.0</td>\n",
       "    </tr>\n",
       "  </tbody>\n",
       "</table>\n",
       "</div>"
      ],
      "text/plain": [
       "                   FOLIO                          TIPO     LUGAR     FECHA  \\\n",
       "0  01012016-0007-INZB-2A   INCENDIO DE ZACATE Y BASURA  COMERCIO  01-01-16   \n",
       "1  01012016-0022-INZB-1A   INCENDIO DE ZACATE Y BASURA      CASA  01-01-16   \n",
       "2  01012016-0029-IDCM-1A  INCENDIO DE CASA DE MATERIAL      CASA  01-01-16   \n",
       "3  01012016-0039-INZB-2A   INCENDIO DE ZACATE Y BASURA  VEHICULO  01-01-16   \n",
       "4  01012016-0051-INZB-2A   INCENDIO DE ZACATE Y BASURA      CASA  01-01-16   \n",
       "\n",
       "          SALIDA        LLEGADA          CAUSA                  COLONIA  \\\n",
       "0  01-01-16 0:07  01-01-16 0:16  FUEGO DIRECTO              SIN COLONIA   \n",
       "1  01-01-16 0:22  01-01-16 0:32  FUEGO DIRECTO          LOMAS DE MADRID   \n",
       "2  01-01-16 0:29  01-01-16 0:43          OTROS  PUERTA REAL RESIDENCIAL   \n",
       "3  01-01-16 0:39  01-01-16 0:43  FUEGO DIRECTO          NORBERTO ORTEGA   \n",
       "4  01-01-16 0:51  01-01-16 0:59  FUEGO DIRECTO           MIGUEL HIDALGO   \n",
       "\n",
       "   ESTACION  \n",
       "0       2.0  \n",
       "1       1.0  \n",
       "2       1.0  \n",
       "3       2.0  \n",
       "4       2.0  "
      ]
     },
     "execution_count": 4,
     "metadata": {},
     "output_type": "execute_result"
    }
   ],
   "source": [
    "sbh.head()"
   ]
  },
  {
   "cell_type": "code",
   "execution_count": 5,
   "metadata": {
    "colab": {},
    "colab_type": "code",
    "id": "-_uQe5nDlpEE"
   },
   "outputs": [
    {
     "name": "stdout",
     "output_type": "stream",
     "text": [
      "<class 'pandas.core.frame.DataFrame'>\n",
      "RangeIndex: 22996 entries, 0 to 22995\n",
      "Data columns (total 9 columns):\n",
      "FOLIO       22996 non-null object\n",
      "TIPO        22989 non-null object\n",
      "LUGAR       22974 non-null object\n",
      "FECHA       22996 non-null object\n",
      "SALIDA      22996 non-null object\n",
      "LLEGADA     22869 non-null object\n",
      "CAUSA       22740 non-null object\n",
      "COLONIA     22560 non-null object\n",
      "ESTACION    22995 non-null float64\n",
      "dtypes: float64(1), object(8)\n",
      "memory usage: 1.6+ MB\n"
     ]
    }
   ],
   "source": [
    "sbh.info()"
   ]
  },
  {
   "cell_type": "code",
   "execution_count": 6,
   "metadata": {
    "colab": {},
    "colab_type": "code",
    "id": "jYPu4IKYgkLn"
   },
   "outputs": [],
   "source": [
    "#Hacer todas las letras del dataframe mayusculas\n",
    "sbh = sbh.applymap(lambda s:s.upper() if type(s) == str else s)"
   ]
  },
  {
   "cell_type": "code",
   "execution_count": 0,
   "metadata": {
    "colab": {},
    "colab_type": "code",
    "id": "rirSH_q2fLmF"
   },
   "outputs": [],
   "source": [
    "#sbh_incendios = sbh[(sbh['TIPO'] ==12) & (sbh['TIPO']<=19)]\n",
    "\n",
    "#Commando para saber si en un elemento del dataframe(df) de cierta columna(b) se encuentra la palabra x ('EQUITY')\n",
    "#Regresa un valor falso o verdadero\n",
    "#df['b'].str.contains(r'EQUITY')"
   ]
  },
  {
   "cell_type": "markdown",
   "metadata": {
    "colab_type": "text",
    "id": "6b_Ae33S33ZE"
   },
   "source": [
    "# EJERCICIO 1. COLONIAS CON MAS INCENDIOS\n",
    " Colonia con más incendios"
   ]
  },
  {
   "cell_type": "code",
   "execution_count": 7,
   "metadata": {
    "colab": {},
    "colab_type": "code",
    "id": "jm4vFcPVfygo"
   },
   "outputs": [
    {
     "data": {
      "text/plain": [
       "13466"
      ]
     },
     "execution_count": 7,
     "metadata": {},
     "output_type": "execute_result"
    }
   ],
   "source": [
    "#Prueba de la funcion con dataframe de servicio de bomberos de Hermosillo\n",
    "sbh['TIPO'].str.contains(r'INCENDIO').sum()"
   ]
  },
  {
   "cell_type": "code",
   "execution_count": 8,
   "metadata": {
    "colab": {},
    "colab_type": "code",
    "id": "tC2PNt1kkB5n"
   },
   "outputs": [],
   "source": [
    "#Reasigno la variable sbh_incendios en un nuevo dataframe que solo contenga los renglones donde el TIPO contenga la palabra incendio (ojo, la palabra puede estar en cualquier parte del string)\n",
    "sbh_incendios = sbh[(sbh['TIPO'].str.contains(r'INCENDIO') == True)]"
   ]
  },
  {
   "cell_type": "code",
   "execution_count": 9,
   "metadata": {
    "colab": {},
    "colab_type": "code",
    "id": "yI-BdhW3kOnv"
   },
   "outputs": [
    {
     "name": "stdout",
     "output_type": "stream",
     "text": [
      "<class 'pandas.core.frame.DataFrame'>\n",
      "Int64Index: 13466 entries, 0 to 22995\n",
      "Data columns (total 9 columns):\n",
      "FOLIO       13466 non-null object\n",
      "TIPO        13466 non-null object\n",
      "LUGAR       13457 non-null object\n",
      "FECHA       13466 non-null object\n",
      "SALIDA      13466 non-null object\n",
      "LLEGADA     13398 non-null object\n",
      "CAUSA       13398 non-null object\n",
      "COLONIA     13200 non-null object\n",
      "ESTACION    13465 non-null float64\n",
      "dtypes: float64(1), object(8)\n",
      "memory usage: 1.0+ MB\n"
     ]
    }
   ],
   "source": [
    "#Verificamos, originalmente todo los datos eran 22996 y ahora son 13466\n",
    "sbh_incendios.info()"
   ]
  },
  {
   "cell_type": "code",
   "execution_count": 10,
   "metadata": {
    "colab": {},
    "colab_type": "code",
    "id": "E9AgRrRkuuUD"
   },
   "outputs": [
    {
     "data": {
      "text/plain": [
       "[Text(0, 0, 'CENTRO'),\n",
       " Text(0, 0, 'PARQUE INDUSTRIAL'),\n",
       " Text(0, 0, 'ALTARES'),\n",
       " Text(0, 0, 'SOLIDARIDAD'),\n",
       " Text(0, 0, 'NUEVO HERMOSILLO'),\n",
       " Text(0, 0, 'SAHUARO'),\n",
       " Text(0, 0, 'PROYECTO RIO SONORA'),\n",
       " Text(0, 0, 'CARRETERA A KINO'),\n",
       " Text(0, 0, '5 DE MAYO'),\n",
       " Text(0, 0, 'LAS LOMAS'),\n",
       " Text(0, 0, 'PALO VERDE'),\n",
       " Text(0, 0, 'LOS OLIVOS'),\n",
       " Text(0, 0, 'SAN BENITO'),\n",
       " Text(0, 0, 'SAN LUIS')]"
      ]
     },
     "execution_count": 10,
     "metadata": {},
     "output_type": "execute_result"
    },
    {
     "data": {
      "image/png": "[encoded data removed]",
      "text/plain": [
       "<Figure size 1440x576 with 1 Axes>"
      ]
     },
     "metadata": {
      "needs_background": "light"
     },
     "output_type": "display_data"
    }
   ],
   "source": [
    "#Graficamos \n",
    "plt.figure(figsize=(20,8)) #Crea el espacio de memoria para la grafica y le asigna un tamaño en especifico\n",
    "\n",
    "# La grafica se define como g solo para poderle asignar que las etiquetas en el eje x esten a 45 grados \n",
    "g = sns.countplot(x='COLONIA', data = sbh_incendios,order=pd.value_counts(sbh_incendios['COLONIA']).iloc[1:15].index, palette = 'Paired') \n",
    "loc, labels = plt.xticks()\n",
    "g.set_xticklabels(labels, rotation=45)\n"
   ]
  },
  {
   "cell_type": "markdown",
   "metadata": {
    "colab_type": "text",
    "id": "dqN-FSrY4KfV"
   },
   "source": [
    "# EJERCICIO 2 Top 10 Colonias Histograma por mes\n",
    "\n",
    "\n"
   ]
  },
  {
   "cell_type": "code",
   "execution_count": 11,
   "metadata": {
    "colab": {},
    "colab_type": "code",
    "id": "LeZUtCRk4UiL"
   },
   "outputs": [
    {
     "name": "stderr",
     "output_type": "stream",
     "text": [
      "C:\\Users\\Daniel Ramirez\\Anaconda3\\lib\\site-packages\\ipykernel_launcher.py:2: SettingWithCopyWarning: \n",
      "A value is trying to be set on a copy of a slice from a DataFrame.\n",
      "Try using .loc[row_indexer,col_indexer] = value instead\n",
      "\n",
      "See the caveats in the documentation: http://pandas.pydata.org/pandas-docs/stable/indexing.html#indexing-view-versus-copy\n",
      "  \n",
      "C:\\Users\\Daniel Ramirez\\Anaconda3\\lib\\site-packages\\ipykernel_launcher.py:3: SettingWithCopyWarning: \n",
      "A value is trying to be set on a copy of a slice from a DataFrame.\n",
      "Try using .loc[row_indexer,col_indexer] = value instead\n",
      "\n",
      "See the caveats in the documentation: http://pandas.pydata.org/pandas-docs/stable/indexing.html#indexing-view-versus-copy\n",
      "  This is separate from the ipykernel package so we can avoid doing imports until\n",
      "C:\\Users\\Daniel Ramirez\\Anaconda3\\lib\\site-packages\\ipykernel_launcher.py:4: SettingWithCopyWarning: \n",
      "A value is trying to be set on a copy of a slice from a DataFrame.\n",
      "Try using .loc[row_indexer,col_indexer] = value instead\n",
      "\n",
      "See the caveats in the documentation: http://pandas.pydata.org/pandas-docs/stable/indexing.html#indexing-view-versus-copy\n",
      "  after removing the cwd from sys.path.\n"
     ]
    }
   ],
   "source": [
    "#Obtenemos dia, mes y año de la columna de FECHA del dataframe\n",
    "sbh_incendios['YEAR'] = pd.DatetimeIndex(sbh_incendios['FECHA']).year\n",
    "sbh_incendios['MONTH'] = pd.DatetimeIndex(sbh_incendios['FECHA']).month\n",
    "sbh_incendios['DAY'] = pd.DatetimeIndex(sbh_incendios['FECHA']).day"
   ]
  },
  {
   "cell_type": "code",
   "execution_count": 12,
   "metadata": {
    "colab": {},
    "colab_type": "code",
    "id": "y0lETG6D5JPw"
   },
   "outputs": [
    {
     "data": {
      "text/html": [
       "<div>\n",
       "<style scoped>\n",
       "    .dataframe tbody tr th:only-of-type {\n",
       "        vertical-align: middle;\n",
       "    }\n",
       "\n",
       "    .dataframe tbody tr th {\n",
       "        vertical-align: top;\n",
       "    }\n",
       "\n",
       "    .dataframe thead th {\n",
       "        text-align: right;\n",
       "    }\n",
       "</style>\n",
       "<table border=\"1\" class=\"dataframe\">\n",
       "  <thead>\n",
       "    <tr style=\"text-align: right;\">\n",
       "      <th></th>\n",
       "      <th>FOLIO</th>\n",
       "      <th>TIPO</th>\n",
       "      <th>LUGAR</th>\n",
       "      <th>SALIDA</th>\n",
       "      <th>LLEGADA</th>\n",
       "      <th>CAUSA</th>\n",
       "      <th>COLONIA</th>\n",
       "      <th>ESTACION</th>\n",
       "      <th>YEAR</th>\n",
       "      <th>MONTH</th>\n",
       "      <th>DAY</th>\n",
       "    </tr>\n",
       "  </thead>\n",
       "  <tbody>\n",
       "    <tr>\n",
       "      <th>0</th>\n",
       "      <td>01012016-0007-INZB-2A</td>\n",
       "      <td>INCENDIO DE ZACATE Y BASURA</td>\n",
       "      <td>COMERCIO</td>\n",
       "      <td>01-01-16 0:07</td>\n",
       "      <td>01-01-16 0:16</td>\n",
       "      <td>FUEGO DIRECTO</td>\n",
       "      <td>SIN COLONIA</td>\n",
       "      <td>2.0</td>\n",
       "      <td>2016</td>\n",
       "      <td>1</td>\n",
       "      <td>1</td>\n",
       "    </tr>\n",
       "    <tr>\n",
       "      <th>1</th>\n",
       "      <td>01012016-0022-INZB-1A</td>\n",
       "      <td>INCENDIO DE ZACATE Y BASURA</td>\n",
       "      <td>CASA</td>\n",
       "      <td>01-01-16 0:22</td>\n",
       "      <td>01-01-16 0:32</td>\n",
       "      <td>FUEGO DIRECTO</td>\n",
       "      <td>LOMAS DE MADRID</td>\n",
       "      <td>1.0</td>\n",
       "      <td>2016</td>\n",
       "      <td>1</td>\n",
       "      <td>1</td>\n",
       "    </tr>\n",
       "    <tr>\n",
       "      <th>2</th>\n",
       "      <td>01012016-0029-IDCM-1A</td>\n",
       "      <td>INCENDIO DE CASA DE MATERIAL</td>\n",
       "      <td>CASA</td>\n",
       "      <td>01-01-16 0:29</td>\n",
       "      <td>01-01-16 0:43</td>\n",
       "      <td>OTROS</td>\n",
       "      <td>PUERTA REAL RESIDENCIAL</td>\n",
       "      <td>1.0</td>\n",
       "      <td>2016</td>\n",
       "      <td>1</td>\n",
       "      <td>1</td>\n",
       "    </tr>\n",
       "    <tr>\n",
       "      <th>3</th>\n",
       "      <td>01012016-0039-INZB-2A</td>\n",
       "      <td>INCENDIO DE ZACATE Y BASURA</td>\n",
       "      <td>VEHICULO</td>\n",
       "      <td>01-01-16 0:39</td>\n",
       "      <td>01-01-16 0:43</td>\n",
       "      <td>FUEGO DIRECTO</td>\n",
       "      <td>NORBERTO ORTEGA</td>\n",
       "      <td>2.0</td>\n",
       "      <td>2016</td>\n",
       "      <td>1</td>\n",
       "      <td>1</td>\n",
       "    </tr>\n",
       "    <tr>\n",
       "      <th>4</th>\n",
       "      <td>01012016-0051-INZB-2A</td>\n",
       "      <td>INCENDIO DE ZACATE Y BASURA</td>\n",
       "      <td>CASA</td>\n",
       "      <td>01-01-16 0:51</td>\n",
       "      <td>01-01-16 0:59</td>\n",
       "      <td>FUEGO DIRECTO</td>\n",
       "      <td>MIGUEL HIDALGO</td>\n",
       "      <td>2.0</td>\n",
       "      <td>2016</td>\n",
       "      <td>1</td>\n",
       "      <td>1</td>\n",
       "    </tr>\n",
       "  </tbody>\n",
       "</table>\n",
       "</div>"
      ],
      "text/plain": [
       "                   FOLIO                          TIPO     LUGAR  \\\n",
       "0  01012016-0007-INZB-2A   INCENDIO DE ZACATE Y BASURA  COMERCIO   \n",
       "1  01012016-0022-INZB-1A   INCENDIO DE ZACATE Y BASURA      CASA   \n",
       "2  01012016-0029-IDCM-1A  INCENDIO DE CASA DE MATERIAL      CASA   \n",
       "3  01012016-0039-INZB-2A   INCENDIO DE ZACATE Y BASURA  VEHICULO   \n",
       "4  01012016-0051-INZB-2A   INCENDIO DE ZACATE Y BASURA      CASA   \n",
       "\n",
       "          SALIDA        LLEGADA          CAUSA                  COLONIA  \\\n",
       "0  01-01-16 0:07  01-01-16 0:16  FUEGO DIRECTO              SIN COLONIA   \n",
       "1  01-01-16 0:22  01-01-16 0:32  FUEGO DIRECTO          LOMAS DE MADRID   \n",
       "2  01-01-16 0:29  01-01-16 0:43          OTROS  PUERTA REAL RESIDENCIAL   \n",
       "3  01-01-16 0:39  01-01-16 0:43  FUEGO DIRECTO          NORBERTO ORTEGA   \n",
       "4  01-01-16 0:51  01-01-16 0:59  FUEGO DIRECTO           MIGUEL HIDALGO   \n",
       "\n",
       "   ESTACION  YEAR  MONTH  DAY  \n",
       "0       2.0  2016      1    1  \n",
       "1       1.0  2016      1    1  \n",
       "2       1.0  2016      1    1  \n",
       "3       2.0  2016      1    1  \n",
       "4       2.0  2016      1    1  "
      ]
     },
     "execution_count": 12,
     "metadata": {},
     "output_type": "execute_result"
    }
   ],
   "source": [
    "sbh_incendios.drop('FECHA', axis = 1).head()"
   ]
  },
  {
   "cell_type": "code",
   "execution_count": 13,
   "metadata": {
    "colab": {},
    "colab_type": "code",
    "id": "iqdq4QOX5b2M"
   },
   "outputs": [
    {
     "data": {
      "text/plain": [
       "[Text(0, 0, 'CENTRO'),\n",
       " Text(0, 0, 'PARQUE INDUSTRIAL'),\n",
       " Text(0, 0, 'ALTARES'),\n",
       " Text(0, 0, 'SOLIDARIDAD'),\n",
       " Text(0, 0, 'NUEVO HERMOSILLO'),\n",
       " Text(0, 0, 'SAHUARO'),\n",
       " Text(0, 0, 'PROYECTO RIO SONORA'),\n",
       " Text(0, 0, 'CARRETERA A KINO'),\n",
       " Text(0, 0, '5 DE MAYO'),\n",
       " Text(0, 0, 'LAS LOMAS')]"
      ]
     },
     "execution_count": 13,
     "metadata": {},
     "output_type": "execute_result"
    },
    {
     "data": {
      "image/png": "[encoded data removed]",
      "text/plain": [
       "<Figure size 1440x576 with 1 Axes>"
      ]
     },
     "metadata": {
      "needs_background": "light"
     },
     "output_type": "display_data"
    }
   ],
   "source": [
    "plt.figure(figsize=(20,8)) #Crea el espacio de memoria para la grafica y le asigna un tamaño en especifico\n",
    "\n",
    "# La grafica se define como g solo para poderle asignar que las etiquetas en el eje x esten a 45 grados \n",
    "g1 = sns.countplot(x='COLONIA', data = sbh_incendios,order=pd.value_counts(sbh_incendios['COLONIA']).iloc[1:11].index, palette = 'Paired', hue= 'MONTH') \n",
    "loc, labels = plt.xticks()\n",
    "g1.set_xticklabels(labels, rotation=45)"
   ]
  },
  {
   "cell_type": "code",
   "execution_count": 0,
   "metadata": {
    "colab": {},
    "colab_type": "code",
    "id": "c-vwKgtw_aXh"
   },
   "outputs": [],
   "source": []
  },
  {
   "cell_type": "markdown",
   "metadata": {
    "colab_type": "text",
    "id": "hZ2LveaC_a0E"
   },
   "source": [
    "# EJERCICIO 3 INCENDIOS POR CAUSA"
   ]
  },
  {
   "cell_type": "code",
   "execution_count": 14,
   "metadata": {
    "colab": {},
    "colab_type": "code",
    "id": "Ku-rCQ5M-sat"
   },
   "outputs": [
    {
     "data": {
      "text/plain": [
       "32"
      ]
     },
     "execution_count": 14,
     "metadata": {},
     "output_type": "execute_result"
    }
   ],
   "source": [
    "#Cuantas Causas hay\n",
    "len(sbh_incendios['CAUSA'].unique())"
   ]
  },
  {
   "cell_type": "code",
   "execution_count": 15,
   "metadata": {
    "colab": {},
    "colab_type": "code",
    "id": "BKD4Us3O_RyJ"
   },
   "outputs": [
    {
     "data": {
      "text/plain": [
       "[Text(0, 0, 'FUEGO DIRECTO'),\n",
       " Text(0, 0, 'CORTO CIRCUITO'),\n",
       " Text(0, 0, 'OTROS'),\n",
       " Text(0, 0, 'SOBRECALENTAMIENTO'),\n",
       " Text(0, 0, 'INCENDIO DE ZACATE Y BASURA'),\n",
       " Text(0, 0, 'FUGA DE COMBUSTIBLE'),\n",
       " Text(0, 0, 'SOBREPRESION'),\n",
       " Text(0, 0, 'FUGA DE GAS LP Y/O GAS NATURAL'),\n",
       " Text(0, 0, 'FUGA DE GAS'),\n",
       " Text(0, 0, 'SOBRECARGA')]"
      ]
     },
     "execution_count": 15,
     "metadata": {},
     "output_type": "execute_result"
    },
    {
     "data": {
      "image/png": "[encoded data removed]",
      "text/plain": [
       "<Figure size 1440x576 with 1 Axes>"
      ]
     },
     "metadata": {
      "needs_background": "light"
     },
     "output_type": "display_data"
    }
   ],
   "source": [
    "# En esta primera grafica se comparan las causas con todo el dataset de incendios\n",
    "plt.figure(figsize=(20,8)) #Crea el espacio de memoria para la grafica y le asigna un tamaño en especifico\n",
    "\n",
    "# La grafica se define como g solo para poderle asignar que las etiquetas en el eje x esten a 45 grados \n",
    "#g2 = sns.countplot(x='COLONIA', data = sbh_incendios,order=pd.value_counts(sbh_incendios['COLONIA']).iloc[1:11].index, palette = 'Paired', hue='CAUSA') \n",
    "g2 = sns.countplot(x='CAUSA', data = sbh_incendios, order = pd.value_counts(sbh_incendios['CAUSA']).iloc[:10].index, palette = 'Paired') \n",
    "loc, labels = plt.xticks()\n",
    "g2.set_xticklabels(labels, rotation=45)"
   ]
  },
  {
   "cell_type": "code",
   "execution_count": 16,
   "metadata": {
    "colab": {},
    "colab_type": "code",
    "id": "Agr_yh-I_9Fl"
   },
   "outputs": [
    {
     "data": {
      "text/plain": [
       "Index(['FUGA DE GAS LP Y/O GAS NATURAL', 'FUGA DE GAS', 'SOBRECARGA',\n",
       "       'FALSA ALARMA', 'CHOQUE', 'ENJAMBRE DE ABEJAS',\n",
       "       'INCENDIO DE CASA DE MATERIAL', 'MAL ESTADO DEL CILINDRO Y/O VALVULAS',\n",
       "       'INCENDIO DE VEHÍCULO', 'CONATO DE INCENDIO', 'FALSA EXPLOSIÓN',\n",
       "       'DERRAME DE COMBUSTIBLE', 'COBERTURA DE SEGURIDAD',\n",
       "       'INCENDIO DE CASA DE CARTÓN', 'EXPLOSIONES', 'REMOJAR',\n",
       "       'FENOMENO NATURAL', 'VOLCAMIENTO', 'INCENDIO DE COMERCIO',\n",
       "       'INCENDIO DE INSTALACIÓN PÚBLICA', 'RETIRO DE ANIMAL',\n",
       "       'INCIDENTE CON MATERIAL PELIGROSO', 'DERRUMBE', 'RESCATE'],\n",
       "      dtype='object')"
      ]
     },
     "execution_count": 16,
     "metadata": {},
     "output_type": "execute_result"
    }
   ],
   "source": [
    "#Con este comando hago una variable tipo lista donde estan todas las causas a partir del index 7\n",
    "#Es decir, .value_counts genera una dataframe ordenada de mayor a menor con todas las veces que un string se repite en la columna de CAUSA\n",
    "sbh_incendios_causas_list = sbh_incendios['CAUSA'].value_counts().iloc[7:].index\n",
    "sbh_incendios_causas_list"
   ]
  },
  {
   "cell_type": "code",
   "execution_count": 17,
   "metadata": {
    "colab": {},
    "colab_type": "code",
    "id": "p0fka0X8Nc68"
   },
   "outputs": [],
   "source": [
    "sbh_incendios_causas = sbh_incendios"
   ]
  },
  {
   "cell_type": "code",
   "execution_count": 18,
   "metadata": {
    "colab": {},
    "colab_type": "code",
    "id": "K7hy_C1NLnhQ"
   },
   "outputs": [
    {
     "data": {
      "text/plain": [
       "FUEGO DIRECTO                           11626\n",
       "CORTO CIRCUITO                            523\n",
       "OTROS                                     272\n",
       "SOBRECALENTAMIENTO                        200\n",
       "INCENDIO DE ZACATE Y BASURA               150\n",
       "FUGA DE COMBUSTIBLE                       121\n",
       "SOBREPRESION                               94\n",
       "FUGA DE GAS LP Y/O GAS NATURAL             73\n",
       "FUGA DE GAS                                61\n",
       "SOBRECARGA                                 56\n",
       "FALSA ALARMA                               50\n",
       "CHOQUE                                     27\n",
       "ENJAMBRE DE ABEJAS                         22\n",
       "INCENDIO DE CASA DE MATERIAL               15\n",
       "MAL ESTADO DEL CILINDRO Y/O VALVULAS       15\n",
       "INCENDIO DE VEHÍCULO                       13\n",
       "CONATO DE INCENDIO                         12\n",
       "FALSA EXPLOSIÓN                            11\n",
       "DERRAME DE COMBUSTIBLE                     11\n",
       "COBERTURA DE SEGURIDAD                      8\n",
       "INCENDIO DE CASA DE CARTÓN                  7\n",
       "EXPLOSIONES                                 5\n",
       "REMOJAR                                     5\n",
       "FENOMENO NATURAL                            5\n",
       "VOLCAMIENTO                                 4\n",
       "INCENDIO DE COMERCIO                        3\n",
       "INCENDIO DE INSTALACIÓN PÚBLICA             3\n",
       "RETIRO DE ANIMAL                            3\n",
       "INCIDENTE CON MATERIAL PELIGROSO            1\n",
       "DERRUMBE                                    1\n",
       "RESCATE                                     1\n",
       "Name: CAUSA, dtype: int64"
      ]
     },
     "execution_count": 18,
     "metadata": {},
     "output_type": "execute_result"
    }
   ],
   "source": [
    "sbh_causas = sbh_incendios['CAUSA'].value_counts()\n",
    "sbh_causas"
   ]
  },
  {
   "cell_type": "code",
   "execution_count": 19,
   "metadata": {
    "colab": {},
    "colab_type": "code",
    "id": "cOFtTkvRAqQ5"
   },
   "outputs": [],
   "source": [
    "#Elimino tododos los elementos que anteriormente estableci en la variable sbh_incendios_causas_list, dejando solamente los primeros 7 con mayor cantidad de casos\n",
    "sbh_incendios_causas = sbh_incendios_causas.drop(sbh_incendios_causas[sbh_incendios_causas['CAUSA'].isin(sbh_incendios_causas_list)].index)"
   ]
  },
  {
   "cell_type": "code",
   "execution_count": 21,
   "metadata": {
    "colab": {},
    "colab_type": "code",
    "id": "DA8H607YMNk-"
   },
   "outputs": [
    {
     "data": {
      "text/plain": [
       "<matplotlib.legend.Legend at 0x1b56fda19e8>"
      ]
     },
     "execution_count": 21,
     "metadata": {},
     "output_type": "execute_result"
    },
    {
     "data": {
      "image/png": "[encoded data removed]",
      "text/plain": [
       "<Figure size 1440x576 with 1 Axes>"
      ]
     },
     "metadata": {
      "needs_background": "light"
     },
     "output_type": "display_data"
    }
   ],
   "source": [
    "plt.figure(figsize=(20,8)) #Crea el espacio de memoria para la grafica y le asigna un tamaño en especifico\n",
    "\n",
    "# La grafica se define como g solo para poderle asignar que las etiquetas en el eje x esten a 45 grados \n",
    "g2 = sns.countplot(x='COLONIA', data = sbh_incendios_causas,order=pd.value_counts(sbh_incendios_causas['COLONIA']).iloc[1:11].index, palette = 'Paired', hue='CAUSA') \n",
    "#g2 = sns.countplot(x='CAUSA', data = sbh_incendios, order = pd.value_counts(sbh_incendios['CAUSA']).iloc[:10].index, palette = 'Paired') \n",
    "loc, labels = plt.xticks()\n",
    "g2.set_xticklabels(labels, rotation=45)\n",
    "plt.legend(bbox_to_anchor=(1.05, 1), loc=2, borderaxespad=0.)"
   ]
  },
  {
   "cell_type": "markdown",
   "metadata": {
    "colab_type": "text",
    "id": "-zVWIwXGAqYJ"
   },
   "source": [
    "# EJERCICIO 4 TIEMPO DE LLEGADA (SALIDA-LLEGADA)"
   ]
  },
  {
   "cell_type": "code",
   "execution_count": 22,
   "metadata": {
    "colab": {},
    "colab_type": "code",
    "id": "nYY34rlrAy6U"
   },
   "outputs": [
    {
     "data": {
      "text/plain": [
       "Timedelta('0 days 00:09:00')"
      ]
     },
     "execution_count": 22,
     "metadata": {},
     "output_type": "execute_result"
    }
   ],
   "source": [
    "#Verificacion de conversion de operacion artimetica de 2 conversiones de string a datetype\n",
    "pd.to_datetime(sbh_incendios['LLEGADA'][0], dayfirst =True) - pd.to_datetime(sbh_incendios['SALIDA'][0], dayfirst =True)"
   ]
  },
  {
   "cell_type": "code",
   "execution_count": 23,
   "metadata": {
    "colab": {},
    "colab_type": "code",
    "id": "gpNRydxLc7w3"
   },
   "outputs": [],
   "source": [
    "#Backup de dataset\n",
    "sbh_incendios_tiempo = sbh_incendios"
   ]
  },
  {
   "cell_type": "code",
   "execution_count": 24,
   "metadata": {
    "colab": {},
    "colab_type": "code",
    "id": "AesA--DVjOPq"
   },
   "outputs": [
    {
     "data": {
      "text/html": [
       "<div>\n",
       "<style scoped>\n",
       "    .dataframe tbody tr th:only-of-type {\n",
       "        vertical-align: middle;\n",
       "    }\n",
       "\n",
       "    .dataframe tbody tr th {\n",
       "        vertical-align: top;\n",
       "    }\n",
       "\n",
       "    .dataframe thead th {\n",
       "        text-align: right;\n",
       "    }\n",
       "</style>\n",
       "<table border=\"1\" class=\"dataframe\">\n",
       "  <thead>\n",
       "    <tr style=\"text-align: right;\">\n",
       "      <th></th>\n",
       "      <th>FOLIO</th>\n",
       "      <th>TIPO</th>\n",
       "      <th>LUGAR</th>\n",
       "      <th>FECHA</th>\n",
       "      <th>SALIDA</th>\n",
       "      <th>LLEGADA</th>\n",
       "      <th>CAUSA</th>\n",
       "      <th>COLONIA</th>\n",
       "      <th>ESTACION</th>\n",
       "      <th>YEAR</th>\n",
       "      <th>MONTH</th>\n",
       "      <th>DAY</th>\n",
       "    </tr>\n",
       "  </thead>\n",
       "  <tbody>\n",
       "    <tr>\n",
       "      <th>0</th>\n",
       "      <td>01012016-0007-INZB-2A</td>\n",
       "      <td>INCENDIO DE ZACATE Y BASURA</td>\n",
       "      <td>COMERCIO</td>\n",
       "      <td>01-01-16</td>\n",
       "      <td>01-01-16 0:07</td>\n",
       "      <td>01-01-16 0:16</td>\n",
       "      <td>FUEGO DIRECTO</td>\n",
       "      <td>SIN COLONIA</td>\n",
       "      <td>2.0</td>\n",
       "      <td>2016</td>\n",
       "      <td>1</td>\n",
       "      <td>1</td>\n",
       "    </tr>\n",
       "    <tr>\n",
       "      <th>1</th>\n",
       "      <td>01012016-0022-INZB-1A</td>\n",
       "      <td>INCENDIO DE ZACATE Y BASURA</td>\n",
       "      <td>CASA</td>\n",
       "      <td>01-01-16</td>\n",
       "      <td>01-01-16 0:22</td>\n",
       "      <td>01-01-16 0:32</td>\n",
       "      <td>FUEGO DIRECTO</td>\n",
       "      <td>LOMAS DE MADRID</td>\n",
       "      <td>1.0</td>\n",
       "      <td>2016</td>\n",
       "      <td>1</td>\n",
       "      <td>1</td>\n",
       "    </tr>\n",
       "    <tr>\n",
       "      <th>2</th>\n",
       "      <td>01012016-0029-IDCM-1A</td>\n",
       "      <td>INCENDIO DE CASA DE MATERIAL</td>\n",
       "      <td>CASA</td>\n",
       "      <td>01-01-16</td>\n",
       "      <td>01-01-16 0:29</td>\n",
       "      <td>01-01-16 0:43</td>\n",
       "      <td>OTROS</td>\n",
       "      <td>PUERTA REAL RESIDENCIAL</td>\n",
       "      <td>1.0</td>\n",
       "      <td>2016</td>\n",
       "      <td>1</td>\n",
       "      <td>1</td>\n",
       "    </tr>\n",
       "    <tr>\n",
       "      <th>3</th>\n",
       "      <td>01012016-0039-INZB-2A</td>\n",
       "      <td>INCENDIO DE ZACATE Y BASURA</td>\n",
       "      <td>VEHICULO</td>\n",
       "      <td>01-01-16</td>\n",
       "      <td>01-01-16 0:39</td>\n",
       "      <td>01-01-16 0:43</td>\n",
       "      <td>FUEGO DIRECTO</td>\n",
       "      <td>NORBERTO ORTEGA</td>\n",
       "      <td>2.0</td>\n",
       "      <td>2016</td>\n",
       "      <td>1</td>\n",
       "      <td>1</td>\n",
       "    </tr>\n",
       "    <tr>\n",
       "      <th>4</th>\n",
       "      <td>01012016-0051-INZB-2A</td>\n",
       "      <td>INCENDIO DE ZACATE Y BASURA</td>\n",
       "      <td>CASA</td>\n",
       "      <td>01-01-16</td>\n",
       "      <td>01-01-16 0:51</td>\n",
       "      <td>01-01-16 0:59</td>\n",
       "      <td>FUEGO DIRECTO</td>\n",
       "      <td>MIGUEL HIDALGO</td>\n",
       "      <td>2.0</td>\n",
       "      <td>2016</td>\n",
       "      <td>1</td>\n",
       "      <td>1</td>\n",
       "    </tr>\n",
       "  </tbody>\n",
       "</table>\n",
       "</div>"
      ],
      "text/plain": [
       "                   FOLIO                          TIPO     LUGAR     FECHA  \\\n",
       "0  01012016-0007-INZB-2A   INCENDIO DE ZACATE Y BASURA  COMERCIO  01-01-16   \n",
       "1  01012016-0022-INZB-1A   INCENDIO DE ZACATE Y BASURA      CASA  01-01-16   \n",
       "2  01012016-0029-IDCM-1A  INCENDIO DE CASA DE MATERIAL      CASA  01-01-16   \n",
       "3  01012016-0039-INZB-2A   INCENDIO DE ZACATE Y BASURA  VEHICULO  01-01-16   \n",
       "4  01012016-0051-INZB-2A   INCENDIO DE ZACATE Y BASURA      CASA  01-01-16   \n",
       "\n",
       "          SALIDA        LLEGADA          CAUSA                  COLONIA  \\\n",
       "0  01-01-16 0:07  01-01-16 0:16  FUEGO DIRECTO              SIN COLONIA   \n",
       "1  01-01-16 0:22  01-01-16 0:32  FUEGO DIRECTO          LOMAS DE MADRID   \n",
       "2  01-01-16 0:29  01-01-16 0:43          OTROS  PUERTA REAL RESIDENCIAL   \n",
       "3  01-01-16 0:39  01-01-16 0:43  FUEGO DIRECTO          NORBERTO ORTEGA   \n",
       "4  01-01-16 0:51  01-01-16 0:59  FUEGO DIRECTO           MIGUEL HIDALGO   \n",
       "\n",
       "   ESTACION  YEAR  MONTH  DAY  \n",
       "0       2.0  2016      1    1  \n",
       "1       1.0  2016      1    1  \n",
       "2       1.0  2016      1    1  \n",
       "3       2.0  2016      1    1  \n",
       "4       2.0  2016      1    1  "
      ]
     },
     "execution_count": 24,
     "metadata": {},
     "output_type": "execute_result"
    }
   ],
   "source": [
    "#Exploracion de datos\n",
    "sbh_incendios_tiempo.head()"
   ]
  },
  {
   "cell_type": "code",
   "execution_count": 25,
   "metadata": {
    "colab": {},
    "colab_type": "code",
    "id": "7zvdNLgWeluX"
   },
   "outputs": [
    {
     "name": "stdout",
     "output_type": "stream",
     "text": [
      "<class 'pandas.core.frame.DataFrame'>\n",
      "Int64Index: 13466 entries, 0 to 22995\n",
      "Data columns (total 12 columns):\n",
      "FOLIO       13466 non-null object\n",
      "TIPO        13466 non-null object\n",
      "LUGAR       13457 non-null object\n",
      "FECHA       13466 non-null object\n",
      "SALIDA      13466 non-null object\n",
      "LLEGADA     13398 non-null object\n",
      "CAUSA       13398 non-null object\n",
      "COLONIA     13200 non-null object\n",
      "ESTACION    13465 non-null float64\n",
      "YEAR        13466 non-null int64\n",
      "MONTH       13466 non-null int64\n",
      "DAY         13466 non-null int64\n",
      "dtypes: float64(1), int64(3), object(8)\n",
      "memory usage: 2.0+ MB\n"
     ]
    }
   ],
   "source": [
    "sbh_incendios_tiempo.info()"
   ]
  },
  {
   "cell_type": "code",
   "execution_count": 26,
   "metadata": {
    "colab": {},
    "colab_type": "code",
    "id": "6wUydLLIc7z4"
   },
   "outputs": [
    {
     "name": "stderr",
     "output_type": "stream",
     "text": [
      "C:\\Users\\Daniel Ramirez\\Anaconda3\\lib\\site-packages\\ipykernel_launcher.py:2: SettingWithCopyWarning: \n",
      "A value is trying to be set on a copy of a slice from a DataFrame.\n",
      "Try using .loc[row_indexer,col_indexer] = value instead\n",
      "\n",
      "See the caveats in the documentation: http://pandas.pydata.org/pandas-docs/stable/indexing.html#indexing-view-versus-copy\n",
      "  \n",
      "C:\\Users\\Daniel Ramirez\\Anaconda3\\lib\\site-packages\\ipykernel_launcher.py:3: SettingWithCopyWarning: \n",
      "A value is trying to be set on a copy of a slice from a DataFrame.\n",
      "Try using .loc[row_indexer,col_indexer] = value instead\n",
      "\n",
      "See the caveats in the documentation: http://pandas.pydata.org/pandas-docs/stable/indexing.html#indexing-view-versus-copy\n",
      "  This is separate from the ipykernel package so we can avoid doing imports until\n",
      "C:\\Users\\Daniel Ramirez\\Anaconda3\\lib\\site-packages\\pandas\\core\\frame.py:3940: SettingWithCopyWarning: \n",
      "A value is trying to be set on a copy of a slice from a DataFrame\n",
      "\n",
      "See the caveats in the documentation: http://pandas.pydata.org/pandas-docs/stable/indexing.html#indexing-view-versus-copy\n",
      "  errors=errors)\n"
     ]
    }
   ],
   "source": [
    "#Agregar 2 columnas nuevas en base al experimento de las celdas ateriores, eliminacion de las dos celdas utilizadas\n",
    "sbh_incendios_tiempo['SALIDADT'] = pd.to_datetime(sbh_incendios_tiempo['SALIDA'], dayfirst = True)\n",
    "sbh_incendios_tiempo['LLEGADADT'] = pd.to_datetime(sbh_incendios_tiempo['LLEGADA'], dayfirst = True)\n",
    "sbh_incendios_tiempo.drop(['SALIDA', 'LLEGADA'], axis = 1, inplace = True)"
   ]
  },
  {
   "cell_type": "code",
   "execution_count": 27,
   "metadata": {
    "colab": {},
    "colab_type": "code",
    "id": "noqr51O4dP1l"
   },
   "outputs": [
    {
     "name": "stdout",
     "output_type": "stream",
     "text": [
      "<class 'pandas.core.frame.DataFrame'>\n",
      "Int64Index: 13466 entries, 0 to 22995\n",
      "Data columns (total 12 columns):\n",
      "FOLIO        13466 non-null object\n",
      "TIPO         13466 non-null object\n",
      "LUGAR        13457 non-null object\n",
      "FECHA        13466 non-null object\n",
      "CAUSA        13398 non-null object\n",
      "COLONIA      13200 non-null object\n",
      "ESTACION     13465 non-null float64\n",
      "YEAR         13466 non-null int64\n",
      "MONTH        13466 non-null int64\n",
      "DAY          13466 non-null int64\n",
      "SALIDADT     13466 non-null datetime64[ns]\n",
      "LLEGADADT    13398 non-null datetime64[ns]\n",
      "dtypes: datetime64[ns](2), float64(1), int64(3), object(6)\n",
      "memory usage: 2.0+ MB\n"
     ]
    }
   ],
   "source": [
    "sbh_incendios_tiempo.info()"
   ]
  },
  {
   "cell_type": "code",
   "execution_count": 28,
   "metadata": {
    "colab": {},
    "colab_type": "code",
    "id": "xzYQ99mMdP55"
   },
   "outputs": [
    {
     "name": "stderr",
     "output_type": "stream",
     "text": [
      "C:\\Users\\Daniel Ramirez\\Anaconda3\\lib\\site-packages\\ipykernel_launcher.py:2: SettingWithCopyWarning: \n",
      "A value is trying to be set on a copy of a slice from a DataFrame.\n",
      "Try using .loc[row_indexer,col_indexer] = value instead\n",
      "\n",
      "See the caveats in the documentation: http://pandas.pydata.org/pandas-docs/stable/indexing.html#indexing-view-versus-copy\n",
      "  \n"
     ]
    }
   ],
   "source": [
    "#int(sbh_incendios_tiempo['TIEMPO LLEGADA'].total_seconds() / 60)\n",
    "sbh_incendios_tiempo['TIEMPO LLEGADA'] = pd.to_timedelta((sbh_incendios_tiempo['LLEGADADT'] - sbh_incendios['SALIDADT']))//(timedelta(minutes=1))"
   ]
  },
  {
   "cell_type": "code",
   "execution_count": 29,
   "metadata": {
    "colab": {},
    "colab_type": "code",
    "id": "sfRmShE5c72_"
   },
   "outputs": [
    {
     "data": {
      "text/html": [
       "<div>\n",
       "<style scoped>\n",
       "    .dataframe tbody tr th:only-of-type {\n",
       "        vertical-align: middle;\n",
       "    }\n",
       "\n",
       "    .dataframe tbody tr th {\n",
       "        vertical-align: top;\n",
       "    }\n",
       "\n",
       "    .dataframe thead th {\n",
       "        text-align: right;\n",
       "    }\n",
       "</style>\n",
       "<table border=\"1\" class=\"dataframe\">\n",
       "  <thead>\n",
       "    <tr style=\"text-align: right;\">\n",
       "      <th></th>\n",
       "      <th>FOLIO</th>\n",
       "      <th>TIPO</th>\n",
       "      <th>LUGAR</th>\n",
       "      <th>FECHA</th>\n",
       "      <th>CAUSA</th>\n",
       "      <th>COLONIA</th>\n",
       "      <th>ESTACION</th>\n",
       "      <th>YEAR</th>\n",
       "      <th>MONTH</th>\n",
       "      <th>DAY</th>\n",
       "      <th>SALIDADT</th>\n",
       "      <th>LLEGADADT</th>\n",
       "      <th>TIEMPO LLEGADA</th>\n",
       "    </tr>\n",
       "  </thead>\n",
       "  <tbody>\n",
       "    <tr>\n",
       "      <th>0</th>\n",
       "      <td>01012016-0007-INZB-2A</td>\n",
       "      <td>INCENDIO DE ZACATE Y BASURA</td>\n",
       "      <td>COMERCIO</td>\n",
       "      <td>01-01-16</td>\n",
       "      <td>FUEGO DIRECTO</td>\n",
       "      <td>SIN COLONIA</td>\n",
       "      <td>2.0</td>\n",
       "      <td>2016</td>\n",
       "      <td>1</td>\n",
       "      <td>1</td>\n",
       "      <td>2016-01-01 00:07:00</td>\n",
       "      <td>2016-01-01 00:16:00</td>\n",
       "      <td>9.0</td>\n",
       "    </tr>\n",
       "    <tr>\n",
       "      <th>1</th>\n",
       "      <td>01012016-0022-INZB-1A</td>\n",
       "      <td>INCENDIO DE ZACATE Y BASURA</td>\n",
       "      <td>CASA</td>\n",
       "      <td>01-01-16</td>\n",
       "      <td>FUEGO DIRECTO</td>\n",
       "      <td>LOMAS DE MADRID</td>\n",
       "      <td>1.0</td>\n",
       "      <td>2016</td>\n",
       "      <td>1</td>\n",
       "      <td>1</td>\n",
       "      <td>2016-01-01 00:22:00</td>\n",
       "      <td>2016-01-01 00:32:00</td>\n",
       "      <td>10.0</td>\n",
       "    </tr>\n",
       "    <tr>\n",
       "      <th>2</th>\n",
       "      <td>01012016-0029-IDCM-1A</td>\n",
       "      <td>INCENDIO DE CASA DE MATERIAL</td>\n",
       "      <td>CASA</td>\n",
       "      <td>01-01-16</td>\n",
       "      <td>OTROS</td>\n",
       "      <td>PUERTA REAL RESIDENCIAL</td>\n",
       "      <td>1.0</td>\n",
       "      <td>2016</td>\n",
       "      <td>1</td>\n",
       "      <td>1</td>\n",
       "      <td>2016-01-01 00:29:00</td>\n",
       "      <td>2016-01-01 00:43:00</td>\n",
       "      <td>14.0</td>\n",
       "    </tr>\n",
       "    <tr>\n",
       "      <th>3</th>\n",
       "      <td>01012016-0039-INZB-2A</td>\n",
       "      <td>INCENDIO DE ZACATE Y BASURA</td>\n",
       "      <td>VEHICULO</td>\n",
       "      <td>01-01-16</td>\n",
       "      <td>FUEGO DIRECTO</td>\n",
       "      <td>NORBERTO ORTEGA</td>\n",
       "      <td>2.0</td>\n",
       "      <td>2016</td>\n",
       "      <td>1</td>\n",
       "      <td>1</td>\n",
       "      <td>2016-01-01 00:39:00</td>\n",
       "      <td>2016-01-01 00:43:00</td>\n",
       "      <td>4.0</td>\n",
       "    </tr>\n",
       "    <tr>\n",
       "      <th>4</th>\n",
       "      <td>01012016-0051-INZB-2A</td>\n",
       "      <td>INCENDIO DE ZACATE Y BASURA</td>\n",
       "      <td>CASA</td>\n",
       "      <td>01-01-16</td>\n",
       "      <td>FUEGO DIRECTO</td>\n",
       "      <td>MIGUEL HIDALGO</td>\n",
       "      <td>2.0</td>\n",
       "      <td>2016</td>\n",
       "      <td>1</td>\n",
       "      <td>1</td>\n",
       "      <td>2016-01-01 00:51:00</td>\n",
       "      <td>2016-01-01 00:59:00</td>\n",
       "      <td>8.0</td>\n",
       "    </tr>\n",
       "  </tbody>\n",
       "</table>\n",
       "</div>"
      ],
      "text/plain": [
       "                   FOLIO                          TIPO     LUGAR     FECHA  \\\n",
       "0  01012016-0007-INZB-2A   INCENDIO DE ZACATE Y BASURA  COMERCIO  01-01-16   \n",
       "1  01012016-0022-INZB-1A   INCENDIO DE ZACATE Y BASURA      CASA  01-01-16   \n",
       "2  01012016-0029-IDCM-1A  INCENDIO DE CASA DE MATERIAL      CASA  01-01-16   \n",
       "3  01012016-0039-INZB-2A   INCENDIO DE ZACATE Y BASURA  VEHICULO  01-01-16   \n",
       "4  01012016-0051-INZB-2A   INCENDIO DE ZACATE Y BASURA      CASA  01-01-16   \n",
       "\n",
       "           CAUSA                  COLONIA  ESTACION  YEAR  MONTH  DAY  \\\n",
       "0  FUEGO DIRECTO              SIN COLONIA       2.0  2016      1    1   \n",
       "1  FUEGO DIRECTO          LOMAS DE MADRID       1.0  2016      1    1   \n",
       "2          OTROS  PUERTA REAL RESIDENCIAL       1.0  2016      1    1   \n",
       "3  FUEGO DIRECTO          NORBERTO ORTEGA       2.0  2016      1    1   \n",
       "4  FUEGO DIRECTO           MIGUEL HIDALGO       2.0  2016      1    1   \n",
       "\n",
       "             SALIDADT           LLEGADADT  TIEMPO LLEGADA  \n",
       "0 2016-01-01 00:07:00 2016-01-01 00:16:00             9.0  \n",
       "1 2016-01-01 00:22:00 2016-01-01 00:32:00            10.0  \n",
       "2 2016-01-01 00:29:00 2016-01-01 00:43:00            14.0  \n",
       "3 2016-01-01 00:39:00 2016-01-01 00:43:00             4.0  \n",
       "4 2016-01-01 00:51:00 2016-01-01 00:59:00             8.0  "
      ]
     },
     "execution_count": 29,
     "metadata": {},
     "output_type": "execute_result"
    }
   ],
   "source": [
    "sbh_incendios_tiempo.head()"
   ]
  },
  {
   "cell_type": "code",
   "execution_count": 30,
   "metadata": {
    "colab": {},
    "colab_type": "code",
    "id": "wlajmRrbg7-O"
   },
   "outputs": [
    {
     "data": {
      "text/plain": [
       "7.0     1305\n",
       "6.0     1279\n",
       "5.0     1261\n",
       "8.0     1215\n",
       "9.0     1041\n",
       "10.0    1001\n",
       "4.0      931\n",
       "11.0     756\n",
       "3.0      665\n",
       "12.0     630\n",
       "Name: TIEMPO LLEGADA, dtype: int64"
      ]
     },
     "execution_count": 30,
     "metadata": {},
     "output_type": "execute_result"
    }
   ],
   "source": [
    "sbh_incendios_tiempo['TIEMPO LLEGADA'].value_counts().iloc[:10]"
   ]
  },
  {
   "cell_type": "code",
   "execution_count": 31,
   "metadata": {
    "colab": {},
    "colab_type": "code",
    "id": "Em7_0zpk-X7w"
   },
   "outputs": [],
   "source": [
    "#Fijar valores de tiempos para poderlos graficar como hue\n",
    "\n",
    "sbh_incendios_tiempo1 = sbh_incendios_tiempo.drop(sbh_incendios_tiempo[sbh_incendios_tiempo['TIEMPO LLEGADA'] <0].index)\n",
    "sbh_incendios_tiempo1 = sbh_incendios_tiempo1.drop(sbh_incendios_tiempo1[sbh_incendios_tiempo1['TIEMPO LLEGADA'] >= 12].index)"
   ]
  },
  {
   "cell_type": "code",
   "execution_count": 32,
   "metadata": {
    "colab": {},
    "colab_type": "code",
    "id": "iJQI9r2sGDsc"
   },
   "outputs": [
    {
     "data": {
      "text/html": [
       "<div>\n",
       "<style scoped>\n",
       "    .dataframe tbody tr th:only-of-type {\n",
       "        vertical-align: middle;\n",
       "    }\n",
       "\n",
       "    .dataframe tbody tr th {\n",
       "        vertical-align: top;\n",
       "    }\n",
       "\n",
       "    .dataframe thead th {\n",
       "        text-align: right;\n",
       "    }\n",
       "</style>\n",
       "<table border=\"1\" class=\"dataframe\">\n",
       "  <thead>\n",
       "    <tr style=\"text-align: right;\">\n",
       "      <th></th>\n",
       "      <th>FOLIO</th>\n",
       "      <th>TIPO</th>\n",
       "      <th>LUGAR</th>\n",
       "      <th>FECHA</th>\n",
       "      <th>CAUSA</th>\n",
       "      <th>COLONIA</th>\n",
       "      <th>ESTACION</th>\n",
       "      <th>YEAR</th>\n",
       "      <th>MONTH</th>\n",
       "      <th>DAY</th>\n",
       "      <th>SALIDADT</th>\n",
       "      <th>LLEGADADT</th>\n",
       "      <th>TIEMPO LLEGADA</th>\n",
       "    </tr>\n",
       "  </thead>\n",
       "  <tbody>\n",
       "    <tr>\n",
       "      <th>0</th>\n",
       "      <td>01012016-0007-INZB-2A</td>\n",
       "      <td>INCENDIO DE ZACATE Y BASURA</td>\n",
       "      <td>COMERCIO</td>\n",
       "      <td>01-01-16</td>\n",
       "      <td>FUEGO DIRECTO</td>\n",
       "      <td>SIN COLONIA</td>\n",
       "      <td>2.0</td>\n",
       "      <td>2016</td>\n",
       "      <td>1</td>\n",
       "      <td>1</td>\n",
       "      <td>2016-01-01 00:07:00</td>\n",
       "      <td>2016-01-01 00:16:00</td>\n",
       "      <td>9.0</td>\n",
       "    </tr>\n",
       "    <tr>\n",
       "      <th>1</th>\n",
       "      <td>01012016-0022-INZB-1A</td>\n",
       "      <td>INCENDIO DE ZACATE Y BASURA</td>\n",
       "      <td>CASA</td>\n",
       "      <td>01-01-16</td>\n",
       "      <td>FUEGO DIRECTO</td>\n",
       "      <td>LOMAS DE MADRID</td>\n",
       "      <td>1.0</td>\n",
       "      <td>2016</td>\n",
       "      <td>1</td>\n",
       "      <td>1</td>\n",
       "      <td>2016-01-01 00:22:00</td>\n",
       "      <td>2016-01-01 00:32:00</td>\n",
       "      <td>10.0</td>\n",
       "    </tr>\n",
       "    <tr>\n",
       "      <th>3</th>\n",
       "      <td>01012016-0039-INZB-2A</td>\n",
       "      <td>INCENDIO DE ZACATE Y BASURA</td>\n",
       "      <td>VEHICULO</td>\n",
       "      <td>01-01-16</td>\n",
       "      <td>FUEGO DIRECTO</td>\n",
       "      <td>NORBERTO ORTEGA</td>\n",
       "      <td>2.0</td>\n",
       "      <td>2016</td>\n",
       "      <td>1</td>\n",
       "      <td>1</td>\n",
       "      <td>2016-01-01 00:39:00</td>\n",
       "      <td>2016-01-01 00:43:00</td>\n",
       "      <td>4.0</td>\n",
       "    </tr>\n",
       "    <tr>\n",
       "      <th>4</th>\n",
       "      <td>01012016-0051-INZB-2A</td>\n",
       "      <td>INCENDIO DE ZACATE Y BASURA</td>\n",
       "      <td>CASA</td>\n",
       "      <td>01-01-16</td>\n",
       "      <td>FUEGO DIRECTO</td>\n",
       "      <td>MIGUEL HIDALGO</td>\n",
       "      <td>2.0</td>\n",
       "      <td>2016</td>\n",
       "      <td>1</td>\n",
       "      <td>1</td>\n",
       "      <td>2016-01-01 00:51:00</td>\n",
       "      <td>2016-01-01 00:59:00</td>\n",
       "      <td>8.0</td>\n",
       "    </tr>\n",
       "    <tr>\n",
       "      <th>5</th>\n",
       "      <td>01012016-0053-IDCM-1A</td>\n",
       "      <td>INCENDIO DE CASA DE MATERIAL</td>\n",
       "      <td>CASA</td>\n",
       "      <td>01-01-16</td>\n",
       "      <td>FUEGO DIRECTO</td>\n",
       "      <td>SANTA FE</td>\n",
       "      <td>1.0</td>\n",
       "      <td>2016</td>\n",
       "      <td>1</td>\n",
       "      <td>1</td>\n",
       "      <td>2016-01-01 00:53:00</td>\n",
       "      <td>2016-01-01 00:58:00</td>\n",
       "      <td>5.0</td>\n",
       "    </tr>\n",
       "  </tbody>\n",
       "</table>\n",
       "</div>"
      ],
      "text/plain": [
       "                   FOLIO                          TIPO     LUGAR     FECHA  \\\n",
       "0  01012016-0007-INZB-2A   INCENDIO DE ZACATE Y BASURA  COMERCIO  01-01-16   \n",
       "1  01012016-0022-INZB-1A   INCENDIO DE ZACATE Y BASURA      CASA  01-01-16   \n",
       "3  01012016-0039-INZB-2A   INCENDIO DE ZACATE Y BASURA  VEHICULO  01-01-16   \n",
       "4  01012016-0051-INZB-2A   INCENDIO DE ZACATE Y BASURA      CASA  01-01-16   \n",
       "5  01012016-0053-IDCM-1A  INCENDIO DE CASA DE MATERIAL      CASA  01-01-16   \n",
       "\n",
       "           CAUSA          COLONIA  ESTACION  YEAR  MONTH  DAY  \\\n",
       "0  FUEGO DIRECTO      SIN COLONIA       2.0  2016      1    1   \n",
       "1  FUEGO DIRECTO  LOMAS DE MADRID       1.0  2016      1    1   \n",
       "3  FUEGO DIRECTO  NORBERTO ORTEGA       2.0  2016      1    1   \n",
       "4  FUEGO DIRECTO   MIGUEL HIDALGO       2.0  2016      1    1   \n",
       "5  FUEGO DIRECTO         SANTA FE       1.0  2016      1    1   \n",
       "\n",
       "             SALIDADT           LLEGADADT  TIEMPO LLEGADA  \n",
       "0 2016-01-01 00:07:00 2016-01-01 00:16:00             9.0  \n",
       "1 2016-01-01 00:22:00 2016-01-01 00:32:00            10.0  \n",
       "3 2016-01-01 00:39:00 2016-01-01 00:43:00             4.0  \n",
       "4 2016-01-01 00:51:00 2016-01-01 00:59:00             8.0  \n",
       "5 2016-01-01 00:53:00 2016-01-01 00:58:00             5.0  "
      ]
     },
     "execution_count": 32,
     "metadata": {},
     "output_type": "execute_result"
    }
   ],
   "source": [
    "sbh_incendios_tiempo1.head()"
   ]
  },
  {
   "cell_type": "code",
   "execution_count": 33,
   "metadata": {
    "colab": {},
    "colab_type": "code",
    "id": "MCkCMPIOxiYE"
   },
   "outputs": [
    {
     "data": {
      "text/plain": [
       "numpy.float64"
      ]
     },
     "execution_count": 33,
     "metadata": {},
     "output_type": "execute_result"
    }
   ],
   "source": [
    "type(sbh_incendios_tiempo1['TIEMPO LLEGADA'][0])"
   ]
  },
  {
   "cell_type": "code",
   "execution_count": 34,
   "metadata": {
    "colab": {},
    "colab_type": "code",
    "id": "zEQHNB3Ue837"
   },
   "outputs": [
    {
     "data": {
      "text/plain": [
       "[Text(0, 0, 'CENTRO'),\n",
       " Text(0, 0, 'SIN COLONIA'),\n",
       " Text(0, 0, 'SOLIDARIDAD'),\n",
       " Text(0, 0, 'NUEVO HERMOSILLO'),\n",
       " Text(0, 0, 'PARQUE INDUSTRIAL'),\n",
       " Text(0, 0, 'ALTARES'),\n",
       " Text(0, 0, 'SAHUARO'),\n",
       " Text(0, 0, '5 DE MAYO'),\n",
       " Text(0, 0, 'PROYECTO RIO SONORA'),\n",
       " Text(0, 0, 'SAN BENITO'),\n",
       " Text(0, 0, 'LAS LOMAS')]"
      ]
     },
     "execution_count": 34,
     "metadata": {},
     "output_type": "execute_result"
    },
    {
     "data": {
      "image/png": "[encoded data removed]",
      "text/plain": [
       "<Figure size 1440x576 with 1 Axes>"
      ]
     },
     "metadata": {
      "needs_background": "light"
     },
     "output_type": "display_data"
    }
   ],
   "source": [
    "plt.figure(figsize=(20,8)) #Crea el espacio de memoria para la grafica y le asigna un tamaño en especifico\n",
    "\n",
    "# La grafica se define como g solo para poderle asignar que las etiquetas en el eje x esten a 45 grados \n",
    "g4 = sns.countplot(x='COLONIA', data = sbh_incendios_tiempo1,order=pd.value_counts(sbh_incendios_tiempo1['COLONIA']).iloc[0:11].index, palette = 'Paired', hue= 'TIEMPO LLEGADA') \n",
    "loc, labels = plt.xticks()\n",
    "g4.set_xticklabels(labels, rotation=45)"
   ]
  },
  {
   "cell_type": "markdown",
   "metadata": {
    "colab_type": "text",
    "id": "pbn1cXQCA0wa"
   },
   "source": [
    "# EJERCICIO 5 % DE LLAMADAS DE FALSA ALARMA\n",
    "\n",
    "De las 15 colonias con mas incendios cuantas llamadas fueron falsas\n",
    "\n"
   ]
  },
  {
   "cell_type": "code",
   "execution_count": 35,
   "metadata": {
    "colab": {},
    "colab_type": "code",
    "id": "_KNw4mR8A7bW"
   },
   "outputs": [
    {
     "data": {
      "text/plain": [
       "50"
      ]
     },
     "execution_count": 35,
     "metadata": {},
     "output_type": "execute_result"
    }
   ],
   "source": [
    "#Comprobación que en la columna de causas contiene la palabra FALSA ALARMA\n",
    "sbh_incendios['CAUSA'].str.contains(r'FALSA ALARMA').sum()"
   ]
  },
  {
   "cell_type": "code",
   "execution_count": 36,
   "metadata": {
    "colab": {},
    "colab_type": "code",
    "id": "ThfrDxcoN3Nl"
   },
   "outputs": [
    {
     "name": "stderr",
     "output_type": "stream",
     "text": [
      "C:\\Users\\Daniel Ramirez\\Anaconda3\\lib\\site-packages\\ipykernel_launcher.py:5: SettingWithCopyWarning: \n",
      "A value is trying to be set on a copy of a slice from a DataFrame.\n",
      "Try using .loc[row_indexer,col_indexer] = value instead\n",
      "\n",
      "See the caveats in the documentation: http://pandas.pydata.org/pandas-docs/stable/indexing.html#indexing-view-versus-copy\n",
      "  \"\"\"\n"
     ]
    }
   ],
   "source": [
    "#Hago un nuevo DATAFRAME solamente para este ejercicio donde agrego una nueva columna que se agregara 0 o 1 si cumple la condicion\n",
    "#Recordemos que esa funcion regresa FALSE o TRUE\n",
    "#Agregue una nueva columna para poderla usar como HUE en la grafica\n",
    "sbh_incendios_falsa_alarma = sbh_incendios\n",
    "sbh_incendios_falsa_alarma['Falsa Alarma'] =sbh_incendios_falsa_alarma['CAUSA'].str.contains(r'FALSA ALARMA')\n",
    " "
   ]
  },
  {
   "cell_type": "code",
   "execution_count": 37,
   "metadata": {
    "colab": {},
    "colab_type": "code",
    "id": "IjwoHCjtU-CN"
   },
   "outputs": [
    {
     "data": {
      "text/html": [
       "<div>\n",
       "<style scoped>\n",
       "    .dataframe tbody tr th:only-of-type {\n",
       "        vertical-align: middle;\n",
       "    }\n",
       "\n",
       "    .dataframe tbody tr th {\n",
       "        vertical-align: top;\n",
       "    }\n",
       "\n",
       "    .dataframe thead th {\n",
       "        text-align: right;\n",
       "    }\n",
       "</style>\n",
       "<table border=\"1\" class=\"dataframe\">\n",
       "  <thead>\n",
       "    <tr style=\"text-align: right;\">\n",
       "      <th></th>\n",
       "      <th>FOLIO</th>\n",
       "      <th>TIPO</th>\n",
       "      <th>LUGAR</th>\n",
       "      <th>FECHA</th>\n",
       "      <th>CAUSA</th>\n",
       "      <th>COLONIA</th>\n",
       "      <th>ESTACION</th>\n",
       "      <th>YEAR</th>\n",
       "      <th>MONTH</th>\n",
       "      <th>DAY</th>\n",
       "      <th>SALIDADT</th>\n",
       "      <th>LLEGADADT</th>\n",
       "      <th>TIEMPO LLEGADA</th>\n",
       "      <th>Falsa Alarma</th>\n",
       "    </tr>\n",
       "  </thead>\n",
       "  <tbody>\n",
       "    <tr>\n",
       "      <th>0</th>\n",
       "      <td>01012016-0007-INZB-2A</td>\n",
       "      <td>INCENDIO DE ZACATE Y BASURA</td>\n",
       "      <td>COMERCIO</td>\n",
       "      <td>01-01-16</td>\n",
       "      <td>FUEGO DIRECTO</td>\n",
       "      <td>SIN COLONIA</td>\n",
       "      <td>2.0</td>\n",
       "      <td>2016</td>\n",
       "      <td>1</td>\n",
       "      <td>1</td>\n",
       "      <td>2016-01-01 00:07:00</td>\n",
       "      <td>2016-01-01 00:16:00</td>\n",
       "      <td>9.0</td>\n",
       "      <td>False</td>\n",
       "    </tr>\n",
       "    <tr>\n",
       "      <th>1</th>\n",
       "      <td>01012016-0022-INZB-1A</td>\n",
       "      <td>INCENDIO DE ZACATE Y BASURA</td>\n",
       "      <td>CASA</td>\n",
       "      <td>01-01-16</td>\n",
       "      <td>FUEGO DIRECTO</td>\n",
       "      <td>LOMAS DE MADRID</td>\n",
       "      <td>1.0</td>\n",
       "      <td>2016</td>\n",
       "      <td>1</td>\n",
       "      <td>1</td>\n",
       "      <td>2016-01-01 00:22:00</td>\n",
       "      <td>2016-01-01 00:32:00</td>\n",
       "      <td>10.0</td>\n",
       "      <td>False</td>\n",
       "    </tr>\n",
       "    <tr>\n",
       "      <th>2</th>\n",
       "      <td>01012016-0029-IDCM-1A</td>\n",
       "      <td>INCENDIO DE CASA DE MATERIAL</td>\n",
       "      <td>CASA</td>\n",
       "      <td>01-01-16</td>\n",
       "      <td>OTROS</td>\n",
       "      <td>PUERTA REAL RESIDENCIAL</td>\n",
       "      <td>1.0</td>\n",
       "      <td>2016</td>\n",
       "      <td>1</td>\n",
       "      <td>1</td>\n",
       "      <td>2016-01-01 00:29:00</td>\n",
       "      <td>2016-01-01 00:43:00</td>\n",
       "      <td>14.0</td>\n",
       "      <td>False</td>\n",
       "    </tr>\n",
       "    <tr>\n",
       "      <th>3</th>\n",
       "      <td>01012016-0039-INZB-2A</td>\n",
       "      <td>INCENDIO DE ZACATE Y BASURA</td>\n",
       "      <td>VEHICULO</td>\n",
       "      <td>01-01-16</td>\n",
       "      <td>FUEGO DIRECTO</td>\n",
       "      <td>NORBERTO ORTEGA</td>\n",
       "      <td>2.0</td>\n",
       "      <td>2016</td>\n",
       "      <td>1</td>\n",
       "      <td>1</td>\n",
       "      <td>2016-01-01 00:39:00</td>\n",
       "      <td>2016-01-01 00:43:00</td>\n",
       "      <td>4.0</td>\n",
       "      <td>False</td>\n",
       "    </tr>\n",
       "    <tr>\n",
       "      <th>4</th>\n",
       "      <td>01012016-0051-INZB-2A</td>\n",
       "      <td>INCENDIO DE ZACATE Y BASURA</td>\n",
       "      <td>CASA</td>\n",
       "      <td>01-01-16</td>\n",
       "      <td>FUEGO DIRECTO</td>\n",
       "      <td>MIGUEL HIDALGO</td>\n",
       "      <td>2.0</td>\n",
       "      <td>2016</td>\n",
       "      <td>1</td>\n",
       "      <td>1</td>\n",
       "      <td>2016-01-01 00:51:00</td>\n",
       "      <td>2016-01-01 00:59:00</td>\n",
       "      <td>8.0</td>\n",
       "      <td>False</td>\n",
       "    </tr>\n",
       "  </tbody>\n",
       "</table>\n",
       "</div>"
      ],
      "text/plain": [
       "                   FOLIO                          TIPO     LUGAR     FECHA  \\\n",
       "0  01012016-0007-INZB-2A   INCENDIO DE ZACATE Y BASURA  COMERCIO  01-01-16   \n",
       "1  01012016-0022-INZB-1A   INCENDIO DE ZACATE Y BASURA      CASA  01-01-16   \n",
       "2  01012016-0029-IDCM-1A  INCENDIO DE CASA DE MATERIAL      CASA  01-01-16   \n",
       "3  01012016-0039-INZB-2A   INCENDIO DE ZACATE Y BASURA  VEHICULO  01-01-16   \n",
       "4  01012016-0051-INZB-2A   INCENDIO DE ZACATE Y BASURA      CASA  01-01-16   \n",
       "\n",
       "           CAUSA                  COLONIA  ESTACION  YEAR  MONTH  DAY  \\\n",
       "0  FUEGO DIRECTO              SIN COLONIA       2.0  2016      1    1   \n",
       "1  FUEGO DIRECTO          LOMAS DE MADRID       1.0  2016      1    1   \n",
       "2          OTROS  PUERTA REAL RESIDENCIAL       1.0  2016      1    1   \n",
       "3  FUEGO DIRECTO          NORBERTO ORTEGA       2.0  2016      1    1   \n",
       "4  FUEGO DIRECTO           MIGUEL HIDALGO       2.0  2016      1    1   \n",
       "\n",
       "             SALIDADT           LLEGADADT  TIEMPO LLEGADA Falsa Alarma  \n",
       "0 2016-01-01 00:07:00 2016-01-01 00:16:00             9.0        False  \n",
       "1 2016-01-01 00:22:00 2016-01-01 00:32:00            10.0        False  \n",
       "2 2016-01-01 00:29:00 2016-01-01 00:43:00            14.0        False  \n",
       "3 2016-01-01 00:39:00 2016-01-01 00:43:00             4.0        False  \n",
       "4 2016-01-01 00:51:00 2016-01-01 00:59:00             8.0        False  "
      ]
     },
     "execution_count": 37,
     "metadata": {},
     "output_type": "execute_result"
    }
   ],
   "source": [
    "sbh_incendios_falsa_alarma.head()"
   ]
  },
  {
   "cell_type": "code",
   "execution_count": 38,
   "metadata": {
    "colab": {},
    "colab_type": "code",
    "id": "rojlo_VvQl9o"
   },
   "outputs": [
    {
     "name": "stdout",
     "output_type": "stream",
     "text": [
      "<class 'pandas.core.frame.DataFrame'>\n",
      "Int64Index: 13466 entries, 0 to 22995\n",
      "Data columns (total 14 columns):\n",
      "FOLIO             13466 non-null object\n",
      "TIPO              13466 non-null object\n",
      "LUGAR             13457 non-null object\n",
      "FECHA             13466 non-null object\n",
      "CAUSA             13398 non-null object\n",
      "COLONIA           13200 non-null object\n",
      "ESTACION          13465 non-null float64\n",
      "YEAR              13466 non-null int64\n",
      "MONTH             13466 non-null int64\n",
      "DAY               13466 non-null int64\n",
      "SALIDADT          13466 non-null datetime64[ns]\n",
      "LLEGADADT         13398 non-null datetime64[ns]\n",
      "TIEMPO LLEGADA    13398 non-null float64\n",
      "Falsa Alarma      13398 non-null object\n",
      "dtypes: datetime64[ns](2), float64(2), int64(3), object(7)\n",
      "memory usage: 2.2+ MB\n"
     ]
    }
   ],
   "source": [
    "sbh_incendios_falsa_alarma.info()"
   ]
  },
  {
   "cell_type": "code",
   "execution_count": 39,
   "metadata": {
    "colab": {},
    "colab_type": "code",
    "id": "d-tfyMWsSEPx"
   },
   "outputs": [
    {
     "data": {
      "text/plain": [
       "[Text(0, 0, 'CENTRO'),\n",
       " Text(0, 0, 'PARQUE INDUSTRIAL'),\n",
       " Text(0, 0, 'ALTARES'),\n",
       " Text(0, 0, 'SOLIDARIDAD'),\n",
       " Text(0, 0, 'NUEVO HERMOSILLO'),\n",
       " Text(0, 0, 'SAHUARO'),\n",
       " Text(0, 0, 'PROYECTO RIO SONORA'),\n",
       " Text(0, 0, 'CARRETERA A KINO'),\n",
       " Text(0, 0, '5 DE MAYO'),\n",
       " Text(0, 0, 'LAS LOMAS'),\n",
       " Text(0, 0, 'PALO VERDE'),\n",
       " Text(0, 0, 'LOS OLIVOS'),\n",
       " Text(0, 0, 'SAN BENITO'),\n",
       " Text(0, 0, 'SAN LUIS')]"
      ]
     },
     "execution_count": 39,
     "metadata": {},
     "output_type": "execute_result"
    },
    {
     "data": {
      "image/png": "[encoded data removed]",
      "text/plain": [
       "<Figure size 1440x576 with 1 Axes>"
      ]
     },
     "metadata": {
      "needs_background": "light"
     },
     "output_type": "display_data"
    }
   ],
   "source": [
    "#Graficamos \n",
    "plt.figure(figsize=(20,8)) #Crea el espacio de memoria para la grafica y le asigna un tamaño en especifico\n",
    "\n",
    "# La grafica se define como g solo para poderle asignar que las etiquetas en el eje x esten a 45 grados \n",
    "g5 = sns.countplot(x='COLONIA', data = sbh_incendios,order=pd.value_counts(sbh_incendios['COLONIA']).iloc[1:15].index, palette = 'Paired', hue = 'Falsa Alarma') \n",
    "loc, labels = plt.xticks()\n",
    "g5.set_xticklabels(labels, rotation=45)"
   ]
  },
  {
   "cell_type": "code",
   "execution_count": 40,
   "metadata": {
    "colab": {},
    "colab_type": "code",
    "id": "DMUbcZcQTMqG"
   },
   "outputs": [
    {
     "data": {
      "text/plain": [
       "0.37130551017377095"
      ]
     },
     "execution_count": 40,
     "metadata": {},
     "output_type": "execute_result"
    }
   ],
   "source": [
    "#(Numero de llamadas Falsas / Total de llamadas) *100\n",
    "Porcentaje_Falsas_Alarmas = (sbh_incendios_falsa_alarma['Falsa Alarma'].sum()/len(sbh_incendios_falsa_alarma['Falsa Alarma']))*100\n",
    "Porcentaje_Falsas_Alarmas"
   ]
  },
  {
   "cell_type": "code",
   "execution_count": 41,
   "metadata": {
    "colab": {},
    "colab_type": "code",
    "id": "mGwnCG2qVujk"
   },
   "outputs": [
    {
     "name": "stdout",
     "output_type": "stream",
     "text": [
      "<class 'pandas.core.frame.DataFrame'>\n",
      "RangeIndex: 22996 entries, 0 to 22995\n",
      "Data columns (total 9 columns):\n",
      "FOLIO       22996 non-null object\n",
      "TIPO        22989 non-null object\n",
      "LUGAR       22974 non-null object\n",
      "FECHA       22996 non-null object\n",
      "SALIDA      22996 non-null object\n",
      "LLEGADA     22869 non-null object\n",
      "CAUSA       22740 non-null object\n",
      "COLONIA     22560 non-null object\n",
      "ESTACION    22995 non-null float64\n",
      "dtypes: float64(1), object(8)\n",
      "memory usage: 1.6+ MB\n"
     ]
    }
   ],
   "source": [
    "SBH.info()"
   ]
  },
  {
   "cell_type": "code",
   "execution_count": 42,
   "metadata": {
    "colab": {},
    "colab_type": "code",
    "id": "kao6y9ltp1SV"
   },
   "outputs": [
    {
     "data": {
      "text/plain": [
       "1393"
      ]
     },
     "execution_count": 42,
     "metadata": {},
     "output_type": "execute_result"
    }
   ],
   "source": [
    "(SBH['TIPO']=='FALSA ALARMA').sum()"
   ]
  },
  {
   "cell_type": "code",
   "execution_count": 43,
   "metadata": {
    "colab": {},
    "colab_type": "code",
    "id": "T91u2XAap1Vl"
   },
   "outputs": [
    {
     "data": {
      "text/plain": [
       "6.057575230474866"
      ]
     },
     "execution_count": 43,
     "metadata": {},
     "output_type": "execute_result"
    }
   ],
   "source": [
    "((SBH['TIPO']=='FALSA ALARMA').sum()/len(SBH))*100"
   ]
  },
  {
   "cell_type": "code",
   "execution_count": 0,
   "metadata": {
    "colab": {},
    "colab_type": "code",
    "id": "eu4Xci3YqXGY"
   },
   "outputs": [],
   "source": []
  },
  {
   "cell_type": "markdown",
   "metadata": {
    "colab_type": "text",
    "id": "bZK-yNuTWUaO"
   },
   "source": [
    "# EJERCICIO 6 % DE INCENDIOS DE MALESA\n",
    "Si analizamos un poco el dataset podemos ver que en las columas de TIPO y CAUSA hay strings de INCENDIO DE ZACATE y BASURA,\n",
    "en este caso tomaremos la columna de TIPO"
   ]
  },
  {
   "cell_type": "code",
   "execution_count": 44,
   "metadata": {
    "colab": {},
    "colab_type": "code",
    "id": "xqyG-wd1X7cm"
   },
   "outputs": [
    {
     "data": {
      "text/plain": [
       "FUEGO DIRECTO                           11626\n",
       "CORTO CIRCUITO                            523\n",
       "OTROS                                     272\n",
       "SOBRECALENTAMIENTO                        200\n",
       "INCENDIO DE ZACATE Y BASURA               150\n",
       "FUGA DE COMBUSTIBLE                       121\n",
       "SOBREPRESION                               94\n",
       "FUGA DE GAS LP Y/O GAS NATURAL             73\n",
       "FUGA DE GAS                                61\n",
       "SOBRECARGA                                 56\n",
       "FALSA ALARMA                               50\n",
       "CHOQUE                                     27\n",
       "ENJAMBRE DE ABEJAS                         22\n",
       "INCENDIO DE CASA DE MATERIAL               15\n",
       "MAL ESTADO DEL CILINDRO Y/O VALVULAS       15\n",
       "INCENDIO DE VEHÍCULO                       13\n",
       "CONATO DE INCENDIO                         12\n",
       "FALSA EXPLOSIÓN                            11\n",
       "DERRAME DE COMBUSTIBLE                     11\n",
       "COBERTURA DE SEGURIDAD                      8\n",
       "INCENDIO DE CASA DE CARTÓN                  7\n",
       "EXPLOSIONES                                 5\n",
       "REMOJAR                                     5\n",
       "FENOMENO NATURAL                            5\n",
       "VOLCAMIENTO                                 4\n",
       "INCENDIO DE COMERCIO                        3\n",
       "INCENDIO DE INSTALACIÓN PÚBLICA             3\n",
       "RETIRO DE ANIMAL                            3\n",
       "INCIDENTE CON MATERIAL PELIGROSO            1\n",
       "DERRUMBE                                    1\n",
       "RESCATE                                     1\n",
       "Name: CAUSA, dtype: int64"
      ]
     },
     "execution_count": 44,
     "metadata": {},
     "output_type": "execute_result"
    }
   ],
   "source": [
    "sbh_incendios['CAUSA'].value_counts()"
   ]
  },
  {
   "cell_type": "code",
   "execution_count": 45,
   "metadata": {
    "colab": {},
    "colab_type": "code",
    "id": "28jzu7s0X7mr"
   },
   "outputs": [
    {
     "data": {
      "text/plain": [
       "150"
      ]
     },
     "execution_count": 45,
     "metadata": {},
     "output_type": "execute_result"
    }
   ],
   "source": [
    "#Comprobación que en la columna de causas contiene la palabra INCENDIO DE ZACATE Y BASURA\n",
    "sbh_incendios['CAUSA'].str.contains(r'INCENDIO DE ZACATE Y BASURA').sum()"
   ]
  },
  {
   "cell_type": "code",
   "execution_count": 46,
   "metadata": {
    "colab": {},
    "colab_type": "code",
    "id": "dZxsFD6aWxNv"
   },
   "outputs": [
    {
     "data": {
      "text/plain": [
       "INCENDIO DE ZACATE Y BASURA        9434\n",
       "INCENDIO DE CASA DE MATERIAL       1926\n",
       "INCENDIO DE VEHÍCULO               1059\n",
       "INCENDIO DE CASA DE CARTÓN          450\n",
       "INCENDIO DE COMERCIO                322\n",
       "INCENDIO DE INSTALACIÓN PÚBLICA     135\n",
       "CONATO DE INCENDIO                   76\n",
       "INCENDIO DE INDUSTRIA                34\n",
       "INCENDIO DE ALMACEN                  30\n",
       "Name: TIPO, dtype: int64"
      ]
     },
     "execution_count": 46,
     "metadata": {},
     "output_type": "execute_result"
    }
   ],
   "source": [
    "#El string MALEZA no viene en el dataset, lo tomares como INCENDIO DE ZACATE Y BASURA \n",
    "sbh_incendios['TIPO'].value_counts()"
   ]
  },
  {
   "cell_type": "code",
   "execution_count": 47,
   "metadata": {
    "colab": {},
    "colab_type": "code",
    "id": "mI5e5d68Wk16"
   },
   "outputs": [
    {
     "data": {
      "text/plain": [
       "9434"
      ]
     },
     "execution_count": 47,
     "metadata": {},
     "output_type": "execute_result"
    }
   ],
   "source": [
    "#Comprobación que en la columna de causas contiene la palabra INCENDIO DE ZACATE Y BASURA\n",
    "sbh_incendios['TIPO'].str.contains(r'INCENDIO DE ZACATE Y BASURA').sum()"
   ]
  },
  {
   "cell_type": "code",
   "execution_count": 49,
   "metadata": {
    "colab": {},
    "colab_type": "code",
    "id": "dtlH3ZJcXIoR"
   },
   "outputs": [
    {
     "name": "stderr",
     "output_type": "stream",
     "text": [
      "C:\\Users\\Daniel Ramirez\\Anaconda3\\lib\\site-packages\\ipykernel_launcher.py:5: SettingWithCopyWarning: \n",
      "A value is trying to be set on a copy of a slice from a DataFrame.\n",
      "Try using .loc[row_indexer,col_indexer] = value instead\n",
      "\n",
      "See the caveats in the documentation: http://pandas.pydata.org/pandas-docs/stable/indexing.html#indexing-view-versus-copy\n",
      "  \"\"\"\n"
     ]
    }
   ],
   "source": [
    "#Hago un nuevo DATAFRAME solamente para este ejercicio donde agrego una nueva columna que se agregara 0 o 1 si cumple la condicion\n",
    "#Recordemos que esa funcion regresa FALSE o TRUE\n",
    "#Agregue una nueva columna para poderla usar como HUE en la grafica\n",
    "sbh_incendios_maleza = sbh_incendios\n",
    "sbh_incendios_maleza['Maleza'] =sbh_incendios_maleza['TIPO'].str.contains(r'INCENDIO DE ZACATE Y BASURA')"
   ]
  },
  {
   "cell_type": "code",
   "execution_count": 50,
   "metadata": {
    "colab": {},
    "colab_type": "code",
    "id": "7GZYFGkDYFYi"
   },
   "outputs": [
    {
     "data": {
      "text/html": [
       "<div>\n",
       "<style scoped>\n",
       "    .dataframe tbody tr th:only-of-type {\n",
       "        vertical-align: middle;\n",
       "    }\n",
       "\n",
       "    .dataframe tbody tr th {\n",
       "        vertical-align: top;\n",
       "    }\n",
       "\n",
       "    .dataframe thead th {\n",
       "        text-align: right;\n",
       "    }\n",
       "</style>\n",
       "<table border=\"1\" class=\"dataframe\">\n",
       "  <thead>\n",
       "    <tr style=\"text-align: right;\">\n",
       "      <th></th>\n",
       "      <th>FOLIO</th>\n",
       "      <th>TIPO</th>\n",
       "      <th>LUGAR</th>\n",
       "      <th>FECHA</th>\n",
       "      <th>CAUSA</th>\n",
       "      <th>COLONIA</th>\n",
       "      <th>ESTACION</th>\n",
       "      <th>YEAR</th>\n",
       "      <th>MONTH</th>\n",
       "      <th>DAY</th>\n",
       "      <th>SALIDADT</th>\n",
       "      <th>LLEGADADT</th>\n",
       "      <th>TIEMPO LLEGADA</th>\n",
       "      <th>Falsa Alarma</th>\n",
       "      <th>Maleza</th>\n",
       "    </tr>\n",
       "  </thead>\n",
       "  <tbody>\n",
       "    <tr>\n",
       "      <th>0</th>\n",
       "      <td>01012016-0007-INZB-2A</td>\n",
       "      <td>INCENDIO DE ZACATE Y BASURA</td>\n",
       "      <td>COMERCIO</td>\n",
       "      <td>01-01-16</td>\n",
       "      <td>FUEGO DIRECTO</td>\n",
       "      <td>SIN COLONIA</td>\n",
       "      <td>2.0</td>\n",
       "      <td>2016</td>\n",
       "      <td>1</td>\n",
       "      <td>1</td>\n",
       "      <td>2016-01-01 00:07:00</td>\n",
       "      <td>2016-01-01 00:16:00</td>\n",
       "      <td>9.0</td>\n",
       "      <td>False</td>\n",
       "      <td>True</td>\n",
       "    </tr>\n",
       "    <tr>\n",
       "      <th>1</th>\n",
       "      <td>01012016-0022-INZB-1A</td>\n",
       "      <td>INCENDIO DE ZACATE Y BASURA</td>\n",
       "      <td>CASA</td>\n",
       "      <td>01-01-16</td>\n",
       "      <td>FUEGO DIRECTO</td>\n",
       "      <td>LOMAS DE MADRID</td>\n",
       "      <td>1.0</td>\n",
       "      <td>2016</td>\n",
       "      <td>1</td>\n",
       "      <td>1</td>\n",
       "      <td>2016-01-01 00:22:00</td>\n",
       "      <td>2016-01-01 00:32:00</td>\n",
       "      <td>10.0</td>\n",
       "      <td>False</td>\n",
       "      <td>True</td>\n",
       "    </tr>\n",
       "    <tr>\n",
       "      <th>2</th>\n",
       "      <td>01012016-0029-IDCM-1A</td>\n",
       "      <td>INCENDIO DE CASA DE MATERIAL</td>\n",
       "      <td>CASA</td>\n",
       "      <td>01-01-16</td>\n",
       "      <td>OTROS</td>\n",
       "      <td>PUERTA REAL RESIDENCIAL</td>\n",
       "      <td>1.0</td>\n",
       "      <td>2016</td>\n",
       "      <td>1</td>\n",
       "      <td>1</td>\n",
       "      <td>2016-01-01 00:29:00</td>\n",
       "      <td>2016-01-01 00:43:00</td>\n",
       "      <td>14.0</td>\n",
       "      <td>False</td>\n",
       "      <td>False</td>\n",
       "    </tr>\n",
       "    <tr>\n",
       "      <th>3</th>\n",
       "      <td>01012016-0039-INZB-2A</td>\n",
       "      <td>INCENDIO DE ZACATE Y BASURA</td>\n",
       "      <td>VEHICULO</td>\n",
       "      <td>01-01-16</td>\n",
       "      <td>FUEGO DIRECTO</td>\n",
       "      <td>NORBERTO ORTEGA</td>\n",
       "      <td>2.0</td>\n",
       "      <td>2016</td>\n",
       "      <td>1</td>\n",
       "      <td>1</td>\n",
       "      <td>2016-01-01 00:39:00</td>\n",
       "      <td>2016-01-01 00:43:00</td>\n",
       "      <td>4.0</td>\n",
       "      <td>False</td>\n",
       "      <td>True</td>\n",
       "    </tr>\n",
       "    <tr>\n",
       "      <th>4</th>\n",
       "      <td>01012016-0051-INZB-2A</td>\n",
       "      <td>INCENDIO DE ZACATE Y BASURA</td>\n",
       "      <td>CASA</td>\n",
       "      <td>01-01-16</td>\n",
       "      <td>FUEGO DIRECTO</td>\n",
       "      <td>MIGUEL HIDALGO</td>\n",
       "      <td>2.0</td>\n",
       "      <td>2016</td>\n",
       "      <td>1</td>\n",
       "      <td>1</td>\n",
       "      <td>2016-01-01 00:51:00</td>\n",
       "      <td>2016-01-01 00:59:00</td>\n",
       "      <td>8.0</td>\n",
       "      <td>False</td>\n",
       "      <td>True</td>\n",
       "    </tr>\n",
       "  </tbody>\n",
       "</table>\n",
       "</div>"
      ],
      "text/plain": [
       "                   FOLIO                          TIPO     LUGAR     FECHA  \\\n",
       "0  01012016-0007-INZB-2A   INCENDIO DE ZACATE Y BASURA  COMERCIO  01-01-16   \n",
       "1  01012016-0022-INZB-1A   INCENDIO DE ZACATE Y BASURA      CASA  01-01-16   \n",
       "2  01012016-0029-IDCM-1A  INCENDIO DE CASA DE MATERIAL      CASA  01-01-16   \n",
       "3  01012016-0039-INZB-2A   INCENDIO DE ZACATE Y BASURA  VEHICULO  01-01-16   \n",
       "4  01012016-0051-INZB-2A   INCENDIO DE ZACATE Y BASURA      CASA  01-01-16   \n",
       "\n",
       "           CAUSA                  COLONIA  ESTACION  YEAR  MONTH  DAY  \\\n",
       "0  FUEGO DIRECTO              SIN COLONIA       2.0  2016      1    1   \n",
       "1  FUEGO DIRECTO          LOMAS DE MADRID       1.0  2016      1    1   \n",
       "2          OTROS  PUERTA REAL RESIDENCIAL       1.0  2016      1    1   \n",
       "3  FUEGO DIRECTO          NORBERTO ORTEGA       2.0  2016      1    1   \n",
       "4  FUEGO DIRECTO           MIGUEL HIDALGO       2.0  2016      1    1   \n",
       "\n",
       "             SALIDADT           LLEGADADT  TIEMPO LLEGADA Falsa Alarma  Maleza  \n",
       "0 2016-01-01 00:07:00 2016-01-01 00:16:00             9.0        False    True  \n",
       "1 2016-01-01 00:22:00 2016-01-01 00:32:00            10.0        False    True  \n",
       "2 2016-01-01 00:29:00 2016-01-01 00:43:00            14.0        False   False  \n",
       "3 2016-01-01 00:39:00 2016-01-01 00:43:00             4.0        False    True  \n",
       "4 2016-01-01 00:51:00 2016-01-01 00:59:00             8.0        False    True  "
      ]
     },
     "execution_count": 50,
     "metadata": {},
     "output_type": "execute_result"
    }
   ],
   "source": [
    "sbh_incendios_maleza.head()"
   ]
  },
  {
   "cell_type": "code",
   "execution_count": 51,
   "metadata": {
    "colab": {},
    "colab_type": "code",
    "id": "Wy2MT6-2YISl"
   },
   "outputs": [
    {
     "name": "stdout",
     "output_type": "stream",
     "text": [
      "<class 'pandas.core.frame.DataFrame'>\n",
      "Int64Index: 13466 entries, 0 to 22995\n",
      "Data columns (total 15 columns):\n",
      "FOLIO             13466 non-null object\n",
      "TIPO              13466 non-null object\n",
      "LUGAR             13457 non-null object\n",
      "FECHA             13466 non-null object\n",
      "CAUSA             13398 non-null object\n",
      "COLONIA           13200 non-null object\n",
      "ESTACION          13465 non-null float64\n",
      "YEAR              13466 non-null int64\n",
      "MONTH             13466 non-null int64\n",
      "DAY               13466 non-null int64\n",
      "SALIDADT          13466 non-null datetime64[ns]\n",
      "LLEGADADT         13398 non-null datetime64[ns]\n",
      "TIEMPO LLEGADA    13398 non-null float64\n",
      "Falsa Alarma      13398 non-null object\n",
      "Maleza            13466 non-null bool\n",
      "dtypes: bool(1), datetime64[ns](2), float64(2), int64(3), object(7)\n",
      "memory usage: 2.2+ MB\n"
     ]
    }
   ],
   "source": [
    "sbh_incendios_maleza.info()"
   ]
  },
  {
   "cell_type": "code",
   "execution_count": 52,
   "metadata": {
    "colab": {},
    "colab_type": "code",
    "id": "1HAIpoM1YQRy"
   },
   "outputs": [
    {
     "data": {
      "text/plain": [
       "[Text(0, 0, 'CENTRO'),\n",
       " Text(0, 0, 'PARQUE INDUSTRIAL'),\n",
       " Text(0, 0, 'ALTARES'),\n",
       " Text(0, 0, 'SOLIDARIDAD'),\n",
       " Text(0, 0, 'NUEVO HERMOSILLO'),\n",
       " Text(0, 0, 'SAHUARO'),\n",
       " Text(0, 0, 'PROYECTO RIO SONORA'),\n",
       " Text(0, 0, 'CARRETERA A KINO'),\n",
       " Text(0, 0, '5 DE MAYO'),\n",
       " Text(0, 0, 'LAS LOMAS'),\n",
       " Text(0, 0, 'PALO VERDE'),\n",
       " Text(0, 0, 'LOS OLIVOS'),\n",
       " Text(0, 0, 'SAN BENITO'),\n",
       " Text(0, 0, 'SAN LUIS')]"
      ]
     },
     "execution_count": 52,
     "metadata": {},
     "output_type": "execute_result"
    },
    {
     "data": {
      "image/png": "[encoded data removed]",
      "text/plain": [
       "<Figure size 1440x576 with 1 Axes>"
      ]
     },
     "metadata": {
      "needs_background": "light"
     },
     "output_type": "display_data"
    }
   ],
   "source": [
    "#Graficamos \n",
    "plt.figure(figsize=(20,8)) #Crea el espacio de memoria para la grafica y le asigna un tamaño en especifico\n",
    "\n",
    "# La grafica se define como g solo para poderle asignar que las etiquetas en el eje x esten a 45 grados \n",
    "g6 = sns.countplot(x='COLONIA', data = sbh_incendios,order=pd.value_counts(sbh_incendios['COLONIA']).iloc[1:15].index, palette = 'Paired', hue = 'Maleza') \n",
    "loc, labels = plt.xticks()\n",
    "g6.set_xticklabels(labels, rotation=45)"
   ]
  },
  {
   "cell_type": "code",
   "execution_count": 53,
   "metadata": {
    "colab": {},
    "colab_type": "code",
    "id": "5lQEmJaaYaTN"
   },
   "outputs": [
    {
     "data": {
      "text/plain": [
       "70.0579236595871"
      ]
     },
     "execution_count": 53,
     "metadata": {},
     "output_type": "execute_result"
    }
   ],
   "source": [
    "Porcentaje_Maleza = (sbh_incendios_maleza['Maleza'].sum()/len(sbh_incendios_maleza['TIPO']))*100\n",
    "Porcentaje_Maleza"
   ]
  },
  {
   "cell_type": "code",
   "execution_count": 54,
   "metadata": {
    "colab": {},
    "colab_type": "code",
    "id": "11o9nSD1Yt3R"
   },
   "outputs": [
    {
     "name": "stdout",
     "output_type": "stream",
     "text": [
      "<class 'pandas.core.frame.DataFrame'>\n",
      "RangeIndex: 22996 entries, 0 to 22995\n",
      "Data columns (total 9 columns):\n",
      "FOLIO       22996 non-null object\n",
      "TIPO        22989 non-null object\n",
      "LUGAR       22974 non-null object\n",
      "FECHA       22996 non-null object\n",
      "SALIDA      22996 non-null object\n",
      "LLEGADA     22869 non-null object\n",
      "CAUSA       22740 non-null object\n",
      "COLONIA     22560 non-null object\n",
      "ESTACION    22995 non-null float64\n",
      "dtypes: float64(1), object(8)\n",
      "memory usage: 1.6+ MB\n"
     ]
    }
   ],
   "source": [
    "SBH.info()"
   ]
  },
  {
   "cell_type": "code",
   "execution_count": 55,
   "metadata": {
    "colab": {},
    "colab_type": "code",
    "id": "ZPSFi61fRI5A"
   },
   "outputs": [
    {
     "data": {
      "text/html": [
       "<div>\n",
       "<style scoped>\n",
       "    .dataframe tbody tr th:only-of-type {\n",
       "        vertical-align: middle;\n",
       "    }\n",
       "\n",
       "    .dataframe tbody tr th {\n",
       "        vertical-align: top;\n",
       "    }\n",
       "\n",
       "    .dataframe thead th {\n",
       "        text-align: right;\n",
       "    }\n",
       "</style>\n",
       "<table border=\"1\" class=\"dataframe\">\n",
       "  <thead>\n",
       "    <tr style=\"text-align: right;\">\n",
       "      <th></th>\n",
       "      <th>FOLIO</th>\n",
       "      <th>TIPO</th>\n",
       "      <th>LUGAR</th>\n",
       "      <th>FECHA</th>\n",
       "      <th>SALIDA</th>\n",
       "      <th>LLEGADA</th>\n",
       "      <th>CAUSA</th>\n",
       "      <th>COLONIA</th>\n",
       "      <th>ESTACION</th>\n",
       "    </tr>\n",
       "  </thead>\n",
       "  <tbody>\n",
       "    <tr>\n",
       "      <th>0</th>\n",
       "      <td>01012016-0007-INZB-2A</td>\n",
       "      <td>INCENDIO DE ZACATE Y BASURA</td>\n",
       "      <td>COMERCIO</td>\n",
       "      <td>01-01-16</td>\n",
       "      <td>01-01-16 0:07</td>\n",
       "      <td>01-01-16 0:16</td>\n",
       "      <td>FUEGO DIRECTO</td>\n",
       "      <td>SIN COLONIA</td>\n",
       "      <td>2.0</td>\n",
       "    </tr>\n",
       "    <tr>\n",
       "      <th>1</th>\n",
       "      <td>01012016-0022-INZB-1A</td>\n",
       "      <td>INCENDIO DE ZACATE Y BASURA</td>\n",
       "      <td>CASA</td>\n",
       "      <td>01-01-16</td>\n",
       "      <td>01-01-16 0:22</td>\n",
       "      <td>01-01-16 0:32</td>\n",
       "      <td>FUEGO DIRECTO</td>\n",
       "      <td>LOMAS DE MADRID</td>\n",
       "      <td>1.0</td>\n",
       "    </tr>\n",
       "    <tr>\n",
       "      <th>2</th>\n",
       "      <td>01012016-0029-IDCM-1A</td>\n",
       "      <td>INCENDIO DE CASA DE MATERIAL</td>\n",
       "      <td>CASA</td>\n",
       "      <td>01-01-16</td>\n",
       "      <td>01-01-16 0:29</td>\n",
       "      <td>01-01-16 0:43</td>\n",
       "      <td>OTROS</td>\n",
       "      <td>PUERTA REAL RESIDENCIAL</td>\n",
       "      <td>1.0</td>\n",
       "    </tr>\n",
       "    <tr>\n",
       "      <th>3</th>\n",
       "      <td>01012016-0039-INZB-2A</td>\n",
       "      <td>INCENDIO DE ZACATE Y BASURA</td>\n",
       "      <td>VEHICULO</td>\n",
       "      <td>01-01-16</td>\n",
       "      <td>01-01-16 0:39</td>\n",
       "      <td>01-01-16 0:43</td>\n",
       "      <td>FUEGO DIRECTO</td>\n",
       "      <td>NORBERTO ORTEGA</td>\n",
       "      <td>2.0</td>\n",
       "    </tr>\n",
       "    <tr>\n",
       "      <th>4</th>\n",
       "      <td>01012016-0051-INZB-2A</td>\n",
       "      <td>INCENDIO DE ZACATE Y BASURA</td>\n",
       "      <td>CASA</td>\n",
       "      <td>01-01-16</td>\n",
       "      <td>01-01-16 0:51</td>\n",
       "      <td>01-01-16 0:59</td>\n",
       "      <td>FUEGO DIRECTO</td>\n",
       "      <td>MIGUEL HIDALGO</td>\n",
       "      <td>2.0</td>\n",
       "    </tr>\n",
       "    <tr>\n",
       "      <th>5</th>\n",
       "      <td>01012016-0053-IDCM-1A</td>\n",
       "      <td>INCENDIO DE CASA DE MATERIAL</td>\n",
       "      <td>CASA</td>\n",
       "      <td>01-01-16</td>\n",
       "      <td>01-01-16 0:53</td>\n",
       "      <td>01-01-16 0:58</td>\n",
       "      <td>FUEGO DIRECTO</td>\n",
       "      <td>SANTA FE</td>\n",
       "      <td>1.0</td>\n",
       "    </tr>\n",
       "    <tr>\n",
       "      <th>6</th>\n",
       "      <td>01012016-0058-INZB-1A</td>\n",
       "      <td>INCENDIO DE ZACATE Y BASURA</td>\n",
       "      <td>LOTE BALDIO</td>\n",
       "      <td>01-01-16</td>\n",
       "      <td>01-01-16 0:58</td>\n",
       "      <td>01-01-16 1:14</td>\n",
       "      <td>FUEGO DIRECTO</td>\n",
       "      <td>TULIPANES</td>\n",
       "      <td>1.0</td>\n",
       "    </tr>\n",
       "    <tr>\n",
       "      <th>7</th>\n",
       "      <td>01012016-0115-IDCM-2A</td>\n",
       "      <td>INCENDIO DE CASA DE MATERIAL</td>\n",
       "      <td>CASA</td>\n",
       "      <td>01-01-16</td>\n",
       "      <td>01-01-16 1:15</td>\n",
       "      <td>01-01-16 1:21</td>\n",
       "      <td>FUEGO DIRECTO</td>\n",
       "      <td>VILLAS DEL PALMAR</td>\n",
       "      <td>2.0</td>\n",
       "    </tr>\n",
       "    <tr>\n",
       "      <th>8</th>\n",
       "      <td>01012016-0247-RANI-1A</td>\n",
       "      <td>RETIRO DE ANIMAL</td>\n",
       "      <td>CASA</td>\n",
       "      <td>01-01-16</td>\n",
       "      <td>01-01-16 2:47</td>\n",
       "      <td>01-01-16 2:59</td>\n",
       "      <td>RETIRO DE ANIMAL</td>\n",
       "      <td>LAS GRANJAS</td>\n",
       "      <td>1.0</td>\n",
       "    </tr>\n",
       "    <tr>\n",
       "      <th>9</th>\n",
       "      <td>01012016-0415-INZB-3A</td>\n",
       "      <td>INCENDIO DE ZACATE Y BASURA</td>\n",
       "      <td>LOTE BALDIO</td>\n",
       "      <td>01-01-16</td>\n",
       "      <td>01-01-16 4:13</td>\n",
       "      <td>01-01-16 4:22</td>\n",
       "      <td>FUEGO DIRECTO</td>\n",
       "      <td>URBI VILLA DEL REY SECCION LOS MANZANOS II</td>\n",
       "      <td>3.0</td>\n",
       "    </tr>\n",
       "    <tr>\n",
       "      <th>10</th>\n",
       "      <td>01012016-0515-INDV-1A</td>\n",
       "      <td>INCENDIO DE VEHÍCULO</td>\n",
       "      <td>VEHICULO</td>\n",
       "      <td>01-01-16</td>\n",
       "      <td>01-01-16 5:15</td>\n",
       "      <td>01-01-16 5:22</td>\n",
       "      <td>FUEGO DIRECTO</td>\n",
       "      <td>CENTENARIO</td>\n",
       "      <td>1.0</td>\n",
       "    </tr>\n",
       "    <tr>\n",
       "      <th>11</th>\n",
       "      <td>01012016-0650-INZB-3A</td>\n",
       "      <td>INCENDIO DE ZACATE Y BASURA</td>\n",
       "      <td>LOTE BALDIO</td>\n",
       "      <td>01-01-16</td>\n",
       "      <td>01-01-16 6:50</td>\n",
       "      <td>01-01-16 6:52</td>\n",
       "      <td>FUEGO DIRECTO</td>\n",
       "      <td>LAS CARRETAS</td>\n",
       "      <td>3.0</td>\n",
       "    </tr>\n",
       "    <tr>\n",
       "      <th>12</th>\n",
       "      <td>01012016-0751-ATPH-2A</td>\n",
       "      <td>ATENCION PRE HOSPITALARIA</td>\n",
       "      <td>VEHICULO</td>\n",
       "      <td>01-01-16</td>\n",
       "      <td>01-01-16 7:51</td>\n",
       "      <td>01-01-16 7:51</td>\n",
       "      <td>CHOQUE</td>\n",
       "      <td>LOS MANANTIALES</td>\n",
       "      <td>2.0</td>\n",
       "    </tr>\n",
       "    <tr>\n",
       "      <th>13</th>\n",
       "      <td>01012016-0903-RANI-2B</td>\n",
       "      <td>RETIRO DE ANIMAL</td>\n",
       "      <td>CASA</td>\n",
       "      <td>01-01-16</td>\n",
       "      <td>01-01-16 9:03</td>\n",
       "      <td>01-01-16 9:14</td>\n",
       "      <td>RETIRO DE ANIMAL</td>\n",
       "      <td>LUIS ENCINAS</td>\n",
       "      <td>2.0</td>\n",
       "    </tr>\n",
       "    <tr>\n",
       "      <th>14</th>\n",
       "      <td>01012016-0921-CSEG-4B</td>\n",
       "      <td>COBERTURA DE SEGURIDAD</td>\n",
       "      <td>VEHICULO</td>\n",
       "      <td>01-01-16</td>\n",
       "      <td>01-01-16 9:21</td>\n",
       "      <td>01-01-16 9:24</td>\n",
       "      <td>VOLCAMIENTO</td>\n",
       "      <td>UNION DE LADRILLEROS</td>\n",
       "      <td>4.0</td>\n",
       "    </tr>\n",
       "    <tr>\n",
       "      <th>15</th>\n",
       "      <td>01012016-0940-INZB-1B</td>\n",
       "      <td>INCENDIO DE ZACATE Y BASURA</td>\n",
       "      <td>LOTE BALDIO</td>\n",
       "      <td>01-01-16</td>\n",
       "      <td>01-01-16 9:40</td>\n",
       "      <td>01-01-16 9:50</td>\n",
       "      <td>FUEGO DIRECTO</td>\n",
       "      <td>BANUS</td>\n",
       "      <td>1.0</td>\n",
       "    </tr>\n",
       "    <tr>\n",
       "      <th>16</th>\n",
       "      <td>01012016-1044-INZB-1B</td>\n",
       "      <td>INCENDIO DE ZACATE Y BASURA</td>\n",
       "      <td>LOTE BALDIO</td>\n",
       "      <td>01-01-16</td>\n",
       "      <td>01-01-16 10:44</td>\n",
       "      <td>01-01-16 11:00</td>\n",
       "      <td>FUEGO DIRECTO</td>\n",
       "      <td>COLOSO</td>\n",
       "      <td>1.0</td>\n",
       "    </tr>\n",
       "    <tr>\n",
       "      <th>17</th>\n",
       "      <td>01012016-1108-INZB-2B</td>\n",
       "      <td>FALSA ALARMA</td>\n",
       "      <td>VIA PUBLICA</td>\n",
       "      <td>01-01-16</td>\n",
       "      <td>01-01-16 11:08</td>\n",
       "      <td>01-01-16 11:17</td>\n",
       "      <td>INCENDIO DE ZACATE Y BASURA</td>\n",
       "      <td>ATARDECERES</td>\n",
       "      <td>2.0</td>\n",
       "    </tr>\n",
       "    <tr>\n",
       "      <th>18</th>\n",
       "      <td>01012016-1122-ATPH-2B</td>\n",
       "      <td>ATENCION PRE HOSPITALARIA</td>\n",
       "      <td>VIA PUBLICA</td>\n",
       "      <td>01-01-16</td>\n",
       "      <td>01-01-16 11:22</td>\n",
       "      <td>01-01-16 11:25</td>\n",
       "      <td>OTROS</td>\n",
       "      <td>ISABELES</td>\n",
       "      <td>2.0</td>\n",
       "    </tr>\n",
       "    <tr>\n",
       "      <th>19</th>\n",
       "      <td>01012016-1204-INZB-2B</td>\n",
       "      <td>INCENDIO DE ZACATE Y BASURA</td>\n",
       "      <td>LOTE BALDIO</td>\n",
       "      <td>01-01-16</td>\n",
       "      <td>01-01-16 12:04</td>\n",
       "      <td>01-01-16 12:12</td>\n",
       "      <td>FUEGO DIRECTO</td>\n",
       "      <td>EL MIRADOR</td>\n",
       "      <td>2.0</td>\n",
       "    </tr>\n",
       "    <tr>\n",
       "      <th>20</th>\n",
       "      <td>01012016-1227-INZB-2B</td>\n",
       "      <td>INCENDIO DE ZACATE Y BASURA</td>\n",
       "      <td>LOTE BALDIO</td>\n",
       "      <td>01-01-16</td>\n",
       "      <td>01-01-16 12:27</td>\n",
       "      <td>01-01-16 12:32</td>\n",
       "      <td>FUEGO DIRECTO</td>\n",
       "      <td>EL MIRADOR</td>\n",
       "      <td>2.0</td>\n",
       "    </tr>\n",
       "    <tr>\n",
       "      <th>21</th>\n",
       "      <td>01012016-1231-DECO-1B</td>\n",
       "      <td>DERRAME DE COMBUSTIBLE</td>\n",
       "      <td>VEHICULO</td>\n",
       "      <td>01-01-16</td>\n",
       "      <td>01-01-16 12:31</td>\n",
       "      <td>01-01-16 12:36</td>\n",
       "      <td>CHOQUE</td>\n",
       "      <td>SAN LUIS</td>\n",
       "      <td>1.0</td>\n",
       "    </tr>\n",
       "    <tr>\n",
       "      <th>22</th>\n",
       "      <td>01012016-1244-INZB-3B</td>\n",
       "      <td>INCENDIO DE ZACATE Y BASURA</td>\n",
       "      <td>AREA DESPOBLADA</td>\n",
       "      <td>01-01-16</td>\n",
       "      <td>01-01-16 12:49</td>\n",
       "      <td>01-01-16 12:51</td>\n",
       "      <td>FUEGO DIRECTO</td>\n",
       "      <td>COSTA DEL SOL</td>\n",
       "      <td>3.0</td>\n",
       "    </tr>\n",
       "    <tr>\n",
       "      <th>23</th>\n",
       "      <td>01012016-1258-INDV-1B</td>\n",
       "      <td>INCENDIO DE VEHÍCULO</td>\n",
       "      <td>VEHICULO</td>\n",
       "      <td>01-01-16</td>\n",
       "      <td>01-01-16 12:58</td>\n",
       "      <td>01-01-16 13:25</td>\n",
       "      <td>FUGA DE COMBUSTIBLE</td>\n",
       "      <td>CARRETERA A NOGALES</td>\n",
       "      <td>1.0</td>\n",
       "    </tr>\n",
       "    <tr>\n",
       "      <th>24</th>\n",
       "      <td>01012016-1308-FAAL-4B</td>\n",
       "      <td>FALSA ALARMA</td>\n",
       "      <td>LOTE BALDIO</td>\n",
       "      <td>01-01-16</td>\n",
       "      <td>01-01-16 13:08</td>\n",
       "      <td>NaN</td>\n",
       "      <td>INCENDIO DE ZACATE Y BASURA</td>\n",
       "      <td>SAHUARO</td>\n",
       "      <td>4.0</td>\n",
       "    </tr>\n",
       "    <tr>\n",
       "      <th>25</th>\n",
       "      <td>01012016-1309-INZB-1B</td>\n",
       "      <td>INCENDIO DE ZACATE Y BASURA</td>\n",
       "      <td>VIA PUBLICA</td>\n",
       "      <td>01-01-16</td>\n",
       "      <td>01-01-16 13:09</td>\n",
       "      <td>01-01-16 13:23</td>\n",
       "      <td>FUEGO DIRECTO</td>\n",
       "      <td>LAS PALMAS</td>\n",
       "      <td>1.0</td>\n",
       "    </tr>\n",
       "    <tr>\n",
       "      <th>26</th>\n",
       "      <td>01012016-1313-FUGA-4B</td>\n",
       "      <td>FUGA DE GAS LP Y/O GAS NATURAL</td>\n",
       "      <td>CASA</td>\n",
       "      <td>01-01-16</td>\n",
       "      <td>01-01-16 13:13</td>\n",
       "      <td>01-01-16 13:21</td>\n",
       "      <td>FUGA DE GAS</td>\n",
       "      <td>SAHUARO</td>\n",
       "      <td>4.0</td>\n",
       "    </tr>\n",
       "    <tr>\n",
       "      <th>27</th>\n",
       "      <td>01012016-1313-INZB-3B</td>\n",
       "      <td>INCENDIO DE ZACATE Y BASURA</td>\n",
       "      <td>AREA DESPOBLADA</td>\n",
       "      <td>01-01-16</td>\n",
       "      <td>01-01-16 13:13</td>\n",
       "      <td>01-01-16 13:21</td>\n",
       "      <td>FUEGO DIRECTO</td>\n",
       "      <td>PALO VERDE</td>\n",
       "      <td>3.0</td>\n",
       "    </tr>\n",
       "    <tr>\n",
       "      <th>28</th>\n",
       "      <td>01012016-1326-INZB-2B</td>\n",
       "      <td>INCENDIO DE ZACATE Y BASURA</td>\n",
       "      <td>LOTE BALDIO</td>\n",
       "      <td>01-01-16</td>\n",
       "      <td>01-01-16 13:26</td>\n",
       "      <td>01-01-16 13:32</td>\n",
       "      <td>FUEGO DIRECTO</td>\n",
       "      <td>PRIVADAS DEL BOSQUE</td>\n",
       "      <td>2.0</td>\n",
       "    </tr>\n",
       "    <tr>\n",
       "      <th>29</th>\n",
       "      <td>01012016-1333-INZB-3B</td>\n",
       "      <td>INCENDIO DE ZACATE Y BASURA</td>\n",
       "      <td>LOTE BALDIO</td>\n",
       "      <td>01-01-16</td>\n",
       "      <td>01-01-16 13:33</td>\n",
       "      <td>01-01-16 13:40</td>\n",
       "      <td>FUEGO DIRECTO</td>\n",
       "      <td>ARBOLEDAS</td>\n",
       "      <td>3.0</td>\n",
       "    </tr>\n",
       "    <tr>\n",
       "      <th>...</th>\n",
       "      <td>...</td>\n",
       "      <td>...</td>\n",
       "      <td>...</td>\n",
       "      <td>...</td>\n",
       "      <td>...</td>\n",
       "      <td>...</td>\n",
       "      <td>...</td>\n",
       "      <td>...</td>\n",
       "      <td>...</td>\n",
       "    </tr>\n",
       "    <tr>\n",
       "      <th>22966</th>\n",
       "      <td>28062018-1525-RESC-5C</td>\n",
       "      <td>RESCATE</td>\n",
       "      <td>VEHICULO</td>\n",
       "      <td>28-06-18</td>\n",
       "      <td>28-06-18 15:25</td>\n",
       "      <td>28-06-18 15:36</td>\n",
       "      <td>VOLCAMIENTO</td>\n",
       "      <td>CARRETERA A KINO</td>\n",
       "      <td>5.0</td>\n",
       "    </tr>\n",
       "    <tr>\n",
       "      <th>22967</th>\n",
       "      <td>28062018-1951-RANI-1C</td>\n",
       "      <td>RETIRO DE ANIMAL</td>\n",
       "      <td>CASA</td>\n",
       "      <td>28-06-18</td>\n",
       "      <td>28-06-18 19:51</td>\n",
       "      <td>28-06-18 20:06</td>\n",
       "      <td>RETIRO DE ANIMAL</td>\n",
       "      <td>COUNTRY CLUB</td>\n",
       "      <td>1.0</td>\n",
       "    </tr>\n",
       "    <tr>\n",
       "      <th>22968</th>\n",
       "      <td>28062018-2037-INZB-2C</td>\n",
       "      <td>INCENDIO DE ZACATE Y BASURA</td>\n",
       "      <td>LOTE BALDIO</td>\n",
       "      <td>28-06-18</td>\n",
       "      <td>28-06-18 20:37</td>\n",
       "      <td>28-06-18 20:47</td>\n",
       "      <td>FUEGO DIRECTO</td>\n",
       "      <td>ROMANZA RESIDENCIAL</td>\n",
       "      <td>2.0</td>\n",
       "    </tr>\n",
       "    <tr>\n",
       "      <th>22969</th>\n",
       "      <td>28062018-2039-INZB-1C</td>\n",
       "      <td>INCENDIO DE ZACATE Y BASURA</td>\n",
       "      <td>INST. PUBLICA</td>\n",
       "      <td>28-06-18</td>\n",
       "      <td>28-06-18 20:39</td>\n",
       "      <td>28-06-18 20:45</td>\n",
       "      <td>FUEGO DIRECTO</td>\n",
       "      <td>PITIC</td>\n",
       "      <td>1.0</td>\n",
       "    </tr>\n",
       "    <tr>\n",
       "      <th>22970</th>\n",
       "      <td>28062018-2049-INZB-4C</td>\n",
       "      <td>INCENDIO DE ZACATE Y BASURA</td>\n",
       "      <td>LOTE BALDIO</td>\n",
       "      <td>28-06-18</td>\n",
       "      <td>28-06-18 20:49</td>\n",
       "      <td>28-06-18 21:03</td>\n",
       "      <td>FUEGO DIRECTO</td>\n",
       "      <td>SONACER I</td>\n",
       "      <td>4.0</td>\n",
       "    </tr>\n",
       "    <tr>\n",
       "      <th>22971</th>\n",
       "      <td>28062018-2143-INZB-4C</td>\n",
       "      <td>INCENDIO DE ZACATE Y BASURA</td>\n",
       "      <td>LOTE BALDIO</td>\n",
       "      <td>28-06-18</td>\n",
       "      <td>28-06-18 21:43</td>\n",
       "      <td>28-06-18 21:54</td>\n",
       "      <td>FUEGO DIRECTO</td>\n",
       "      <td>SAHUARO</td>\n",
       "      <td>4.0</td>\n",
       "    </tr>\n",
       "    <tr>\n",
       "      <th>22972</th>\n",
       "      <td>28062018-2205-INZB-1C</td>\n",
       "      <td>INCENDIO DE ZACATE Y BASURA</td>\n",
       "      <td>LOTE BALDIO</td>\n",
       "      <td>28-06-18</td>\n",
       "      <td>28-06-18 22:05</td>\n",
       "      <td>28-06-18 22:16</td>\n",
       "      <td>CHOQUE</td>\n",
       "      <td>SIN COLONIA</td>\n",
       "      <td>1.0</td>\n",
       "    </tr>\n",
       "    <tr>\n",
       "      <th>22973</th>\n",
       "      <td>28062018-2230-INZB-1C</td>\n",
       "      <td>INCENDIO DE ZACATE Y BASURA</td>\n",
       "      <td>CASA</td>\n",
       "      <td>28-06-18</td>\n",
       "      <td>28-06-18 22:30</td>\n",
       "      <td>28-06-18 22:37</td>\n",
       "      <td>FUEGO DIRECTO</td>\n",
       "      <td>CENTRO</td>\n",
       "      <td>1.0</td>\n",
       "    </tr>\n",
       "    <tr>\n",
       "      <th>22974</th>\n",
       "      <td>29062018-0131-IDCM-4C</td>\n",
       "      <td>INCENDIO DE CASA DE MATERIAL</td>\n",
       "      <td>CASA</td>\n",
       "      <td>29-06-18</td>\n",
       "      <td>29-06-18 1:31</td>\n",
       "      <td>29-06-18 1:37</td>\n",
       "      <td>FUEGO DIRECTO</td>\n",
       "      <td>SONACER I</td>\n",
       "      <td>4.0</td>\n",
       "    </tr>\n",
       "    <tr>\n",
       "      <th>22975</th>\n",
       "      <td>29062018-0145-INZB-1C</td>\n",
       "      <td>INCENDIO DE ZACATE Y BASURA</td>\n",
       "      <td>VIA PUBLICA</td>\n",
       "      <td>29-06-18</td>\n",
       "      <td>29-06-18 1:45</td>\n",
       "      <td>29-06-18 1:58</td>\n",
       "      <td>FUEGO DIRECTO</td>\n",
       "      <td>LA METALERA</td>\n",
       "      <td>1.0</td>\n",
       "    </tr>\n",
       "    <tr>\n",
       "      <th>22976</th>\n",
       "      <td>29062018-0506-INZB-2C</td>\n",
       "      <td>INCENDIO DE ZACATE Y BASURA</td>\n",
       "      <td>LOTE BALDIO</td>\n",
       "      <td>29-06-18</td>\n",
       "      <td>29-06-18 5:06</td>\n",
       "      <td>29-06-18 5:33</td>\n",
       "      <td>FUEGO DIRECTO</td>\n",
       "      <td>LA CAMPIÐA</td>\n",
       "      <td>2.0</td>\n",
       "    </tr>\n",
       "    <tr>\n",
       "      <th>22977</th>\n",
       "      <td>29062018-0712-INZB-1C</td>\n",
       "      <td>INCENDIO DE ZACATE Y BASURA</td>\n",
       "      <td>CASA</td>\n",
       "      <td>29-06-18</td>\n",
       "      <td>29-06-18 7:12</td>\n",
       "      <td>29-06-18 7:17</td>\n",
       "      <td>FUEGO DIRECTO</td>\n",
       "      <td>CENTRO</td>\n",
       "      <td>1.0</td>\n",
       "    </tr>\n",
       "    <tr>\n",
       "      <th>22978</th>\n",
       "      <td>29062018-0830-INZB-5D</td>\n",
       "      <td>INCENDIO DE ZACATE Y BASURA</td>\n",
       "      <td>AREA DESPOBLADA</td>\n",
       "      <td>29-06-18</td>\n",
       "      <td>29-06-18 8:30</td>\n",
       "      <td>29-06-18 8:55</td>\n",
       "      <td>OTROS</td>\n",
       "      <td>CARRETERA A KINO</td>\n",
       "      <td>5.0</td>\n",
       "    </tr>\n",
       "    <tr>\n",
       "      <th>22979</th>\n",
       "      <td>29062018-1033-CSEG-1D</td>\n",
       "      <td>COBERTURA DE SEGURIDAD</td>\n",
       "      <td>VEHICULO</td>\n",
       "      <td>29-06-18</td>\n",
       "      <td>29-06-18 9:34</td>\n",
       "      <td>29-06-18 9:42</td>\n",
       "      <td>CHOQUE</td>\n",
       "      <td>PROYECTO RIO SONORA</td>\n",
       "      <td>1.0</td>\n",
       "    </tr>\n",
       "    <tr>\n",
       "      <th>22980</th>\n",
       "      <td>29062018-1002-FUGA-5D</td>\n",
       "      <td>FUGA DE GAS LP Y/O GAS NATURAL</td>\n",
       "      <td>CASA</td>\n",
       "      <td>29-06-18</td>\n",
       "      <td>29-06-18 10:02</td>\n",
       "      <td>29-06-18 10:06</td>\n",
       "      <td>OTROS</td>\n",
       "      <td>PMA-JESUS GARCIA</td>\n",
       "      <td>5.0</td>\n",
       "    </tr>\n",
       "    <tr>\n",
       "      <th>22981</th>\n",
       "      <td>29062018-1024-RANI-1D</td>\n",
       "      <td>RETIRO DE ANIMAL</td>\n",
       "      <td>CASA</td>\n",
       "      <td>29-06-18</td>\n",
       "      <td>29-06-18 10:24</td>\n",
       "      <td>29-06-18 10:44</td>\n",
       "      <td>NaN</td>\n",
       "      <td>JACINTO LOPEZ</td>\n",
       "      <td>1.0</td>\n",
       "    </tr>\n",
       "    <tr>\n",
       "      <th>22982</th>\n",
       "      <td>29062018-0934-CSEG-1D</td>\n",
       "      <td>COBERTURA DE SEGURIDAD</td>\n",
       "      <td>VEHICULO</td>\n",
       "      <td>29-06-18</td>\n",
       "      <td>29-06-18 10:33</td>\n",
       "      <td>29-06-18 10:39</td>\n",
       "      <td>COBERTURA DE SEGURIDAD</td>\n",
       "      <td>PROYECTO RIO SONORA</td>\n",
       "      <td>1.0</td>\n",
       "    </tr>\n",
       "    <tr>\n",
       "      <th>22983</th>\n",
       "      <td>29062018-1040-FUGA-4D</td>\n",
       "      <td>FUGA DE GAS LP Y/O GAS NATURAL</td>\n",
       "      <td>CASA</td>\n",
       "      <td>29-06-18</td>\n",
       "      <td>29-06-18 10:40</td>\n",
       "      <td>29-06-18 10:47</td>\n",
       "      <td>FUGA DE GAS LP Y/O GAS NATURAL</td>\n",
       "      <td>REAL DE QUIROGA</td>\n",
       "      <td>4.0</td>\n",
       "    </tr>\n",
       "    <tr>\n",
       "      <th>22984</th>\n",
       "      <td>29062018-1132-DECO-6D</td>\n",
       "      <td>DERRAME DE COMBUSTIBLE</td>\n",
       "      <td>VEHICULO</td>\n",
       "      <td>29-06-18</td>\n",
       "      <td>29-06-18 11:32</td>\n",
       "      <td>29-06-18 11:35</td>\n",
       "      <td>CHOQUE</td>\n",
       "      <td>BKV-CENTRO</td>\n",
       "      <td>6.0</td>\n",
       "    </tr>\n",
       "    <tr>\n",
       "      <th>22985</th>\n",
       "      <td>29062018-1310-INZB-1D</td>\n",
       "      <td>INCENDIO DE ZACATE Y BASURA</td>\n",
       "      <td>VIA PUBLICA</td>\n",
       "      <td>29-06-18</td>\n",
       "      <td>29-06-18 13:10</td>\n",
       "      <td>29-06-18 13:25</td>\n",
       "      <td>FUEGO DIRECTO</td>\n",
       "      <td>VILLA DE SERIS</td>\n",
       "      <td>1.0</td>\n",
       "    </tr>\n",
       "    <tr>\n",
       "      <th>22986</th>\n",
       "      <td>29062018-1324-INZB-2D</td>\n",
       "      <td>INCENDIO DE ZACATE Y BASURA</td>\n",
       "      <td>LOTE BALDIO</td>\n",
       "      <td>29-06-18</td>\n",
       "      <td>29-06-18 13:24</td>\n",
       "      <td>29-06-18 13:27</td>\n",
       "      <td>FUEGO DIRECTO</td>\n",
       "      <td>INV El Guayacan</td>\n",
       "      <td>2.0</td>\n",
       "    </tr>\n",
       "    <tr>\n",
       "      <th>22987</th>\n",
       "      <td>29062018-1735-INZB-4D</td>\n",
       "      <td>INCENDIO DE ZACATE Y BASURA</td>\n",
       "      <td>CASA</td>\n",
       "      <td>29-06-18</td>\n",
       "      <td>29-06-18 17:35</td>\n",
       "      <td>29-06-18 17:47</td>\n",
       "      <td>FUEGO DIRECTO</td>\n",
       "      <td>REAL DE MINAS</td>\n",
       "      <td>4.0</td>\n",
       "    </tr>\n",
       "    <tr>\n",
       "      <th>22988</th>\n",
       "      <td>29062018-1840-INZB-2D</td>\n",
       "      <td>INCENDIO DE ZACATE Y BASURA</td>\n",
       "      <td>LOTE BALDIO</td>\n",
       "      <td>29-06-18</td>\n",
       "      <td>29-06-18 18:40</td>\n",
       "      <td>29-06-18 18:49</td>\n",
       "      <td>FUEGO DIRECTO</td>\n",
       "      <td>VILLA DEL REAL</td>\n",
       "      <td>2.0</td>\n",
       "    </tr>\n",
       "    <tr>\n",
       "      <th>22989</th>\n",
       "      <td>29062018-1911-INZB-1D</td>\n",
       "      <td>INCENDIO DE ZACATE Y BASURA</td>\n",
       "      <td>VIA PUBLICA</td>\n",
       "      <td>29-06-18</td>\n",
       "      <td>29-06-18 19:11</td>\n",
       "      <td>29-06-18 19:16</td>\n",
       "      <td>FUEGO DIRECTO</td>\n",
       "      <td>SAN BENITO</td>\n",
       "      <td>1.0</td>\n",
       "    </tr>\n",
       "    <tr>\n",
       "      <th>22990</th>\n",
       "      <td>30062018-0218-CSEG-5D</td>\n",
       "      <td>COBERTURA DE SEGURIDAD</td>\n",
       "      <td>VEHICULO</td>\n",
       "      <td>30-06-18</td>\n",
       "      <td>30-06-18 2:18</td>\n",
       "      <td>30-06-18 2:27</td>\n",
       "      <td>VOLCAMIENTO</td>\n",
       "      <td>SIN COLONIA</td>\n",
       "      <td>5.0</td>\n",
       "    </tr>\n",
       "    <tr>\n",
       "      <th>22991</th>\n",
       "      <td>30062018-1104-INZB-1A</td>\n",
       "      <td>INCENDIO DE ZACATE Y BASURA</td>\n",
       "      <td>LOTE BALDIO</td>\n",
       "      <td>30-06-18</td>\n",
       "      <td>30-06-18 11:04</td>\n",
       "      <td>30-06-18 11:09</td>\n",
       "      <td>FUEGO DIRECTO</td>\n",
       "      <td>5 DE MAYO</td>\n",
       "      <td>1.0</td>\n",
       "    </tr>\n",
       "    <tr>\n",
       "      <th>22992</th>\n",
       "      <td>30062018-1608-EXPL-5A</td>\n",
       "      <td>EXPLOSIONES</td>\n",
       "      <td>INDUSTRIA</td>\n",
       "      <td>30-06-18</td>\n",
       "      <td>30-06-18 16:08</td>\n",
       "      <td>30-06-18 16:33</td>\n",
       "      <td>MAL ESTADO DEL CILINDRO Y/O VALVULAS</td>\n",
       "      <td>SIN COLONIA</td>\n",
       "      <td>5.0</td>\n",
       "    </tr>\n",
       "    <tr>\n",
       "      <th>22993</th>\n",
       "      <td>29062018-1902-ENDA-1D</td>\n",
       "      <td>ENJAMBRE DE ABEJAS</td>\n",
       "      <td>ENDA</td>\n",
       "      <td>30-06-18</td>\n",
       "      <td>30-06-18 19:02</td>\n",
       "      <td>30-06-18 19:17</td>\n",
       "      <td>ENJAMBRE DE ABEJAS</td>\n",
       "      <td>SAN LUIS</td>\n",
       "      <td>1.0</td>\n",
       "    </tr>\n",
       "    <tr>\n",
       "      <th>22994</th>\n",
       "      <td>30062018-2204-INZB-6A</td>\n",
       "      <td>INCENDIO DE ZACATE Y BASURA</td>\n",
       "      <td>VIA PUBLICA</td>\n",
       "      <td>30-06-18</td>\n",
       "      <td>30-06-18 22:04</td>\n",
       "      <td>30-06-18 22:06</td>\n",
       "      <td>FUEGO DIRECTO</td>\n",
       "      <td>COL. CENTRO \\ KINO VIEJO</td>\n",
       "      <td>6.0</td>\n",
       "    </tr>\n",
       "    <tr>\n",
       "      <th>22995</th>\n",
       "      <td>30062018-2211-INZB-4A</td>\n",
       "      <td>INCENDIO DE ZACATE Y BASURA</td>\n",
       "      <td>VIA PUBLICA</td>\n",
       "      <td>30-06-18</td>\n",
       "      <td>30-06-18 22:11</td>\n",
       "      <td>30-06-18 22:19</td>\n",
       "      <td>FUEGO DIRECTO</td>\n",
       "      <td>VILLA BONITA</td>\n",
       "      <td>4.0</td>\n",
       "    </tr>\n",
       "  </tbody>\n",
       "</table>\n",
       "<p>22996 rows × 9 columns</p>\n",
       "</div>"
      ],
      "text/plain": [
       "                       FOLIO                            TIPO            LUGAR  \\\n",
       "0      01012016-0007-INZB-2A     INCENDIO DE ZACATE Y BASURA         COMERCIO   \n",
       "1      01012016-0022-INZB-1A     INCENDIO DE ZACATE Y BASURA             CASA   \n",
       "2      01012016-0029-IDCM-1A    INCENDIO DE CASA DE MATERIAL             CASA   \n",
       "3      01012016-0039-INZB-2A     INCENDIO DE ZACATE Y BASURA         VEHICULO   \n",
       "4      01012016-0051-INZB-2A     INCENDIO DE ZACATE Y BASURA             CASA   \n",
       "5      01012016-0053-IDCM-1A    INCENDIO DE CASA DE MATERIAL             CASA   \n",
       "6      01012016-0058-INZB-1A     INCENDIO DE ZACATE Y BASURA      LOTE BALDIO   \n",
       "7      01012016-0115-IDCM-2A    INCENDIO DE CASA DE MATERIAL             CASA   \n",
       "8      01012016-0247-RANI-1A                RETIRO DE ANIMAL             CASA   \n",
       "9      01012016-0415-INZB-3A     INCENDIO DE ZACATE Y BASURA      LOTE BALDIO   \n",
       "10     01012016-0515-INDV-1A            INCENDIO DE VEHÍCULO         VEHICULO   \n",
       "11     01012016-0650-INZB-3A     INCENDIO DE ZACATE Y BASURA      LOTE BALDIO   \n",
       "12     01012016-0751-ATPH-2A       ATENCION PRE HOSPITALARIA         VEHICULO   \n",
       "13     01012016-0903-RANI-2B                RETIRO DE ANIMAL             CASA   \n",
       "14     01012016-0921-CSEG-4B          COBERTURA DE SEGURIDAD         VEHICULO   \n",
       "15     01012016-0940-INZB-1B     INCENDIO DE ZACATE Y BASURA      LOTE BALDIO   \n",
       "16     01012016-1044-INZB-1B     INCENDIO DE ZACATE Y BASURA      LOTE BALDIO   \n",
       "17     01012016-1108-INZB-2B                    FALSA ALARMA      VIA PUBLICA   \n",
       "18     01012016-1122-ATPH-2B       ATENCION PRE HOSPITALARIA      VIA PUBLICA   \n",
       "19     01012016-1204-INZB-2B     INCENDIO DE ZACATE Y BASURA      LOTE BALDIO   \n",
       "20     01012016-1227-INZB-2B     INCENDIO DE ZACATE Y BASURA      LOTE BALDIO   \n",
       "21     01012016-1231-DECO-1B          DERRAME DE COMBUSTIBLE         VEHICULO   \n",
       "22     01012016-1244-INZB-3B     INCENDIO DE ZACATE Y BASURA  AREA DESPOBLADA   \n",
       "23     01012016-1258-INDV-1B            INCENDIO DE VEHÍCULO         VEHICULO   \n",
       "24     01012016-1308-FAAL-4B                    FALSA ALARMA      LOTE BALDIO   \n",
       "25     01012016-1309-INZB-1B     INCENDIO DE ZACATE Y BASURA      VIA PUBLICA   \n",
       "26     01012016-1313-FUGA-4B  FUGA DE GAS LP Y/O GAS NATURAL             CASA   \n",
       "27     01012016-1313-INZB-3B     INCENDIO DE ZACATE Y BASURA  AREA DESPOBLADA   \n",
       "28     01012016-1326-INZB-2B     INCENDIO DE ZACATE Y BASURA      LOTE BALDIO   \n",
       "29     01012016-1333-INZB-3B     INCENDIO DE ZACATE Y BASURA      LOTE BALDIO   \n",
       "...                      ...                             ...              ...   \n",
       "22966  28062018-1525-RESC-5C                         RESCATE         VEHICULO   \n",
       "22967  28062018-1951-RANI-1C                RETIRO DE ANIMAL             CASA   \n",
       "22968  28062018-2037-INZB-2C     INCENDIO DE ZACATE Y BASURA      LOTE BALDIO   \n",
       "22969  28062018-2039-INZB-1C     INCENDIO DE ZACATE Y BASURA    INST. PUBLICA   \n",
       "22970  28062018-2049-INZB-4C     INCENDIO DE ZACATE Y BASURA      LOTE BALDIO   \n",
       "22971  28062018-2143-INZB-4C     INCENDIO DE ZACATE Y BASURA      LOTE BALDIO   \n",
       "22972  28062018-2205-INZB-1C     INCENDIO DE ZACATE Y BASURA      LOTE BALDIO   \n",
       "22973  28062018-2230-INZB-1C     INCENDIO DE ZACATE Y BASURA             CASA   \n",
       "22974  29062018-0131-IDCM-4C    INCENDIO DE CASA DE MATERIAL             CASA   \n",
       "22975  29062018-0145-INZB-1C     INCENDIO DE ZACATE Y BASURA      VIA PUBLICA   \n",
       "22976  29062018-0506-INZB-2C     INCENDIO DE ZACATE Y BASURA      LOTE BALDIO   \n",
       "22977  29062018-0712-INZB-1C     INCENDIO DE ZACATE Y BASURA             CASA   \n",
       "22978  29062018-0830-INZB-5D     INCENDIO DE ZACATE Y BASURA  AREA DESPOBLADA   \n",
       "22979  29062018-1033-CSEG-1D          COBERTURA DE SEGURIDAD         VEHICULO   \n",
       "22980  29062018-1002-FUGA-5D  FUGA DE GAS LP Y/O GAS NATURAL             CASA   \n",
       "22981  29062018-1024-RANI-1D                RETIRO DE ANIMAL             CASA   \n",
       "22982  29062018-0934-CSEG-1D          COBERTURA DE SEGURIDAD         VEHICULO   \n",
       "22983  29062018-1040-FUGA-4D  FUGA DE GAS LP Y/O GAS NATURAL             CASA   \n",
       "22984  29062018-1132-DECO-6D          DERRAME DE COMBUSTIBLE         VEHICULO   \n",
       "22985  29062018-1310-INZB-1D     INCENDIO DE ZACATE Y BASURA      VIA PUBLICA   \n",
       "22986  29062018-1324-INZB-2D     INCENDIO DE ZACATE Y BASURA      LOTE BALDIO   \n",
       "22987  29062018-1735-INZB-4D     INCENDIO DE ZACATE Y BASURA             CASA   \n",
       "22988  29062018-1840-INZB-2D     INCENDIO DE ZACATE Y BASURA      LOTE BALDIO   \n",
       "22989  29062018-1911-INZB-1D     INCENDIO DE ZACATE Y BASURA      VIA PUBLICA   \n",
       "22990  30062018-0218-CSEG-5D          COBERTURA DE SEGURIDAD         VEHICULO   \n",
       "22991  30062018-1104-INZB-1A     INCENDIO DE ZACATE Y BASURA      LOTE BALDIO   \n",
       "22992  30062018-1608-EXPL-5A                     EXPLOSIONES        INDUSTRIA   \n",
       "22993  29062018-1902-ENDA-1D              ENJAMBRE DE ABEJAS             ENDA   \n",
       "22994  30062018-2204-INZB-6A     INCENDIO DE ZACATE Y BASURA      VIA PUBLICA   \n",
       "22995  30062018-2211-INZB-4A     INCENDIO DE ZACATE Y BASURA      VIA PUBLICA   \n",
       "\n",
       "          FECHA          SALIDA         LLEGADA  \\\n",
       "0      01-01-16   01-01-16 0:07   01-01-16 0:16   \n",
       "1      01-01-16   01-01-16 0:22   01-01-16 0:32   \n",
       "2      01-01-16   01-01-16 0:29   01-01-16 0:43   \n",
       "3      01-01-16   01-01-16 0:39   01-01-16 0:43   \n",
       "4      01-01-16   01-01-16 0:51   01-01-16 0:59   \n",
       "5      01-01-16   01-01-16 0:53   01-01-16 0:58   \n",
       "6      01-01-16   01-01-16 0:58   01-01-16 1:14   \n",
       "7      01-01-16   01-01-16 1:15   01-01-16 1:21   \n",
       "8      01-01-16   01-01-16 2:47   01-01-16 2:59   \n",
       "9      01-01-16   01-01-16 4:13   01-01-16 4:22   \n",
       "10     01-01-16   01-01-16 5:15   01-01-16 5:22   \n",
       "11     01-01-16   01-01-16 6:50   01-01-16 6:52   \n",
       "12     01-01-16   01-01-16 7:51   01-01-16 7:51   \n",
       "13     01-01-16   01-01-16 9:03   01-01-16 9:14   \n",
       "14     01-01-16   01-01-16 9:21   01-01-16 9:24   \n",
       "15     01-01-16   01-01-16 9:40   01-01-16 9:50   \n",
       "16     01-01-16  01-01-16 10:44  01-01-16 11:00   \n",
       "17     01-01-16  01-01-16 11:08  01-01-16 11:17   \n",
       "18     01-01-16  01-01-16 11:22  01-01-16 11:25   \n",
       "19     01-01-16  01-01-16 12:04  01-01-16 12:12   \n",
       "20     01-01-16  01-01-16 12:27  01-01-16 12:32   \n",
       "21     01-01-16  01-01-16 12:31  01-01-16 12:36   \n",
       "22     01-01-16  01-01-16 12:49  01-01-16 12:51   \n",
       "23     01-01-16  01-01-16 12:58  01-01-16 13:25   \n",
       "24     01-01-16  01-01-16 13:08             NaN   \n",
       "25     01-01-16  01-01-16 13:09  01-01-16 13:23   \n",
       "26     01-01-16  01-01-16 13:13  01-01-16 13:21   \n",
       "27     01-01-16  01-01-16 13:13  01-01-16 13:21   \n",
       "28     01-01-16  01-01-16 13:26  01-01-16 13:32   \n",
       "29     01-01-16  01-01-16 13:33  01-01-16 13:40   \n",
       "...         ...             ...             ...   \n",
       "22966  28-06-18  28-06-18 15:25  28-06-18 15:36   \n",
       "22967  28-06-18  28-06-18 19:51  28-06-18 20:06   \n",
       "22968  28-06-18  28-06-18 20:37  28-06-18 20:47   \n",
       "22969  28-06-18  28-06-18 20:39  28-06-18 20:45   \n",
       "22970  28-06-18  28-06-18 20:49  28-06-18 21:03   \n",
       "22971  28-06-18  28-06-18 21:43  28-06-18 21:54   \n",
       "22972  28-06-18  28-06-18 22:05  28-06-18 22:16   \n",
       "22973  28-06-18  28-06-18 22:30  28-06-18 22:37   \n",
       "22974  29-06-18   29-06-18 1:31   29-06-18 1:37   \n",
       "22975  29-06-18   29-06-18 1:45   29-06-18 1:58   \n",
       "22976  29-06-18   29-06-18 5:06   29-06-18 5:33   \n",
       "22977  29-06-18   29-06-18 7:12   29-06-18 7:17   \n",
       "22978  29-06-18   29-06-18 8:30   29-06-18 8:55   \n",
       "22979  29-06-18   29-06-18 9:34   29-06-18 9:42   \n",
       "22980  29-06-18  29-06-18 10:02  29-06-18 10:06   \n",
       "22981  29-06-18  29-06-18 10:24  29-06-18 10:44   \n",
       "22982  29-06-18  29-06-18 10:33  29-06-18 10:39   \n",
       "22983  29-06-18  29-06-18 10:40  29-06-18 10:47   \n",
       "22984  29-06-18  29-06-18 11:32  29-06-18 11:35   \n",
       "22985  29-06-18  29-06-18 13:10  29-06-18 13:25   \n",
       "22986  29-06-18  29-06-18 13:24  29-06-18 13:27   \n",
       "22987  29-06-18  29-06-18 17:35  29-06-18 17:47   \n",
       "22988  29-06-18  29-06-18 18:40  29-06-18 18:49   \n",
       "22989  29-06-18  29-06-18 19:11  29-06-18 19:16   \n",
       "22990  30-06-18   30-06-18 2:18   30-06-18 2:27   \n",
       "22991  30-06-18  30-06-18 11:04  30-06-18 11:09   \n",
       "22992  30-06-18  30-06-18 16:08  30-06-18 16:33   \n",
       "22993  30-06-18  30-06-18 19:02  30-06-18 19:17   \n",
       "22994  30-06-18  30-06-18 22:04  30-06-18 22:06   \n",
       "22995  30-06-18  30-06-18 22:11  30-06-18 22:19   \n",
       "\n",
       "                                      CAUSA  \\\n",
       "0                             FUEGO DIRECTO   \n",
       "1                             FUEGO DIRECTO   \n",
       "2                                     OTROS   \n",
       "3                             FUEGO DIRECTO   \n",
       "4                             FUEGO DIRECTO   \n",
       "5                             FUEGO DIRECTO   \n",
       "6                             FUEGO DIRECTO   \n",
       "7                             FUEGO DIRECTO   \n",
       "8                          RETIRO DE ANIMAL   \n",
       "9                             FUEGO DIRECTO   \n",
       "10                            FUEGO DIRECTO   \n",
       "11                            FUEGO DIRECTO   \n",
       "12                                   CHOQUE   \n",
       "13                         RETIRO DE ANIMAL   \n",
       "14                              VOLCAMIENTO   \n",
       "15                            FUEGO DIRECTO   \n",
       "16                            FUEGO DIRECTO   \n",
       "17              INCENDIO DE ZACATE Y BASURA   \n",
       "18                                    OTROS   \n",
       "19                            FUEGO DIRECTO   \n",
       "20                            FUEGO DIRECTO   \n",
       "21                                   CHOQUE   \n",
       "22                            FUEGO DIRECTO   \n",
       "23                      FUGA DE COMBUSTIBLE   \n",
       "24              INCENDIO DE ZACATE Y BASURA   \n",
       "25                            FUEGO DIRECTO   \n",
       "26                              FUGA DE GAS   \n",
       "27                            FUEGO DIRECTO   \n",
       "28                            FUEGO DIRECTO   \n",
       "29                            FUEGO DIRECTO   \n",
       "...                                     ...   \n",
       "22966                           VOLCAMIENTO   \n",
       "22967                      RETIRO DE ANIMAL   \n",
       "22968                         FUEGO DIRECTO   \n",
       "22969                         FUEGO DIRECTO   \n",
       "22970                         FUEGO DIRECTO   \n",
       "22971                         FUEGO DIRECTO   \n",
       "22972                                CHOQUE   \n",
       "22973                         FUEGO DIRECTO   \n",
       "22974                         FUEGO DIRECTO   \n",
       "22975                         FUEGO DIRECTO   \n",
       "22976                         FUEGO DIRECTO   \n",
       "22977                         FUEGO DIRECTO   \n",
       "22978                                 OTROS   \n",
       "22979                                CHOQUE   \n",
       "22980                                 OTROS   \n",
       "22981                                   NaN   \n",
       "22982                COBERTURA DE SEGURIDAD   \n",
       "22983        FUGA DE GAS LP Y/O GAS NATURAL   \n",
       "22984                                CHOQUE   \n",
       "22985                         FUEGO DIRECTO   \n",
       "22986                         FUEGO DIRECTO   \n",
       "22987                         FUEGO DIRECTO   \n",
       "22988                         FUEGO DIRECTO   \n",
       "22989                         FUEGO DIRECTO   \n",
       "22990                           VOLCAMIENTO   \n",
       "22991                         FUEGO DIRECTO   \n",
       "22992  MAL ESTADO DEL CILINDRO Y/O VALVULAS   \n",
       "22993                    ENJAMBRE DE ABEJAS   \n",
       "22994                         FUEGO DIRECTO   \n",
       "22995                         FUEGO DIRECTO   \n",
       "\n",
       "                                          COLONIA  ESTACION  \n",
       "0                                     SIN COLONIA       2.0  \n",
       "1                                 LOMAS DE MADRID       1.0  \n",
       "2                         PUERTA REAL RESIDENCIAL       1.0  \n",
       "3                                 NORBERTO ORTEGA       2.0  \n",
       "4                                  MIGUEL HIDALGO       2.0  \n",
       "5                                        SANTA FE       1.0  \n",
       "6                                       TULIPANES       1.0  \n",
       "7                               VILLAS DEL PALMAR       2.0  \n",
       "8                                     LAS GRANJAS       1.0  \n",
       "9      URBI VILLA DEL REY SECCION LOS MANZANOS II       3.0  \n",
       "10                                     CENTENARIO       1.0  \n",
       "11                                   LAS CARRETAS       3.0  \n",
       "12                                LOS MANANTIALES       2.0  \n",
       "13                                   LUIS ENCINAS       2.0  \n",
       "14                           UNION DE LADRILLEROS       4.0  \n",
       "15                                          BANUS       1.0  \n",
       "16                                         COLOSO       1.0  \n",
       "17                                    ATARDECERES       2.0  \n",
       "18                                       ISABELES       2.0  \n",
       "19                                     EL MIRADOR       2.0  \n",
       "20                                     EL MIRADOR       2.0  \n",
       "21                                       SAN LUIS       1.0  \n",
       "22                                  COSTA DEL SOL       3.0  \n",
       "23                            CARRETERA A NOGALES       1.0  \n",
       "24                                        SAHUARO       4.0  \n",
       "25                                     LAS PALMAS       1.0  \n",
       "26                                        SAHUARO       4.0  \n",
       "27                                     PALO VERDE       3.0  \n",
       "28                            PRIVADAS DEL BOSQUE       2.0  \n",
       "29                                      ARBOLEDAS       3.0  \n",
       "...                                           ...       ...  \n",
       "22966                            CARRETERA A KINO       5.0  \n",
       "22967                                COUNTRY CLUB       1.0  \n",
       "22968                         ROMANZA RESIDENCIAL       2.0  \n",
       "22969                                       PITIC       1.0  \n",
       "22970                                   SONACER I       4.0  \n",
       "22971                                     SAHUARO       4.0  \n",
       "22972                                 SIN COLONIA       1.0  \n",
       "22973                                      CENTRO       1.0  \n",
       "22974                                   SONACER I       4.0  \n",
       "22975                                 LA METALERA       1.0  \n",
       "22976                                  LA CAMPIÐA       2.0  \n",
       "22977                                      CENTRO       1.0  \n",
       "22978                            CARRETERA A KINO       5.0  \n",
       "22979                         PROYECTO RIO SONORA       1.0  \n",
       "22980                            PMA-JESUS GARCIA       5.0  \n",
       "22981                               JACINTO LOPEZ       1.0  \n",
       "22982                         PROYECTO RIO SONORA       1.0  \n",
       "22983                             REAL DE QUIROGA       4.0  \n",
       "22984                                  BKV-CENTRO       6.0  \n",
       "22985                              VILLA DE SERIS       1.0  \n",
       "22986                             INV El Guayacan       2.0  \n",
       "22987                               REAL DE MINAS       4.0  \n",
       "22988                              VILLA DEL REAL       2.0  \n",
       "22989                                  SAN BENITO       1.0  \n",
       "22990                                 SIN COLONIA       5.0  \n",
       "22991                                   5 DE MAYO       1.0  \n",
       "22992                                 SIN COLONIA       5.0  \n",
       "22993                                    SAN LUIS       1.0  \n",
       "22994                    COL. CENTRO \\ KINO VIEJO       6.0  \n",
       "22995                                VILLA BONITA       4.0  \n",
       "\n",
       "[22996 rows x 9 columns]"
      ]
     },
     "execution_count": 55,
     "metadata": {},
     "output_type": "execute_result"
    }
   ],
   "source": [
    "SBH"
   ]
  },
  {
   "cell_type": "markdown",
   "metadata": {
    "colab_type": "text",
    "id": "iYnpqLnTBvfl"
   },
   "source": [
    "# RANDOM FOREST"
   ]
  },
  {
   "cell_type": "markdown",
   "metadata": {
    "colab_type": "text",
    "id": "m2fWPXuleXlN"
   },
   "source": [
    "## Imports and data cleaning"
   ]
  },
  {
   "cell_type": "code",
   "execution_count": 56,
   "metadata": {
    "colab": {},
    "colab_type": "code",
    "id": "RTKAniT1Yj88"
   },
   "outputs": [],
   "source": [
    "#This are the most common imports\n",
    "import pandas as pd\n",
    "import numpy as np\n",
    "import seaborn as sns\n",
    "import matplotlib.pyplot as plt\n",
    "from datetime import datetime, timedelta\n",
    "%matplotlib inline"
   ]
  },
  {
   "cell_type": "code",
   "execution_count": 57,
   "metadata": {
    "colab": {},
    "colab_type": "code",
    "id": "ZSRsYrKqk95O"
   },
   "outputs": [],
   "source": [
    "#This is for splitting the train data vs the test data\n",
    "from sklearn.model_selection import train_test_split\n",
    "#X_train, X_test, y_train, y_test = train_test_split(X,y, test_size=0.3, random_state = 101)\n",
    "\n",
    "# This is for Logistic Regression\n",
    "from sklearn.linear_model import LogisticRegression\n",
    "\n",
    "#This is for Linear Regression\n",
    "from sklearn.linear_model import LinearRegression\n",
    "\n",
    "#This is a import for classification_report, it will show the accuracy of the training model\n",
    "from sklearn.metrics import classification_report, confusion_matrix\n",
    "\n",
    "#This is a import for Random Forest\n",
    "from sklearn.tree import DecisionTreeClassifier\n",
    "from sklearn.ensemble import RandomForestClassifier\n",
    "\n",
    "#Steps to predict \n",
    "from sklearn.ensemble import RandomForestRegressor\n",
    "from IPython.display import display\n"
   ]
  },
  {
   "cell_type": "code",
   "execution_count": 59,
   "metadata": {
    "colab": {},
    "colab_type": "code",
    "id": "CutkXsbgCoVM"
   },
   "outputs": [],
   "source": [
    "SBH_F = pd.read_csv('serviciobomberos16-18.csv', encoding=\"latin1\", parse_dates=['FECHA', 'SALIDA', 'LLEGADA'])"
   ]
  },
  {
   "cell_type": "code",
   "execution_count": 60,
   "metadata": {
    "colab": {},
    "colab_type": "code",
    "id": "Q4R0p_wAs3fc"
   },
   "outputs": [],
   "source": [
    "SBH_F = SBH_F.applymap(lambda s:s.upper() if type(s) == str else s)"
   ]
  },
  {
   "cell_type": "code",
   "execution_count": 61,
   "metadata": {
    "colab": {
     "base_uri": "https://localhost:8080/",
     "height": 296
    },
    "colab_type": "code",
    "executionInfo": {
     "elapsed": 309,
     "status": "ok",
     "timestamp": 1564852052581,
     "user": {
      "displayName": "Daniel Ramirez Rios",
      "photoUrl": "https://lh6.googleusercontent.com/-vO3eHtVyrAk/AAAAAAAAAAI/AAAAAAAAA9g/abxupfvFsFk/s64/photo.jpg",
      "userId": "16809089177157616231"
     },
     "user_tz": 420
    },
    "id": "xEgDQ2IZCHlg",
    "outputId": "58052041-dc4a-4507-ba4e-c0dd9f4b7aa2"
   },
   "outputs": [
    {
     "data": {
      "text/html": [
       "<div>\n",
       "<style scoped>\n",
       "    .dataframe tbody tr th:only-of-type {\n",
       "        vertical-align: middle;\n",
       "    }\n",
       "\n",
       "    .dataframe tbody tr th {\n",
       "        vertical-align: top;\n",
       "    }\n",
       "\n",
       "    .dataframe thead th {\n",
       "        text-align: right;\n",
       "    }\n",
       "</style>\n",
       "<table border=\"1\" class=\"dataframe\">\n",
       "  <thead>\n",
       "    <tr style=\"text-align: right;\">\n",
       "      <th></th>\n",
       "      <th>Unnamed: 0</th>\n",
       "      <th>TIPO</th>\n",
       "      <th>LUGAR</th>\n",
       "      <th>FECHA</th>\n",
       "      <th>SALIDA</th>\n",
       "      <th>LLEGADA</th>\n",
       "      <th>CAUSA</th>\n",
       "      <th>COLONIA</th>\n",
       "      <th>ESTACION</th>\n",
       "      <th>TIEMPO TRANSCURRIDO</th>\n",
       "      <th>MES</th>\n",
       "      <th>DIA DE SEMANA</th>\n",
       "    </tr>\n",
       "  </thead>\n",
       "  <tbody>\n",
       "    <tr>\n",
       "      <th>0</th>\n",
       "      <td>0</td>\n",
       "      <td>INCENDIO DE ZACATE Y BASURA</td>\n",
       "      <td>COMERCIO</td>\n",
       "      <td>2016-01-01</td>\n",
       "      <td>2016-01-01 00:07:00</td>\n",
       "      <td>2016-01-01 00:16:00</td>\n",
       "      <td>FUEGO DIRECTO</td>\n",
       "      <td>SIN COLONIA</td>\n",
       "      <td>2.0</td>\n",
       "      <td>9.0</td>\n",
       "      <td>1</td>\n",
       "      <td>VIE</td>\n",
       "    </tr>\n",
       "    <tr>\n",
       "      <th>1</th>\n",
       "      <td>1</td>\n",
       "      <td>INCENDIO DE ZACATE Y BASURA</td>\n",
       "      <td>CASA</td>\n",
       "      <td>2016-01-01</td>\n",
       "      <td>2016-01-01 00:22:00</td>\n",
       "      <td>2016-01-01 00:32:00</td>\n",
       "      <td>FUEGO DIRECTO</td>\n",
       "      <td>LOMAS DE MADRID</td>\n",
       "      <td>1.0</td>\n",
       "      <td>10.0</td>\n",
       "      <td>1</td>\n",
       "      <td>VIE</td>\n",
       "    </tr>\n",
       "    <tr>\n",
       "      <th>2</th>\n",
       "      <td>2</td>\n",
       "      <td>INCENDIO DE CASA DE MATERIAL</td>\n",
       "      <td>CASA</td>\n",
       "      <td>2016-01-01</td>\n",
       "      <td>2016-01-01 00:29:00</td>\n",
       "      <td>2016-01-01 00:43:00</td>\n",
       "      <td>OTROS</td>\n",
       "      <td>PUERTA REAL RESIDENCIAL</td>\n",
       "      <td>1.0</td>\n",
       "      <td>14.0</td>\n",
       "      <td>1</td>\n",
       "      <td>VIE</td>\n",
       "    </tr>\n",
       "    <tr>\n",
       "      <th>3</th>\n",
       "      <td>3</td>\n",
       "      <td>INCENDIO DE ZACATE Y BASURA</td>\n",
       "      <td>VEHICULO</td>\n",
       "      <td>2016-01-01</td>\n",
       "      <td>2016-01-01 00:39:00</td>\n",
       "      <td>2016-01-01 00:43:00</td>\n",
       "      <td>FUEGO DIRECTO</td>\n",
       "      <td>NORBERTO ORTEGA</td>\n",
       "      <td>2.0</td>\n",
       "      <td>4.0</td>\n",
       "      <td>1</td>\n",
       "      <td>VIE</td>\n",
       "    </tr>\n",
       "    <tr>\n",
       "      <th>4</th>\n",
       "      <td>4</td>\n",
       "      <td>INCENDIO DE ZACATE Y BASURA</td>\n",
       "      <td>CASA</td>\n",
       "      <td>2016-01-01</td>\n",
       "      <td>2016-01-01 00:51:00</td>\n",
       "      <td>2016-01-01 00:59:00</td>\n",
       "      <td>FUEGO DIRECTO</td>\n",
       "      <td>MIGUEL HIDALGO</td>\n",
       "      <td>2.0</td>\n",
       "      <td>8.0</td>\n",
       "      <td>1</td>\n",
       "      <td>VIE</td>\n",
       "    </tr>\n",
       "  </tbody>\n",
       "</table>\n",
       "</div>"
      ],
      "text/plain": [
       "   Unnamed: 0                          TIPO     LUGAR      FECHA  \\\n",
       "0           0   INCENDIO DE ZACATE Y BASURA  COMERCIO 2016-01-01   \n",
       "1           1   INCENDIO DE ZACATE Y BASURA      CASA 2016-01-01   \n",
       "2           2  INCENDIO DE CASA DE MATERIAL      CASA 2016-01-01   \n",
       "3           3   INCENDIO DE ZACATE Y BASURA  VEHICULO 2016-01-01   \n",
       "4           4   INCENDIO DE ZACATE Y BASURA      CASA 2016-01-01   \n",
       "\n",
       "               SALIDA             LLEGADA          CAUSA  \\\n",
       "0 2016-01-01 00:07:00 2016-01-01 00:16:00  FUEGO DIRECTO   \n",
       "1 2016-01-01 00:22:00 2016-01-01 00:32:00  FUEGO DIRECTO   \n",
       "2 2016-01-01 00:29:00 2016-01-01 00:43:00          OTROS   \n",
       "3 2016-01-01 00:39:00 2016-01-01 00:43:00  FUEGO DIRECTO   \n",
       "4 2016-01-01 00:51:00 2016-01-01 00:59:00  FUEGO DIRECTO   \n",
       "\n",
       "                   COLONIA  ESTACION  TIEMPO TRANSCURRIDO  MES DIA DE SEMANA  \n",
       "0              SIN COLONIA       2.0                  9.0    1           VIE  \n",
       "1          LOMAS DE MADRID       1.0                 10.0    1           VIE  \n",
       "2  PUERTA REAL RESIDENCIAL       1.0                 14.0    1           VIE  \n",
       "3          NORBERTO ORTEGA       2.0                  4.0    1           VIE  \n",
       "4           MIGUEL HIDALGO       2.0                  8.0    1           VIE  "
      ]
     },
     "execution_count": 61,
     "metadata": {},
     "output_type": "execute_result"
    }
   ],
   "source": [
    "SBH_F.head()"
   ]
  },
  {
   "cell_type": "code",
   "execution_count": 62,
   "metadata": {
    "colab": {
     "base_uri": "https://localhost:8080/",
     "height": 302
    },
    "colab_type": "code",
    "executionInfo": {
     "elapsed": 248,
     "status": "ok",
     "timestamp": 1564852053051,
     "user": {
      "displayName": "Daniel Ramirez Rios",
      "photoUrl": "https://lh6.googleusercontent.com/-vO3eHtVyrAk/AAAAAAAAAAI/AAAAAAAAA9g/abxupfvFsFk/s64/photo.jpg",
      "userId": "16809089177157616231"
     },
     "user_tz": 420
    },
    "id": "tOrcAEcQCJ83",
    "outputId": "bf5ee53d-1b7c-47a5-bceb-37677285e654"
   },
   "outputs": [
    {
     "name": "stdout",
     "output_type": "stream",
     "text": [
      "<class 'pandas.core.frame.DataFrame'>\n",
      "RangeIndex: 18946 entries, 0 to 18945\n",
      "Data columns (total 12 columns):\n",
      "Unnamed: 0             18946 non-null int64\n",
      "TIPO                   18939 non-null object\n",
      "LUGAR                  18946 non-null object\n",
      "FECHA                  18946 non-null datetime64[ns]\n",
      "SALIDA                 18946 non-null datetime64[ns]\n",
      "LLEGADA                18844 non-null datetime64[ns]\n",
      "CAUSA                  18709 non-null object\n",
      "COLONIA                18578 non-null object\n",
      "ESTACION               18946 non-null float64\n",
      "TIEMPO TRANSCURRIDO    18844 non-null float64\n",
      "MES                    18946 non-null int64\n",
      "DIA DE SEMANA          18946 non-null object\n",
      "dtypes: datetime64[ns](3), float64(2), int64(2), object(5)\n",
      "memory usage: 1.7+ MB\n"
     ]
    }
   ],
   "source": [
    "SBH_F.info()"
   ]
  },
  {
   "cell_type": "code",
   "execution_count": 63,
   "metadata": {
    "colab": {},
    "colab_type": "code",
    "id": "ur7CU-EyCZul"
   },
   "outputs": [],
   "source": [
    "SBH_F.drop('Unnamed: 0', axis = 1, inplace= True)"
   ]
  },
  {
   "cell_type": "markdown",
   "metadata": {
    "colab_type": "text",
    "id": "1nYcViL0mLb4"
   },
   "source": [
    "Cleaning the data"
   ]
  },
  {
   "cell_type": "code",
   "execution_count": 64,
   "metadata": {
    "colab": {
     "base_uri": "https://localhost:8080/",
     "height": 286
    },
    "colab_type": "code",
    "executionInfo": {
     "elapsed": 239,
     "status": "ok",
     "timestamp": 1564852058260,
     "user": {
      "displayName": "Daniel Ramirez Rios",
      "photoUrl": "https://lh6.googleusercontent.com/-vO3eHtVyrAk/AAAAAAAAAAI/AAAAAAAAA9g/abxupfvFsFk/s64/photo.jpg",
      "userId": "16809089177157616231"
     },
     "user_tz": 420
    },
    "id": "idFwAkr3Djsu",
    "outputId": "5ddea893-0610-4372-bce8-209f16570fcf"
   },
   "outputs": [
    {
     "name": "stdout",
     "output_type": "stream",
     "text": [
      "<class 'pandas.core.frame.DataFrame'>\n",
      "RangeIndex: 18946 entries, 0 to 18945\n",
      "Data columns (total 11 columns):\n",
      "TIPO                   18939 non-null object\n",
      "LUGAR                  18946 non-null object\n",
      "FECHA                  18946 non-null datetime64[ns]\n",
      "SALIDA                 18946 non-null datetime64[ns]\n",
      "LLEGADA                18844 non-null datetime64[ns]\n",
      "CAUSA                  18709 non-null object\n",
      "COLONIA                18578 non-null object\n",
      "ESTACION               18946 non-null float64\n",
      "TIEMPO TRANSCURRIDO    18844 non-null float64\n",
      "MES                    18946 non-null int64\n",
      "DIA DE SEMANA          18946 non-null object\n",
      "dtypes: datetime64[ns](3), float64(2), int64(1), object(5)\n",
      "memory usage: 1.6+ MB\n"
     ]
    }
   ],
   "source": [
    "SBH_F.info()"
   ]
  },
  {
   "cell_type": "markdown",
   "metadata": {
    "colab_type": "text",
    "id": "Dp4UQIxvm2Lg"
   },
   "source": [
    "Delete the negative time in the column TIEMPO TRANSCURRIDO"
   ]
  },
  {
   "cell_type": "code",
   "execution_count": 65,
   "metadata": {
    "colab": {
     "base_uri": "https://localhost:8080/",
     "height": 286
    },
    "colab_type": "code",
    "executionInfo": {
     "elapsed": 287,
     "status": "ok",
     "timestamp": 1564852059379,
     "user": {
      "displayName": "Daniel Ramirez Rios",
      "photoUrl": "https://lh6.googleusercontent.com/-vO3eHtVyrAk/AAAAAAAAAAI/AAAAAAAAA9g/abxupfvFsFk/s64/photo.jpg",
      "userId": "16809089177157616231"
     },
     "user_tz": 420
    },
    "id": "aRfn6_I_D433",
    "outputId": "be85e10b-2e59-473b-8c4d-72fd01fd9890"
   },
   "outputs": [
    {
     "name": "stdout",
     "output_type": "stream",
     "text": [
      "<class 'pandas.core.frame.DataFrame'>\n",
      "Int64Index: 18545 entries, 0 to 18945\n",
      "Data columns (total 11 columns):\n",
      "TIPO                   18538 non-null object\n",
      "LUGAR                  18545 non-null object\n",
      "FECHA                  18545 non-null datetime64[ns]\n",
      "SALIDA                 18545 non-null datetime64[ns]\n",
      "LLEGADA                18545 non-null datetime64[ns]\n",
      "CAUSA                  18321 non-null object\n",
      "COLONIA                18197 non-null object\n",
      "ESTACION               18545 non-null float64\n",
      "TIEMPO TRANSCURRIDO    18545 non-null float64\n",
      "MES                    18545 non-null int64\n",
      "DIA DE SEMANA          18545 non-null object\n",
      "dtypes: datetime64[ns](3), float64(2), int64(1), object(5)\n",
      "memory usage: 1.7+ MB\n"
     ]
    }
   ],
   "source": [
    "SBH_F= SBH_F[(SBH_F['TIEMPO TRANSCURRIDO']) >0 & (SBH_F['TIEMPO TRANSCURRIDO'] < 120)]\n",
    "SBH_F.info()"
   ]
  },
  {
   "cell_type": "markdown",
   "metadata": {
    "colab_type": "text",
    "id": "engysVUSnDcf"
   },
   "source": [
    "Check how many columns are empty"
   ]
  },
  {
   "cell_type": "code",
   "execution_count": 66,
   "metadata": {
    "colab": {
     "base_uri": "https://localhost:8080/",
     "height": 218
    },
    "colab_type": "code",
    "executionInfo": {
     "elapsed": 257,
     "status": "ok",
     "timestamp": 1564852060350,
     "user": {
      "displayName": "Daniel Ramirez Rios",
      "photoUrl": "https://lh6.googleusercontent.com/-vO3eHtVyrAk/AAAAAAAAAAI/AAAAAAAAA9g/abxupfvFsFk/s64/photo.jpg",
      "userId": "16809089177157616231"
     },
     "user_tz": 420
    },
    "id": "WhvtAQW9EfUr",
    "outputId": "b258c182-a80b-4bf1-da18-74dc145e3083"
   },
   "outputs": [
    {
     "data": {
      "text/plain": [
       "TIPO                     7\n",
       "LUGAR                    0\n",
       "FECHA                    0\n",
       "SALIDA                   0\n",
       "LLEGADA                  0\n",
       "CAUSA                  224\n",
       "COLONIA                348\n",
       "ESTACION                 0\n",
       "TIEMPO TRANSCURRIDO      0\n",
       "MES                      0\n",
       "DIA DE SEMANA            0\n",
       "dtype: int64"
      ]
     },
     "execution_count": 66,
     "metadata": {},
     "output_type": "execute_result"
    }
   ],
   "source": [
    "SBH_F.isna().sum()"
   ]
  },
  {
   "cell_type": "markdown",
   "metadata": {
    "colab_type": "text",
    "id": "JCUXt_TMnexs"
   },
   "source": [
    "Filling empty data"
   ]
  },
  {
   "cell_type": "code",
   "execution_count": 67,
   "metadata": {
    "colab": {},
    "colab_type": "code",
    "id": "Xi4gnq6BniOF"
   },
   "outputs": [],
   "source": [
    "SBH_F['TIPO'].fillna('OTROS', inplace=True)\n",
    "SBH_F['LUGAR'].replace('-','OTROS',inplace=True)\n",
    "SBH_F['LUGAR'].replace('ENDA','OTROS',inplace=True)\n",
    "SBH_F['LUGAR'].fillna('OTROS', inplace=True)\n",
    "SBH_F['CAUSA'].fillna('OTROS', inplace=True)\n",
    "SBH_F['COLONIA'].fillna('SIN COLONIA', inplace=True)"
   ]
  },
  {
   "cell_type": "markdown",
   "metadata": {
    "colab_type": "text",
    "id": "EfGXDOFGnp9d"
   },
   "source": [
    "Check if it worked"
   ]
  },
  {
   "cell_type": "code",
   "execution_count": 68,
   "metadata": {
    "colab": {
     "base_uri": "https://localhost:8080/",
     "height": 218
    },
    "colab_type": "code",
    "executionInfo": {
     "elapsed": 272,
     "status": "ok",
     "timestamp": 1564852063351,
     "user": {
      "displayName": "Daniel Ramirez Rios",
      "photoUrl": "https://lh6.googleusercontent.com/-vO3eHtVyrAk/AAAAAAAAAAI/AAAAAAAAA9g/abxupfvFsFk/s64/photo.jpg",
      "userId": "16809089177157616231"
     },
     "user_tz": 420
    },
    "id": "Y1P0WmmYnrxL",
    "outputId": "17dc4121-d333-4165-f813-77c723e7fde4"
   },
   "outputs": [
    {
     "data": {
      "text/plain": [
       "TIPO                   0\n",
       "LUGAR                  0\n",
       "FECHA                  0\n",
       "SALIDA                 0\n",
       "LLEGADA                0\n",
       "CAUSA                  0\n",
       "COLONIA                0\n",
       "ESTACION               0\n",
       "TIEMPO TRANSCURRIDO    0\n",
       "MES                    0\n",
       "DIA DE SEMANA          0\n",
       "dtype: int64"
      ]
     },
     "execution_count": 68,
     "metadata": {},
     "output_type": "execute_result"
    }
   ],
   "source": [
    "SBH_F.isna().sum()"
   ]
  },
  {
   "cell_type": "markdown",
   "metadata": {
    "colab_type": "text",
    "id": "EeHqbisIsmGk"
   },
   "source": [
    "Convert the column LUGAR to numbers"
   ]
  },
  {
   "cell_type": "code",
   "execution_count": 69,
   "metadata": {
    "colab": {},
    "colab_type": "code",
    "id": "ge5MI4IvsnWt"
   },
   "outputs": [],
   "source": [
    "SBH_F['LUGAR'] = pd.factorize(SBH_F['LUGAR'], sort=True)[0] + 1"
   ]
  },
  {
   "cell_type": "code",
   "execution_count": 70,
   "metadata": {
    "colab": {
     "base_uri": "https://localhost:8080/",
     "height": 296
    },
    "colab_type": "code",
    "executionInfo": {
     "elapsed": 305,
     "status": "ok",
     "timestamp": 1564852070581,
     "user": {
      "displayName": "Daniel Ramirez Rios",
      "photoUrl": "https://lh6.googleusercontent.com/-vO3eHtVyrAk/AAAAAAAAAAI/AAAAAAAAA9g/abxupfvFsFk/s64/photo.jpg",
      "userId": "16809089177157616231"
     },
     "user_tz": 420
    },
    "id": "aU4bGkM1LVQj",
    "outputId": "2619a405-d90d-4f1a-cf86-dbcd175e47c0"
   },
   "outputs": [
    {
     "data": {
      "text/html": [
       "<div>\n",
       "<style scoped>\n",
       "    .dataframe tbody tr th:only-of-type {\n",
       "        vertical-align: middle;\n",
       "    }\n",
       "\n",
       "    .dataframe tbody tr th {\n",
       "        vertical-align: top;\n",
       "    }\n",
       "\n",
       "    .dataframe thead th {\n",
       "        text-align: right;\n",
       "    }\n",
       "</style>\n",
       "<table border=\"1\" class=\"dataframe\">\n",
       "  <thead>\n",
       "    <tr style=\"text-align: right;\">\n",
       "      <th></th>\n",
       "      <th>TIPO</th>\n",
       "      <th>LUGAR</th>\n",
       "      <th>FECHA</th>\n",
       "      <th>SALIDA</th>\n",
       "      <th>LLEGADA</th>\n",
       "      <th>CAUSA</th>\n",
       "      <th>COLONIA</th>\n",
       "      <th>ESTACION</th>\n",
       "      <th>TIEMPO TRANSCURRIDO</th>\n",
       "      <th>MES</th>\n",
       "      <th>DIA DE SEMANA</th>\n",
       "    </tr>\n",
       "  </thead>\n",
       "  <tbody>\n",
       "    <tr>\n",
       "      <th>0</th>\n",
       "      <td>INCENDIO DE ZACATE Y BASURA</td>\n",
       "      <td>5</td>\n",
       "      <td>2016-01-01</td>\n",
       "      <td>2016-01-01 00:07:00</td>\n",
       "      <td>2016-01-01 00:16:00</td>\n",
       "      <td>FUEGO DIRECTO</td>\n",
       "      <td>SIN COLONIA</td>\n",
       "      <td>2.0</td>\n",
       "      <td>9.0</td>\n",
       "      <td>1</td>\n",
       "      <td>VIE</td>\n",
       "    </tr>\n",
       "    <tr>\n",
       "      <th>1</th>\n",
       "      <td>INCENDIO DE ZACATE Y BASURA</td>\n",
       "      <td>4</td>\n",
       "      <td>2016-01-01</td>\n",
       "      <td>2016-01-01 00:22:00</td>\n",
       "      <td>2016-01-01 00:32:00</td>\n",
       "      <td>FUEGO DIRECTO</td>\n",
       "      <td>LOMAS DE MADRID</td>\n",
       "      <td>1.0</td>\n",
       "      <td>10.0</td>\n",
       "      <td>1</td>\n",
       "      <td>VIE</td>\n",
       "    </tr>\n",
       "    <tr>\n",
       "      <th>2</th>\n",
       "      <td>INCENDIO DE CASA DE MATERIAL</td>\n",
       "      <td>4</td>\n",
       "      <td>2016-01-01</td>\n",
       "      <td>2016-01-01 00:29:00</td>\n",
       "      <td>2016-01-01 00:43:00</td>\n",
       "      <td>OTROS</td>\n",
       "      <td>PUERTA REAL RESIDENCIAL</td>\n",
       "      <td>1.0</td>\n",
       "      <td>14.0</td>\n",
       "      <td>1</td>\n",
       "      <td>VIE</td>\n",
       "    </tr>\n",
       "    <tr>\n",
       "      <th>3</th>\n",
       "      <td>INCENDIO DE ZACATE Y BASURA</td>\n",
       "      <td>11</td>\n",
       "      <td>2016-01-01</td>\n",
       "      <td>2016-01-01 00:39:00</td>\n",
       "      <td>2016-01-01 00:43:00</td>\n",
       "      <td>FUEGO DIRECTO</td>\n",
       "      <td>NORBERTO ORTEGA</td>\n",
       "      <td>2.0</td>\n",
       "      <td>4.0</td>\n",
       "      <td>1</td>\n",
       "      <td>VIE</td>\n",
       "    </tr>\n",
       "    <tr>\n",
       "      <th>4</th>\n",
       "      <td>INCENDIO DE ZACATE Y BASURA</td>\n",
       "      <td>4</td>\n",
       "      <td>2016-01-01</td>\n",
       "      <td>2016-01-01 00:51:00</td>\n",
       "      <td>2016-01-01 00:59:00</td>\n",
       "      <td>FUEGO DIRECTO</td>\n",
       "      <td>MIGUEL HIDALGO</td>\n",
       "      <td>2.0</td>\n",
       "      <td>8.0</td>\n",
       "      <td>1</td>\n",
       "      <td>VIE</td>\n",
       "    </tr>\n",
       "  </tbody>\n",
       "</table>\n",
       "</div>"
      ],
      "text/plain": [
       "                           TIPO  LUGAR      FECHA              SALIDA  \\\n",
       "0   INCENDIO DE ZACATE Y BASURA      5 2016-01-01 2016-01-01 00:07:00   \n",
       "1   INCENDIO DE ZACATE Y BASURA      4 2016-01-01 2016-01-01 00:22:00   \n",
       "2  INCENDIO DE CASA DE MATERIAL      4 2016-01-01 2016-01-01 00:29:00   \n",
       "3   INCENDIO DE ZACATE Y BASURA     11 2016-01-01 2016-01-01 00:39:00   \n",
       "4   INCENDIO DE ZACATE Y BASURA      4 2016-01-01 2016-01-01 00:51:00   \n",
       "\n",
       "              LLEGADA          CAUSA                  COLONIA  ESTACION  \\\n",
       "0 2016-01-01 00:16:00  FUEGO DIRECTO              SIN COLONIA       2.0   \n",
       "1 2016-01-01 00:32:00  FUEGO DIRECTO          LOMAS DE MADRID       1.0   \n",
       "2 2016-01-01 00:43:00          OTROS  PUERTA REAL RESIDENCIAL       1.0   \n",
       "3 2016-01-01 00:43:00  FUEGO DIRECTO          NORBERTO ORTEGA       2.0   \n",
       "4 2016-01-01 00:59:00  FUEGO DIRECTO           MIGUEL HIDALGO       2.0   \n",
       "\n",
       "   TIEMPO TRANSCURRIDO  MES DIA DE SEMANA  \n",
       "0                  9.0    1           VIE  \n",
       "1                 10.0    1           VIE  \n",
       "2                 14.0    1           VIE  \n",
       "3                  4.0    1           VIE  \n",
       "4                  8.0    1           VIE  "
      ]
     },
     "execution_count": 70,
     "metadata": {},
     "output_type": "execute_result"
    }
   ],
   "source": [
    "SBH_F.head()"
   ]
  },
  {
   "cell_type": "markdown",
   "metadata": {
    "colab_type": "text",
    "id": "V_s6rmQauikP"
   },
   "source": [
    "Convert the column CAUSA to numbers"
   ]
  },
  {
   "cell_type": "code",
   "execution_count": 71,
   "metadata": {
    "colab": {},
    "colab_type": "code",
    "id": "OChXeSJ6utut"
   },
   "outputs": [],
   "source": [
    "SBH_F['CAUSA'] = pd.factorize(SBH_F['CAUSA'], sort=True)[0] + 1"
   ]
  },
  {
   "cell_type": "markdown",
   "metadata": {
    "colab_type": "text",
    "id": "nBcNNkUwuXy2"
   },
   "source": [
    "Convert the column COLONIA to numbers"
   ]
  },
  {
   "cell_type": "code",
   "execution_count": 72,
   "metadata": {
    "colab": {},
    "colab_type": "code",
    "id": "BPd72uTXJ6XY"
   },
   "outputs": [],
   "source": [
    "SBH_F['COLONIA'] = pd.factorize(SBH_F['COLONIA'], sort=True)[0] + 1"
   ]
  },
  {
   "cell_type": "markdown",
   "metadata": {
    "colab_type": "text",
    "id": "yd3QULJCvigI"
   },
   "source": [
    "Drop the column Dia de Semana"
   ]
  },
  {
   "cell_type": "code",
   "execution_count": 73,
   "metadata": {
    "colab": {
     "base_uri": "https://localhost:8080/",
     "height": 195
    },
    "colab_type": "code",
    "executionInfo": {
     "elapsed": 254,
     "status": "ok",
     "timestamp": 1564852077271,
     "user": {
      "displayName": "Daniel Ramirez Rios",
      "photoUrl": "https://lh6.googleusercontent.com/-vO3eHtVyrAk/AAAAAAAAAAI/AAAAAAAAA9g/abxupfvFsFk/s64/photo.jpg",
      "userId": "16809089177157616231"
     },
     "user_tz": 420
    },
    "id": "YVlpz-Hxvdcx",
    "outputId": "478999b7-429a-47cb-82e1-0ab57a594771"
   },
   "outputs": [
    {
     "data": {
      "text/html": [
       "<div>\n",
       "<style scoped>\n",
       "    .dataframe tbody tr th:only-of-type {\n",
       "        vertical-align: middle;\n",
       "    }\n",
       "\n",
       "    .dataframe tbody tr th {\n",
       "        vertical-align: top;\n",
       "    }\n",
       "\n",
       "    .dataframe thead th {\n",
       "        text-align: right;\n",
       "    }\n",
       "</style>\n",
       "<table border=\"1\" class=\"dataframe\">\n",
       "  <thead>\n",
       "    <tr style=\"text-align: right;\">\n",
       "      <th></th>\n",
       "      <th>TIPO</th>\n",
       "      <th>LUGAR</th>\n",
       "      <th>FECHA</th>\n",
       "      <th>SALIDA</th>\n",
       "      <th>LLEGADA</th>\n",
       "      <th>CAUSA</th>\n",
       "      <th>COLONIA</th>\n",
       "      <th>ESTACION</th>\n",
       "      <th>TIEMPO TRANSCURRIDO</th>\n",
       "    </tr>\n",
       "  </thead>\n",
       "  <tbody>\n",
       "    <tr>\n",
       "      <th>0</th>\n",
       "      <td>INCENDIO DE ZACATE Y BASURA</td>\n",
       "      <td>5</td>\n",
       "      <td>2016-01-01</td>\n",
       "      <td>2016-01-01 00:07:00</td>\n",
       "      <td>2016-01-01 00:16:00</td>\n",
       "      <td>23</td>\n",
       "      <td>563</td>\n",
       "      <td>2.0</td>\n",
       "      <td>9.0</td>\n",
       "    </tr>\n",
       "    <tr>\n",
       "      <th>1</th>\n",
       "      <td>INCENDIO DE ZACATE Y BASURA</td>\n",
       "      <td>4</td>\n",
       "      <td>2016-01-01</td>\n",
       "      <td>2016-01-01 00:22:00</td>\n",
       "      <td>2016-01-01 00:32:00</td>\n",
       "      <td>23</td>\n",
       "      <td>316</td>\n",
       "      <td>1.0</td>\n",
       "      <td>10.0</td>\n",
       "    </tr>\n",
       "    <tr>\n",
       "      <th>2</th>\n",
       "      <td>INCENDIO DE CASA DE MATERIAL</td>\n",
       "      <td>4</td>\n",
       "      <td>2016-01-01</td>\n",
       "      <td>2016-01-01 00:29:00</td>\n",
       "      <td>2016-01-01 00:43:00</td>\n",
       "      <td>39</td>\n",
       "      <td>477</td>\n",
       "      <td>1.0</td>\n",
       "      <td>14.0</td>\n",
       "    </tr>\n",
       "    <tr>\n",
       "      <th>3</th>\n",
       "      <td>INCENDIO DE ZACATE Y BASURA</td>\n",
       "      <td>11</td>\n",
       "      <td>2016-01-01</td>\n",
       "      <td>2016-01-01 00:39:00</td>\n",
       "      <td>2016-01-01 00:43:00</td>\n",
       "      <td>23</td>\n",
       "      <td>366</td>\n",
       "      <td>2.0</td>\n",
       "      <td>4.0</td>\n",
       "    </tr>\n",
       "    <tr>\n",
       "      <th>4</th>\n",
       "      <td>INCENDIO DE ZACATE Y BASURA</td>\n",
       "      <td>4</td>\n",
       "      <td>2016-01-01</td>\n",
       "      <td>2016-01-01 00:51:00</td>\n",
       "      <td>2016-01-01 00:59:00</td>\n",
       "      <td>23</td>\n",
       "      <td>350</td>\n",
       "      <td>2.0</td>\n",
       "      <td>8.0</td>\n",
       "    </tr>\n",
       "  </tbody>\n",
       "</table>\n",
       "</div>"
      ],
      "text/plain": [
       "                           TIPO  LUGAR      FECHA              SALIDA  \\\n",
       "0   INCENDIO DE ZACATE Y BASURA      5 2016-01-01 2016-01-01 00:07:00   \n",
       "1   INCENDIO DE ZACATE Y BASURA      4 2016-01-01 2016-01-01 00:22:00   \n",
       "2  INCENDIO DE CASA DE MATERIAL      4 2016-01-01 2016-01-01 00:29:00   \n",
       "3   INCENDIO DE ZACATE Y BASURA     11 2016-01-01 2016-01-01 00:39:00   \n",
       "4   INCENDIO DE ZACATE Y BASURA      4 2016-01-01 2016-01-01 00:51:00   \n",
       "\n",
       "              LLEGADA  CAUSA  COLONIA  ESTACION  TIEMPO TRANSCURRIDO  \n",
       "0 2016-01-01 00:16:00     23      563       2.0                  9.0  \n",
       "1 2016-01-01 00:32:00     23      316       1.0                 10.0  \n",
       "2 2016-01-01 00:43:00     39      477       1.0                 14.0  \n",
       "3 2016-01-01 00:43:00     23      366       2.0                  4.0  \n",
       "4 2016-01-01 00:59:00     23      350       2.0                  8.0  "
      ]
     },
     "execution_count": 73,
     "metadata": {},
     "output_type": "execute_result"
    }
   ],
   "source": [
    "SBH_F.drop(['MES', 'DIA DE SEMANA'], axis = 1, inplace= True)\n",
    "SBH_F.head()"
   ]
  },
  {
   "cell_type": "code",
   "execution_count": 74,
   "metadata": {
    "colab": {
     "base_uri": "https://localhost:8080/",
     "height": 195
    },
    "colab_type": "code",
    "executionInfo": {
     "elapsed": 296,
     "status": "ok",
     "timestamp": 1564852078845,
     "user": {
      "displayName": "Daniel Ramirez Rios",
      "photoUrl": "https://lh6.googleusercontent.com/-vO3eHtVyrAk/AAAAAAAAAAI/AAAAAAAAA9g/abxupfvFsFk/s64/photo.jpg",
      "userId": "16809089177157616231"
     },
     "user_tz": 420
    },
    "id": "NYgGSZLI_YnG",
    "outputId": "266d1595-d362-42c5-c07e-e37969094b2c"
   },
   "outputs": [
    {
     "data": {
      "text/html": [
       "<div>\n",
       "<style scoped>\n",
       "    .dataframe tbody tr th:only-of-type {\n",
       "        vertical-align: middle;\n",
       "    }\n",
       "\n",
       "    .dataframe tbody tr th {\n",
       "        vertical-align: top;\n",
       "    }\n",
       "\n",
       "    .dataframe thead th {\n",
       "        text-align: right;\n",
       "    }\n",
       "</style>\n",
       "<table border=\"1\" class=\"dataframe\">\n",
       "  <thead>\n",
       "    <tr style=\"text-align: right;\">\n",
       "      <th></th>\n",
       "      <th>TIPO</th>\n",
       "      <th>LUGAR</th>\n",
       "      <th>FECHA</th>\n",
       "      <th>SALIDA</th>\n",
       "      <th>LLEGADA</th>\n",
       "      <th>CAUSA</th>\n",
       "      <th>COLONIA</th>\n",
       "      <th>ESTACION</th>\n",
       "      <th>TIEMPO TRANSCURRIDO</th>\n",
       "    </tr>\n",
       "  </thead>\n",
       "  <tbody>\n",
       "    <tr>\n",
       "      <th>0</th>\n",
       "      <td>INCENDIO DE ZACATE Y BASURA</td>\n",
       "      <td>5</td>\n",
       "      <td>2016-01-01</td>\n",
       "      <td>2016-01-01 00:07:00</td>\n",
       "      <td>2016-01-01 00:16:00</td>\n",
       "      <td>23</td>\n",
       "      <td>563</td>\n",
       "      <td>2.0</td>\n",
       "      <td>9.0</td>\n",
       "    </tr>\n",
       "    <tr>\n",
       "      <th>1</th>\n",
       "      <td>INCENDIO DE ZACATE Y BASURA</td>\n",
       "      <td>4</td>\n",
       "      <td>2016-01-01</td>\n",
       "      <td>2016-01-01 00:22:00</td>\n",
       "      <td>2016-01-01 00:32:00</td>\n",
       "      <td>23</td>\n",
       "      <td>316</td>\n",
       "      <td>1.0</td>\n",
       "      <td>10.0</td>\n",
       "    </tr>\n",
       "    <tr>\n",
       "      <th>2</th>\n",
       "      <td>INCENDIO DE CASA DE MATERIAL</td>\n",
       "      <td>4</td>\n",
       "      <td>2016-01-01</td>\n",
       "      <td>2016-01-01 00:29:00</td>\n",
       "      <td>2016-01-01 00:43:00</td>\n",
       "      <td>39</td>\n",
       "      <td>477</td>\n",
       "      <td>1.0</td>\n",
       "      <td>14.0</td>\n",
       "    </tr>\n",
       "    <tr>\n",
       "      <th>3</th>\n",
       "      <td>INCENDIO DE ZACATE Y BASURA</td>\n",
       "      <td>11</td>\n",
       "      <td>2016-01-01</td>\n",
       "      <td>2016-01-01 00:39:00</td>\n",
       "      <td>2016-01-01 00:43:00</td>\n",
       "      <td>23</td>\n",
       "      <td>366</td>\n",
       "      <td>2.0</td>\n",
       "      <td>4.0</td>\n",
       "    </tr>\n",
       "    <tr>\n",
       "      <th>4</th>\n",
       "      <td>INCENDIO DE ZACATE Y BASURA</td>\n",
       "      <td>4</td>\n",
       "      <td>2016-01-01</td>\n",
       "      <td>2016-01-01 00:51:00</td>\n",
       "      <td>2016-01-01 00:59:00</td>\n",
       "      <td>23</td>\n",
       "      <td>350</td>\n",
       "      <td>2.0</td>\n",
       "      <td>8.0</td>\n",
       "    </tr>\n",
       "  </tbody>\n",
       "</table>\n",
       "</div>"
      ],
      "text/plain": [
       "                           TIPO  LUGAR      FECHA              SALIDA  \\\n",
       "0   INCENDIO DE ZACATE Y BASURA      5 2016-01-01 2016-01-01 00:07:00   \n",
       "1   INCENDIO DE ZACATE Y BASURA      4 2016-01-01 2016-01-01 00:22:00   \n",
       "2  INCENDIO DE CASA DE MATERIAL      4 2016-01-01 2016-01-01 00:29:00   \n",
       "3   INCENDIO DE ZACATE Y BASURA     11 2016-01-01 2016-01-01 00:39:00   \n",
       "4   INCENDIO DE ZACATE Y BASURA      4 2016-01-01 2016-01-01 00:51:00   \n",
       "\n",
       "              LLEGADA  CAUSA  COLONIA  ESTACION  TIEMPO TRANSCURRIDO  \n",
       "0 2016-01-01 00:16:00     23      563       2.0                  9.0  \n",
       "1 2016-01-01 00:32:00     23      316       1.0                 10.0  \n",
       "2 2016-01-01 00:43:00     39      477       1.0                 14.0  \n",
       "3 2016-01-01 00:43:00     23      366       2.0                  4.0  \n",
       "4 2016-01-01 00:59:00     23      350       2.0                  8.0  "
      ]
     },
     "execution_count": 74,
     "metadata": {},
     "output_type": "execute_result"
    }
   ],
   "source": [
    "SBH_F.head()"
   ]
  },
  {
   "cell_type": "code",
   "execution_count": 75,
   "metadata": {
    "colab": {
     "base_uri": "https://localhost:8080/",
     "height": 195
    },
    "colab_type": "code",
    "executionInfo": {
     "elapsed": 250,
     "status": "ok",
     "timestamp": 1564852080945,
     "user": {
      "displayName": "Daniel Ramirez Rios",
      "photoUrl": "https://lh6.googleusercontent.com/-vO3eHtVyrAk/AAAAAAAAAAI/AAAAAAAAA9g/abxupfvFsFk/s64/photo.jpg",
      "userId": "16809089177157616231"
     },
     "user_tz": 420
    },
    "id": "uHDTu3PaKZyp",
    "outputId": "2ec40fe9-bd6c-4b65-e76c-d2a6e0c02dc4"
   },
   "outputs": [
    {
     "data": {
      "text/html": [
       "<div>\n",
       "<style scoped>\n",
       "    .dataframe tbody tr th:only-of-type {\n",
       "        vertical-align: middle;\n",
       "    }\n",
       "\n",
       "    .dataframe tbody tr th {\n",
       "        vertical-align: top;\n",
       "    }\n",
       "\n",
       "    .dataframe thead th {\n",
       "        text-align: right;\n",
       "    }\n",
       "</style>\n",
       "<table border=\"1\" class=\"dataframe\">\n",
       "  <thead>\n",
       "    <tr style=\"text-align: right;\">\n",
       "      <th></th>\n",
       "      <th>TIPO</th>\n",
       "      <th>LUGAR</th>\n",
       "      <th>CAUSA</th>\n",
       "      <th>COLONIA</th>\n",
       "      <th>ESTACION</th>\n",
       "      <th>TIEMPO TRANSCURRIDO</th>\n",
       "      <th>Year</th>\n",
       "      <th>Month</th>\n",
       "      <th>Day</th>\n",
       "      <th>Hour</th>\n",
       "      <th>Minute</th>\n",
       "      <th>Weekday</th>\n",
       "    </tr>\n",
       "  </thead>\n",
       "  <tbody>\n",
       "    <tr>\n",
       "      <th>0</th>\n",
       "      <td>INCENDIO DE ZACATE Y BASURA</td>\n",
       "      <td>5</td>\n",
       "      <td>23</td>\n",
       "      <td>563</td>\n",
       "      <td>2.0</td>\n",
       "      <td>9.0</td>\n",
       "      <td>2016</td>\n",
       "      <td>1</td>\n",
       "      <td>1</td>\n",
       "      <td>0</td>\n",
       "      <td>7</td>\n",
       "      <td>4</td>\n",
       "    </tr>\n",
       "    <tr>\n",
       "      <th>1</th>\n",
       "      <td>INCENDIO DE ZACATE Y BASURA</td>\n",
       "      <td>4</td>\n",
       "      <td>23</td>\n",
       "      <td>316</td>\n",
       "      <td>1.0</td>\n",
       "      <td>10.0</td>\n",
       "      <td>2016</td>\n",
       "      <td>1</td>\n",
       "      <td>1</td>\n",
       "      <td>0</td>\n",
       "      <td>22</td>\n",
       "      <td>4</td>\n",
       "    </tr>\n",
       "    <tr>\n",
       "      <th>2</th>\n",
       "      <td>INCENDIO DE CASA DE MATERIAL</td>\n",
       "      <td>4</td>\n",
       "      <td>39</td>\n",
       "      <td>477</td>\n",
       "      <td>1.0</td>\n",
       "      <td>14.0</td>\n",
       "      <td>2016</td>\n",
       "      <td>1</td>\n",
       "      <td>1</td>\n",
       "      <td>0</td>\n",
       "      <td>29</td>\n",
       "      <td>4</td>\n",
       "    </tr>\n",
       "    <tr>\n",
       "      <th>3</th>\n",
       "      <td>INCENDIO DE ZACATE Y BASURA</td>\n",
       "      <td>11</td>\n",
       "      <td>23</td>\n",
       "      <td>366</td>\n",
       "      <td>2.0</td>\n",
       "      <td>4.0</td>\n",
       "      <td>2016</td>\n",
       "      <td>1</td>\n",
       "      <td>1</td>\n",
       "      <td>0</td>\n",
       "      <td>39</td>\n",
       "      <td>4</td>\n",
       "    </tr>\n",
       "    <tr>\n",
       "      <th>4</th>\n",
       "      <td>INCENDIO DE ZACATE Y BASURA</td>\n",
       "      <td>4</td>\n",
       "      <td>23</td>\n",
       "      <td>350</td>\n",
       "      <td>2.0</td>\n",
       "      <td>8.0</td>\n",
       "      <td>2016</td>\n",
       "      <td>1</td>\n",
       "      <td>1</td>\n",
       "      <td>0</td>\n",
       "      <td>51</td>\n",
       "      <td>4</td>\n",
       "    </tr>\n",
       "  </tbody>\n",
       "</table>\n",
       "</div>"
      ],
      "text/plain": [
       "                           TIPO  LUGAR  CAUSA  COLONIA  ESTACION  \\\n",
       "0   INCENDIO DE ZACATE Y BASURA      5     23      563       2.0   \n",
       "1   INCENDIO DE ZACATE Y BASURA      4     23      316       1.0   \n",
       "2  INCENDIO DE CASA DE MATERIAL      4     39      477       1.0   \n",
       "3   INCENDIO DE ZACATE Y BASURA     11     23      366       2.0   \n",
       "4   INCENDIO DE ZACATE Y BASURA      4     23      350       2.0   \n",
       "\n",
       "   TIEMPO TRANSCURRIDO  Year  Month  Day  Hour  Minute  Weekday  \n",
       "0                  9.0  2016      1    1     0       7        4  \n",
       "1                 10.0  2016      1    1     0      22        4  \n",
       "2                 14.0  2016      1    1     0      29        4  \n",
       "3                  4.0  2016      1    1     0      39        4  \n",
       "4                  8.0  2016      1    1     0      51        4  "
      ]
     },
     "execution_count": 75,
     "metadata": {},
     "output_type": "execute_result"
    }
   ],
   "source": [
    "sbh_rf_incendios = SBH_F.copy()\n",
    "\n",
    "sbh_rf_incendios['Year'] = sbh_rf_incendios['SALIDA'].dt.year\n",
    "sbh_rf_incendios['Month'] = sbh_rf_incendios['SALIDA'].dt.month\n",
    "sbh_rf_incendios['Day'] = sbh_rf_incendios['SALIDA'].dt.day\n",
    "sbh_rf_incendios['Hour'] = sbh_rf_incendios['SALIDA'].dt.hour\n",
    "sbh_rf_incendios['Minute'] = sbh_rf_incendios['SALIDA'].dt.minute\n",
    "sbh_rf_incendios['Weekday'] = sbh_rf_incendios['SALIDA'].dt.dayofweek\n",
    "sbh_rf_incendios = sbh_rf_incendios.drop(['SALIDA','FECHA','LLEGADA'], axis=1)\n",
    "sbh_rf_incendios.head()"
   ]
  },
  {
   "cell_type": "code",
   "execution_count": 76,
   "metadata": {
    "colab": {
     "base_uri": "https://localhost:8080/",
     "height": 195
    },
    "colab_type": "code",
    "executionInfo": {
     "elapsed": 267,
     "status": "ok",
     "timestamp": 1564852082532,
     "user": {
      "displayName": "Daniel Ramirez Rios",
      "photoUrl": "https://lh6.googleusercontent.com/-vO3eHtVyrAk/AAAAAAAAAAI/AAAAAAAAA9g/abxupfvFsFk/s64/photo.jpg",
      "userId": "16809089177157616231"
     },
     "user_tz": 420
    },
    "id": "H5HPq-eSw0o6",
    "outputId": "02d6fc52-4177-4140-ea87-bf8365aaa424"
   },
   "outputs": [
    {
     "data": {
      "text/html": [
       "<div>\n",
       "<style scoped>\n",
       "    .dataframe tbody tr th:only-of-type {\n",
       "        vertical-align: middle;\n",
       "    }\n",
       "\n",
       "    .dataframe tbody tr th {\n",
       "        vertical-align: top;\n",
       "    }\n",
       "\n",
       "    .dataframe thead th {\n",
       "        text-align: right;\n",
       "    }\n",
       "</style>\n",
       "<table border=\"1\" class=\"dataframe\">\n",
       "  <thead>\n",
       "    <tr style=\"text-align: right;\">\n",
       "      <th></th>\n",
       "      <th>TIPO</th>\n",
       "      <th>LUGAR</th>\n",
       "      <th>CAUSA</th>\n",
       "      <th>COLONIA</th>\n",
       "      <th>ESTACION</th>\n",
       "      <th>TIEMPO TRANSCURRIDO</th>\n",
       "      <th>Year</th>\n",
       "      <th>Month</th>\n",
       "      <th>Day</th>\n",
       "      <th>Hour</th>\n",
       "      <th>Minute</th>\n",
       "      <th>Weekday</th>\n",
       "    </tr>\n",
       "  </thead>\n",
       "  <tbody>\n",
       "    <tr>\n",
       "      <th>0</th>\n",
       "      <td>INCENDIO DE ZACATE Y BASURA</td>\n",
       "      <td>5</td>\n",
       "      <td>23</td>\n",
       "      <td>563</td>\n",
       "      <td>2.0</td>\n",
       "      <td>9.0</td>\n",
       "      <td>2016</td>\n",
       "      <td>1</td>\n",
       "      <td>1</td>\n",
       "      <td>0</td>\n",
       "      <td>7</td>\n",
       "      <td>4</td>\n",
       "    </tr>\n",
       "    <tr>\n",
       "      <th>1</th>\n",
       "      <td>INCENDIO DE ZACATE Y BASURA</td>\n",
       "      <td>4</td>\n",
       "      <td>23</td>\n",
       "      <td>316</td>\n",
       "      <td>1.0</td>\n",
       "      <td>10.0</td>\n",
       "      <td>2016</td>\n",
       "      <td>1</td>\n",
       "      <td>1</td>\n",
       "      <td>0</td>\n",
       "      <td>22</td>\n",
       "      <td>4</td>\n",
       "    </tr>\n",
       "    <tr>\n",
       "      <th>2</th>\n",
       "      <td>INCENDIO DE CASA DE MATERIAL</td>\n",
       "      <td>4</td>\n",
       "      <td>39</td>\n",
       "      <td>477</td>\n",
       "      <td>1.0</td>\n",
       "      <td>14.0</td>\n",
       "      <td>2016</td>\n",
       "      <td>1</td>\n",
       "      <td>1</td>\n",
       "      <td>0</td>\n",
       "      <td>29</td>\n",
       "      <td>4</td>\n",
       "    </tr>\n",
       "    <tr>\n",
       "      <th>3</th>\n",
       "      <td>INCENDIO DE ZACATE Y BASURA</td>\n",
       "      <td>11</td>\n",
       "      <td>23</td>\n",
       "      <td>366</td>\n",
       "      <td>2.0</td>\n",
       "      <td>4.0</td>\n",
       "      <td>2016</td>\n",
       "      <td>1</td>\n",
       "      <td>1</td>\n",
       "      <td>0</td>\n",
       "      <td>39</td>\n",
       "      <td>4</td>\n",
       "    </tr>\n",
       "    <tr>\n",
       "      <th>4</th>\n",
       "      <td>INCENDIO DE ZACATE Y BASURA</td>\n",
       "      <td>4</td>\n",
       "      <td>23</td>\n",
       "      <td>350</td>\n",
       "      <td>2.0</td>\n",
       "      <td>8.0</td>\n",
       "      <td>2016</td>\n",
       "      <td>1</td>\n",
       "      <td>1</td>\n",
       "      <td>0</td>\n",
       "      <td>51</td>\n",
       "      <td>4</td>\n",
       "    </tr>\n",
       "  </tbody>\n",
       "</table>\n",
       "</div>"
      ],
      "text/plain": [
       "                           TIPO  LUGAR  CAUSA  COLONIA  ESTACION  \\\n",
       "0   INCENDIO DE ZACATE Y BASURA      5     23      563       2.0   \n",
       "1   INCENDIO DE ZACATE Y BASURA      4     23      316       1.0   \n",
       "2  INCENDIO DE CASA DE MATERIAL      4     39      477       1.0   \n",
       "3   INCENDIO DE ZACATE Y BASURA     11     23      366       2.0   \n",
       "4   INCENDIO DE ZACATE Y BASURA      4     23      350       2.0   \n",
       "\n",
       "   TIEMPO TRANSCURRIDO  Year  Month  Day  Hour  Minute  Weekday  \n",
       "0                  9.0  2016      1    1     0       7        4  \n",
       "1                 10.0  2016      1    1     0      22        4  \n",
       "2                 14.0  2016      1    1     0      29        4  \n",
       "3                  4.0  2016      1    1     0      39        4  \n",
       "4                  8.0  2016      1    1     0      51        4  "
      ]
     },
     "execution_count": 76,
     "metadata": {},
     "output_type": "execute_result"
    }
   ],
   "source": [
    "#sbh_rf_incendios.drop(['SALIDA','LLEGADA','Hour'], axis = 1, inplace= True)\n",
    "sbh_rf_incendios.head()"
   ]
  },
  {
   "cell_type": "code",
   "execution_count": 77,
   "metadata": {
    "colab": {
     "base_uri": "https://localhost:8080/",
     "height": 302
    },
    "colab_type": "code",
    "executionInfo": {
     "elapsed": 312,
     "status": "ok",
     "timestamp": 1564852083867,
     "user": {
      "displayName": "Daniel Ramirez Rios",
      "photoUrl": "https://lh6.googleusercontent.com/-vO3eHtVyrAk/AAAAAAAAAAI/AAAAAAAAA9g/abxupfvFsFk/s64/photo.jpg",
      "userId": "16809089177157616231"
     },
     "user_tz": 420
    },
    "id": "LOM6bawGl4K7",
    "outputId": "67f1fe60-b472-4fd0-ea22-dfa5beb85b81"
   },
   "outputs": [
    {
     "name": "stdout",
     "output_type": "stream",
     "text": [
      "<class 'pandas.core.frame.DataFrame'>\n",
      "Int64Index: 18545 entries, 0 to 18945\n",
      "Data columns (total 12 columns):\n",
      "TIPO                   18545 non-null object\n",
      "LUGAR                  18545 non-null int64\n",
      "CAUSA                  18545 non-null int64\n",
      "COLONIA                18545 non-null int64\n",
      "ESTACION               18545 non-null float64\n",
      "TIEMPO TRANSCURRIDO    18545 non-null float64\n",
      "Year                   18545 non-null int64\n",
      "Month                  18545 non-null int64\n",
      "Day                    18545 non-null int64\n",
      "Hour                   18545 non-null int64\n",
      "Minute                 18545 non-null int64\n",
      "Weekday                18545 non-null int64\n",
      "dtypes: float64(2), int64(9), object(1)\n",
      "memory usage: 1.8+ MB\n"
     ]
    }
   ],
   "source": [
    "sbh_rf_incendios.info()"
   ]
  },
  {
   "cell_type": "markdown",
   "metadata": {
    "colab_type": "text",
    "id": "M5g8g8oTedYU"
   },
   "source": [
    "## Classifier"
   ]
  },
  {
   "cell_type": "code",
   "execution_count": 78,
   "metadata": {
    "colab": {},
    "colab_type": "code",
    "id": "6alqoHmhU-eF"
   },
   "outputs": [],
   "source": [
    "from sklearn.ensemble import RandomForestClassifier\n",
    "from sklearn.ensemble import VotingClassifier\n",
    "from sklearn.linear_model import LogisticRegression\n",
    "from sklearn.svm import SVC"
   ]
  },
  {
   "cell_type": "code",
   "execution_count": 79,
   "metadata": {
    "colab": {},
    "colab_type": "code",
    "id": "oF5tI1WpY90P"
   },
   "outputs": [],
   "source": [
    "from sklearn.ensemble import BaggingClassifier\n",
    "from sklearn.tree import DecisionTreeClassifier"
   ]
  },
  {
   "cell_type": "code",
   "execution_count": 80,
   "metadata": {
    "colab": {},
    "colab_type": "code",
    "id": "2fCYynGZLdgR"
   },
   "outputs": [],
   "source": [
    "from sklearn.ensemble import RandomForestClassifier\n",
    "from sklearn.ensemble import VotingClassifier\n",
    "from sklearn.linear_model import LogisticRegression"
   ]
  },
  {
   "cell_type": "code",
   "execution_count": 87,
   "metadata": {},
   "outputs": [],
   "source": [
    "X = sbh_rf_incendios.drop('TIPO', axis = 1)\n",
    "y = sbh_rf_incendios['TIPO']\n",
    "X_train, X_test, y_train, y_test = train_test_split(X,y, test_size=0.3, random_state=42)"
   ]
  },
  {
   "cell_type": "markdown",
   "metadata": {
    "colab_type": "text",
    "id": "1OgmIwhufHBB"
   },
   "source": [
    "### Voting Class"
   ]
  },
  {
   "cell_type": "code",
   "execution_count": 88,
   "metadata": {
    "colab": {},
    "colab_type": "code",
    "id": "L50T5W5uU6a2"
   },
   "outputs": [],
   "source": [
    "log_clf = LogisticRegression()\n",
    "rnd_clf = RandomForestClassifier()\n",
    "svm_clf = SVC()"
   ]
  },
  {
   "cell_type": "code",
   "execution_count": 89,
   "metadata": {
    "colab": {},
    "colab_type": "code",
    "id": "jYjaVPDdU6gb"
   },
   "outputs": [
    {
     "name": "stderr",
     "output_type": "stream",
     "text": [
      "C:\\Users\\Daniel Ramirez\\Anaconda3\\lib\\site-packages\\sklearn\\linear_model\\logistic.py:432: FutureWarning: Default solver will be changed to 'lbfgs' in 0.22. Specify a solver to silence this warning.\n",
      "  FutureWarning)\n",
      "C:\\Users\\Daniel Ramirez\\Anaconda3\\lib\\site-packages\\sklearn\\linear_model\\logistic.py:469: FutureWarning: Default multi_class will be changed to 'auto' in 0.22. Specify the multi_class option to silence this warning.\n",
      "  \"this warning.\", FutureWarning)\n",
      "C:\\Users\\Daniel Ramirez\\Anaconda3\\lib\\site-packages\\sklearn\\ensemble\\forest.py:245: FutureWarning: The default value of n_estimators will change from 10 in version 0.20 to 100 in 0.22.\n",
      "  \"10 in version 0.20 to 100 in 0.22.\", FutureWarning)\n",
      "C:\\Users\\Daniel Ramirez\\Anaconda3\\lib\\site-packages\\sklearn\\svm\\base.py:193: FutureWarning: The default value of gamma will change from 'auto' to 'scale' in version 0.22 to account better for unscaled features. Set gamma explicitly to 'auto' or 'scale' to avoid this warning.\n",
      "  \"avoid this warning.\", FutureWarning)\n"
     ]
    },
    {
     "data": {
      "text/plain": [
       "VotingClassifier(estimators=[('lr',\n",
       "                              LogisticRegression(C=1.0, class_weight=None,\n",
       "                                                 dual=False, fit_intercept=True,\n",
       "                                                 intercept_scaling=1,\n",
       "                                                 l1_ratio=None, max_iter=100,\n",
       "                                                 multi_class='warn',\n",
       "                                                 n_jobs=None, penalty='l2',\n",
       "                                                 random_state=None,\n",
       "                                                 solver='warn', tol=0.0001,\n",
       "                                                 verbose=0, warm_start=False)),\n",
       "                             ('rf',\n",
       "                              RandomForestClassifier(bootstrap=True,\n",
       "                                                     class_weight=None,\n",
       "                                                     criterion='gini',...\n",
       "                                                     oob_score=False,\n",
       "                                                     random_state=None,\n",
       "                                                     verbose=0,\n",
       "                                                     warm_start=False)),\n",
       "                             ('svc',\n",
       "                              SVC(C=1.0, cache_size=200, class_weight=None,\n",
       "                                  coef0=0.0, decision_function_shape='ovr',\n",
       "                                  degree=3, gamma='auto_deprecated',\n",
       "                                  kernel='rbf', max_iter=-1, probability=False,\n",
       "                                  random_state=None, shrinking=True, tol=0.001,\n",
       "                                  verbose=False))],\n",
       "                 flatten_transform=True, n_jobs=None, voting='hard',\n",
       "                 weights=None)"
      ]
     },
     "execution_count": 89,
     "metadata": {},
     "output_type": "execute_result"
    }
   ],
   "source": [
    "voting_clf = VotingClassifier(\n",
    "estimators=[('lr', log_clf), ('rf', rnd_clf), ('svc', svm_clf)],\n",
    "voting='hard')\n",
    "voting_clf.fit(X_train, y_train)"
   ]
  },
  {
   "cell_type": "code",
   "execution_count": 90,
   "metadata": {
    "colab": {},
    "colab_type": "code",
    "id": "uek29TPxU6ey"
   },
   "outputs": [
    {
     "name": "stderr",
     "output_type": "stream",
     "text": [
      "C:\\Users\\Daniel Ramirez\\Anaconda3\\lib\\site-packages\\sklearn\\linear_model\\logistic.py:432: FutureWarning: Default solver will be changed to 'lbfgs' in 0.22. Specify a solver to silence this warning.\n",
      "  FutureWarning)\n",
      "C:\\Users\\Daniel Ramirez\\Anaconda3\\lib\\site-packages\\sklearn\\linear_model\\logistic.py:469: FutureWarning: Default multi_class will be changed to 'auto' in 0.22. Specify the multi_class option to silence this warning.\n",
      "  \"this warning.\", FutureWarning)\n"
     ]
    },
    {
     "name": "stdout",
     "output_type": "stream",
     "text": [
      "LogisticRegression 0.45524802300503237\n"
     ]
    },
    {
     "name": "stderr",
     "output_type": "stream",
     "text": [
      "C:\\Users\\Daniel Ramirez\\Anaconda3\\lib\\site-packages\\sklearn\\ensemble\\forest.py:245: FutureWarning: The default value of n_estimators will change from 10 in version 0.20 to 100 in 0.22.\n",
      "  \"10 in version 0.20 to 100 in 0.22.\", FutureWarning)\n"
     ]
    },
    {
     "name": "stdout",
     "output_type": "stream",
     "text": [
      "RandomForestClassifier 0.7212437095614666\n"
     ]
    },
    {
     "name": "stderr",
     "output_type": "stream",
     "text": [
      "C:\\Users\\Daniel Ramirez\\Anaconda3\\lib\\site-packages\\sklearn\\svm\\base.py:193: FutureWarning: The default value of gamma will change from 'auto' to 'scale' in version 0.22 to account better for unscaled features. Set gamma explicitly to 'auto' or 'scale' to avoid this warning.\n",
      "  \"avoid this warning.\", FutureWarning)\n"
     ]
    },
    {
     "name": "stdout",
     "output_type": "stream",
     "text": [
      "SVC 0.40636232925952553\n"
     ]
    },
    {
     "name": "stderr",
     "output_type": "stream",
     "text": [
      "C:\\Users\\Daniel Ramirez\\Anaconda3\\lib\\site-packages\\sklearn\\linear_model\\logistic.py:432: FutureWarning: Default solver will be changed to 'lbfgs' in 0.22. Specify a solver to silence this warning.\n",
      "  FutureWarning)\n",
      "C:\\Users\\Daniel Ramirez\\Anaconda3\\lib\\site-packages\\sklearn\\linear_model\\logistic.py:469: FutureWarning: Default multi_class will be changed to 'auto' in 0.22. Specify the multi_class option to silence this warning.\n",
      "  \"this warning.\", FutureWarning)\n",
      "C:\\Users\\Daniel Ramirez\\Anaconda3\\lib\\site-packages\\sklearn\\svm\\base.py:193: FutureWarning: The default value of gamma will change from 'auto' to 'scale' in version 0.22 to account better for unscaled features. Set gamma explicitly to 'auto' or 'scale' to avoid this warning.\n",
      "  \"avoid this warning.\", FutureWarning)\n"
     ]
    },
    {
     "name": "stdout",
     "output_type": "stream",
     "text": [
      "VotingClassifier 0.5122214234363767\n"
     ]
    }
   ],
   "source": [
    "from sklearn.metrics import accuracy_score\n",
    "for clf in (log_clf, rnd_clf, svm_clf, voting_clf): \n",
    "    clf.fit(X_train, y_train)\n",
    "    y_pred = clf.predict(X_test)\n",
    "    print(clf.__class__.__name__, accuracy_score(y_test, y_pred))"
   ]
  },
  {
   "cell_type": "code",
   "execution_count": 0,
   "metadata": {
    "colab": {},
    "colab_type": "code",
    "id": "aBuOZfLnaCsi"
   },
   "outputs": [],
   "source": []
  },
  {
   "cell_type": "markdown",
   "metadata": {
    "colab_type": "text",
    "id": "aWPCP8pye516"
   },
   "source": [
    "### Baggin Cls"
   ]
  },
  {
   "cell_type": "code",
   "execution_count": 91,
   "metadata": {
    "colab": {},
    "colab_type": "code",
    "id": "boyYXdcnakWB"
   },
   "outputs": [
    {
     "data": {
      "text/plain": [
       "BaggingClassifier(base_estimator=DecisionTreeClassifier(class_weight=None,\n",
       "                                                        criterion='gini',\n",
       "                                                        max_depth=None,\n",
       "                                                        max_features=None,\n",
       "                                                        max_leaf_nodes=None,\n",
       "                                                        min_impurity_decrease=0.0,\n",
       "                                                        min_impurity_split=None,\n",
       "                                                        min_samples_leaf=1,\n",
       "                                                        min_samples_split=2,\n",
       "                                                        min_weight_fraction_leaf=0.0,\n",
       "                                                        presort=False,\n",
       "                                                        random_state=None,\n",
       "                                                        splitter='best'),\n",
       "                  bootstrap=True, bootstrap_features=False, max_features=1.0,\n",
       "                  max_samples=1.0, n_estimators=500, n_jobs=-1, oob_score=True,\n",
       "                  random_state=None, verbose=0, warm_start=False)"
      ]
     },
     "execution_count": 91,
     "metadata": {},
     "output_type": "execute_result"
    }
   ],
   "source": [
    "bag_clf = BaggingClassifier(\n",
    "DecisionTreeClassifier(), n_estimators=500,\n",
    "bootstrap=True, n_jobs=-1, oob_score=True)\n",
    "    \n",
    "bag_clf.fit(X_train, y_train)"
   ]
  },
  {
   "cell_type": "code",
   "execution_count": 92,
   "metadata": {
    "colab": {},
    "colab_type": "code",
    "id": "P4Y2xxwvakhu"
   },
   "outputs": [
    {
     "data": {
      "text/plain": [
       "0.7642708574069794"
      ]
     },
     "execution_count": 92,
     "metadata": {},
     "output_type": "execute_result"
    }
   ],
   "source": [
    "bag_clf.oob_score_"
   ]
  },
  {
   "cell_type": "code",
   "execution_count": 93,
   "metadata": {
    "colab": {},
    "colab_type": "code",
    "id": "FRJFG79Eakfs"
   },
   "outputs": [
    {
     "data": {
      "text/plain": [
       "0.7589863407620417"
      ]
     },
     "execution_count": 93,
     "metadata": {},
     "output_type": "execute_result"
    }
   ],
   "source": [
    "from sklearn.metrics import accuracy_score\n",
    "y_pred = bag_clf.predict(X_test)\n",
    "accuracy_score(y_test, y_pred)"
   ]
  },
  {
   "cell_type": "code",
   "execution_count": 94,
   "metadata": {
    "colab": {},
    "colab_type": "code",
    "id": "-8Fgq9eiqzXu"
   },
   "outputs": [
    {
     "name": "stdout",
     "output_type": "stream",
     "text": [
      "[[  78   29    0    0   13    0    3    0    2    7    0    0    1    1\n",
      "     0    0    5    4    0    0    0    0    8    1    0    0]\n",
      " [  25   77    1    1   20    0   13    0   16   24    0    4    8    8\n",
      "     0    5    9    5    1    0    5    0   24    6    0    0]\n",
      " [   0    0    0    0    1    0    0    0    0    4    0    0    5    1\n",
      "     0    0    3    3    0    0    0    0    0    0    0    0]\n",
      " [   0    2    1    1    1    0    0    0    1    1    0    1    9    3\n",
      "     1    0    1    0    0    0    0    1    0    0    0    0]\n",
      " [  21   30    0    0   28    0    1    0    2    0    0    0    2    1\n",
      "     0    0    5    0    0    0    0    0    8    0    0    0]\n",
      " [   0    2    0    2    0    0    1    0    0    0    0    0    0    0\n",
      "     0    0    0    0    0    0    0    0    0    0    0    0]\n",
      " [   0    3    0    0    0    0  879    0    5    0    0    0    1    0\n",
      "     0    0    0   11    0    0    0    0    0    5    0    0]\n",
      " [   0    0    0    0    0    0    0    0    0    9    0    0    0    0\n",
      "     0    0    0    0    0    0    0    0    0    0    0    0]\n",
      " [   3   10    0    0    9    0   33    0  224    5    0    0    5    1\n",
      "     0    0    4   18    0    0    4    0    1   12    0    1]\n",
      " [   2    6    1    0    2    0    3    0    5  282    0    2   14    4\n",
      "     1    0    7    4    0    0    2    0    1    3    0    0]\n",
      " [   0    0    0    0    0    0    3    0    0    0    2    0    0    0\n",
      "     0    0    0    2    0    0    0    0    0    0    0    0]\n",
      " [   1    0    0    2    0    0    2    0    0    6    0   24   34    0\n",
      "     0    0    2   39    0    0    0    0    0    0    0    0]\n",
      " [   1    2    0    3    0    1    0    0    8   34    0   24  250    1\n",
      "     0    1    2  142    0    0    0    0    0    0    0    0]\n",
      " [   0    4    0    0    0    0    0    0    2    6    0    0    2   23\n",
      "     2    0    1   19    0    0    0    0    1    0    0    0]\n",
      " [   0    0    0    0    0    0    0    0    0    0    0    0    0    0\n",
      "     3    2    0    3    0    0    0    0    0    0    0    0]\n",
      " [   0    5    1    0    0    0    1    0    2    0    0    0    1    0\n",
      "     0    5    0   16    0    0    0    0    0    0    0    0]\n",
      " [   2   10    0    0    3    0    0    0    4    2    0    1    4    0\n",
      "     0    0  189   13    0    0    0    0    3    0    0    0]\n",
      " [   1    4    2    0    0    0    7    0   22    7    1    7  116   22\n",
      "     0    6    9 2006    0    0    0    0    3    0    0    0]\n",
      " [   0    0    0    0    0    0    0    0    0    2    0    0    0    0\n",
      "     0    0    0    0    1    0    0    0    0    0    0    0]\n",
      " [   0    0    0    0    0    0    0    0    0    1    0    0    0    0\n",
      "     0    0    0    1    0    0    0    0    0    0    0    0]\n",
      " [   0    4    0    0    0    0    0    0    9    4    0    0    0    0\n",
      "     0    0    0    0    0    0    6    0    1    2    0    0]\n",
      " [   2    6    0    0    1    0    1    0    1    0    0    0    0    1\n",
      "     0    0    2    1    0    0    0    1    1    0    0    0]\n",
      " [  19   28    0    0    9    1    3    0    5    0    0    0    1    0\n",
      "     0    0    2    0    0    0    0    0   29    6    0    0]\n",
      " [   1   10    0    0    0    0    6    0    9    2    0    0    4    0\n",
      "     0    0    2    1    0    0    0    0    0  102    0    0]\n",
      " [   0    0    0    0    0    0    0    0    0    0    0    0    0    0\n",
      "     0    0    1    0    0    0    0    0    0    1    0    0]\n",
      " [   0    0    0    0    0    0    0    0    0    1    0    0    1    1\n",
      "     0    0    0    0    0    0    0    0    0    0    0   13]]\n",
      "\n",
      "\n"
     ]
    },
    {
     "name": "stderr",
     "output_type": "stream",
     "text": [
      "C:\\Users\\Daniel Ramirez\\Anaconda3\\lib\\site-packages\\sklearn\\metrics\\classification.py:1437: UndefinedMetricWarning: Precision and F-score are ill-defined and being set to 0.0 in labels with no predicted samples.\n",
      "  'precision', 'predicted', average, warn_for)\n"
     ]
    },
    {
     "name": "stdout",
     "output_type": "stream",
     "text": [
      "                                  precision    recall  f1-score   support\n",
      "\n",
      "       ATENCION PRE HOSPITALARIA       0.50      0.51      0.51       152\n",
      "          COBERTURA DE SEGURIDAD       0.33      0.31      0.32       252\n",
      "              CONATO DE INCENDIO       0.00      0.00      0.00        17\n",
      "                  CORTO CIRCUITO       0.11      0.04      0.06        23\n",
      "          DERRAME DE COMBUSTIBLE       0.32      0.29      0.30        98\n",
      "                       DERRUMBES       0.00      0.00      0.00         5\n",
      "              ENJAMBRE DE ABEJAS       0.92      0.97      0.95       904\n",
      "                     EXPLOSIONES       0.00      0.00      0.00         9\n",
      "                    FALSA ALARMA       0.71      0.68      0.69       330\n",
      "  FUGA DE GAS LP Y/O GAS NATURAL       0.71      0.83      0.77       339\n",
      "             INCENDIO DE ALMACEN       0.67      0.29      0.40         7\n",
      "      INCENDIO DE CASA DE CARTÓN       0.38      0.22      0.28       110\n",
      "    INCENDIO DE CASA DE MATERIAL       0.55      0.53      0.54       469\n",
      "            INCENDIO DE COMERCIO       0.34      0.38      0.36        60\n",
      "           INCENDIO DE INDUSTRIA       0.43      0.38      0.40         8\n",
      " INCENDIO DE INSTALACIÓN PÚBLICA       0.26      0.16      0.20        31\n",
      "            INCENDIO DE VEHÍCULO       0.77      0.82      0.80       231\n",
      "     INCENDIO DE ZACATE Y BASURA       0.88      0.91      0.89      2213\n",
      "INCIDENTE CON MATERIAL PELIGROSO       0.50      0.33      0.40         3\n",
      "                      INUNDACIÓN       0.00      0.00      0.00         2\n",
      "             OLOR A HIDROCARBURO       0.35      0.23      0.28        26\n",
      "                           OTROS       0.50      0.06      0.11        17\n",
      "                         RESCATE       0.36      0.28      0.32       103\n",
      "                RETIRO DE ANIMAL       0.74      0.74      0.74       137\n",
      "               SERVICIO ESPECIAL       0.00      0.00      0.00         2\n",
      "                       SIMULACRO       0.93      0.81      0.87        16\n",
      "\n",
      "                        accuracy                           0.76      5564\n",
      "                       macro avg       0.43      0.38      0.39      5564\n",
      "                    weighted avg       0.74      0.76      0.75      5564\n",
      "\n"
     ]
    }
   ],
   "source": [
    "print(confusion_matrix(y_test, y_pred))\n",
    "print('\\n')\n",
    "print(classification_report(y_test, y_pred))"
   ]
  },
  {
   "cell_type": "code",
   "execution_count": 0,
   "metadata": {
    "colab": {},
    "colab_type": "code",
    "id": "sn-YH2tXqzjS"
   },
   "outputs": [],
   "source": []
  },
  {
   "cell_type": "markdown",
   "metadata": {
    "colab_type": "text",
    "id": "ZjfGMgr3e0DS"
   },
   "source": [
    "### Random Forest"
   ]
  },
  {
   "cell_type": "code",
   "execution_count": 95,
   "metadata": {
    "colab": {
     "base_uri": "https://localhost:8080/",
     "height": 134
    },
    "colab_type": "code",
    "executionInfo": {
     "elapsed": 14195,
     "status": "ok",
     "timestamp": 1564852109984,
     "user": {
      "displayName": "Daniel Ramirez Rios",
      "photoUrl": "https://lh6.googleusercontent.com/-vO3eHtVyrAk/AAAAAAAAAAI/AAAAAAAAA9g/abxupfvFsFk/s64/photo.jpg",
      "userId": "16809089177157616231"
     },
     "user_tz": 420
    },
    "id": "hbNTnuzWKvp1",
    "outputId": "1a6a92ad-2f29-4ab1-e6a6-fb3b91a0a89a"
   },
   "outputs": [
    {
     "data": {
      "text/plain": [
       "RandomForestClassifier(bootstrap=True, class_weight=None, criterion='gini',\n",
       "                       max_depth=None, max_features='auto', max_leaf_nodes=None,\n",
       "                       min_impurity_decrease=0.0, min_impurity_split=None,\n",
       "                       min_samples_leaf=1, min_samples_split=2,\n",
       "                       min_weight_fraction_leaf=0.0, n_estimators=500,\n",
       "                       n_jobs=None, oob_score=False, random_state=None,\n",
       "                       verbose=0, warm_start=False)"
      ]
     },
     "execution_count": 95,
     "metadata": {},
     "output_type": "execute_result"
    }
   ],
   "source": [
    "\n",
    "rfc = RandomForestClassifier(n_estimators = 500, criterion = 'gini')\n",
    "rfc.fit(X_train, y_train)"
   ]
  },
  {
   "cell_type": "code",
   "execution_count": 96,
   "metadata": {
    "colab": {},
    "colab_type": "code",
    "id": "5n55-7NOb-6t"
   },
   "outputs": [],
   "source": [
    "prediction = rfc.predict(X_test)"
   ]
  },
  {
   "cell_type": "code",
   "execution_count": 109,
   "metadata": {
    "colab": {
     "base_uri": "https://localhost:8080/",
     "height": 1000
    },
    "colab_type": "code",
    "executionInfo": {
     "elapsed": 412,
     "status": "ok",
     "timestamp": 1564852118226,
     "user": {
      "displayName": "Daniel Ramirez Rios",
      "photoUrl": "https://lh6.googleusercontent.com/-vO3eHtVyrAk/AAAAAAAAAAI/AAAAAAAAA9g/abxupfvFsFk/s64/photo.jpg",
      "userId": "16809089177157616231"
     },
     "user_tz": 420
    },
    "id": "ES6ZC80kLvla",
    "outputId": "fbd87934-6146-4e18-db49-2dcde9c013cb"
   },
   "outputs": [
    {
     "name": "stdout",
     "output_type": "stream",
     "text": [
      "[[  72   32    0    0   11    0    4    0    2    7    0    0    3    1\n",
      "     0    0    6    4    0    0    0    0    6    4    0    0]\n",
      " [  22   82    0    1   10    0   17    0   24   24    0    1    9    7\n",
      "     0    0   15   11    0    0    0    0   16   13    0    0]\n",
      " [   0    0    1    0    0    0    1    0    1    4    0    0    3    0\n",
      "     0    0    4    3    0    0    0    0    0    0    0    0]\n",
      " [   0    2    1    2    1    0    0    0    1    1    0    0   10    2\n",
      "     1    0    1    0    0    0    0    0    1    0    0    0]\n",
      " [  24   31    0    0   25    0    1    0    0    0    0    0    2    0\n",
      "     0    0    8    1    0    0    0    0    6    0    0    0]\n",
      " [   0    0    0    0    0    0    2    0    0    0    0    0    2    0\n",
      "     0    0    0    1    0    0    0    0    0    0    0    0]\n",
      " [   1    4    0    0    0    0  881    0    3    2    0    0    0    0\n",
      "     0    0    0    9    0    0    0    0    0    4    0    0]\n",
      " [   0    0    0    0    0    0    0    0    0    9    0    0    0    0\n",
      "     0    0    0    0    0    0    0    0    0    0    0    0]\n",
      " [   3   12    0    0    4    0   35    0  215   27    0    0    1    1\n",
      "     0    0    8   14    0    0    0    0    0    9    0    1]\n",
      " [   2    4    0    0    0    0    7    0   11  285    0    0   12    1\n",
      "     0    1    8    4    0    0    0    0    1    3    0    0]\n",
      " [   0    0    0    0    0    0    3    0    0    0    1    0    0    0\n",
      "     0    0    0    3    0    0    0    0    0    0    0    0]\n",
      " [   1    0    0    0    0    0    1    0    0    8    0   13   31    0\n",
      "     0    0    4   52    0    0    0    0    0    0    0    0]\n",
      " [   3    3    0    0    0    0    6    0    6   39    0   20  220    1\n",
      "     0    0    2  168    0    0    0    0    0    1    0    0]\n",
      " [   1    2    0    0    0    0    1    0    3    6    0    0    3   16\n",
      "     0    0    1   25    0    0    0    0    0    1    0    1]\n",
      " [   0    2    0    1    0    0    0    0    0    0    0    0    0    0\n",
      "     0    0    0    3    0    0    0    0    0    2    0    0]\n",
      " [   0    6    0    0    0    0    1    0    2    0    0    0    1    0\n",
      "     0    1    0   18    0    0    0    0    0    1    0    1]\n",
      " [   1    6    0    0    2    0    1    0    5    0    0    0    4    0\n",
      "     0    0  194   16    0    0    0    0    1    1    0    0]\n",
      " [   1    2    0    1    0    0    7    0   25    8    0    4   77    4\n",
      "     0    0   11 2072    0    0    0    0    0    1    0    0]\n",
      " [   0    0    0    0    0    0    0    0    1    2    0    0    0    0\n",
      "     0    0    0    0    0    0    0    0    0    0    0    0]\n",
      " [   0    0    0    0    0    0    0    0    0    1    0    0    0    0\n",
      "     0    0    0    1    0    0    0    0    0    0    0    0]\n",
      " [   0    7    0    0    0    0    2    0    6    9    0    0    0    0\n",
      "     0    0    0    0    0    0    0    0    0    2    0    0]\n",
      " [   4    6    0    0    1    0    1    0    1    0    0    0    0    0\n",
      "     0    0    2    1    0    0    0    1    0    0    0    0]\n",
      " [  23   28    0    0    7    0    4    0    5    0    0    0    2    0\n",
      "     0    0    4    5    0    0    0    0   17    8    0    0]\n",
      " [   5    6    0    0    0    0    8    0   11    3    0    0    1    0\n",
      "     0    0    1    1    0    0    0    0    0  101    0    0]\n",
      " [   0    1    0    0    0    0    0    0    0    0    0    0    0    0\n",
      "     0    0    0    0    0    0    0    0    0    1    0    0]\n",
      " [   0    0    0    0    0    0    0    0    0    1    0    0    1    1\n",
      "     0    0    0    0    0    0    0    0    0    0    0   13]]\n",
      "\n",
      "\n",
      "                                  precision    recall  f1-score   support\n",
      "\n",
      "       ATENCION PRE HOSPITALARIA       0.44      0.47      0.46       152\n",
      "          COBERTURA DE SEGURIDAD       0.35      0.33      0.34       252\n",
      "              CONATO DE INCENDIO       0.50      0.06      0.11        17\n",
      "                  CORTO CIRCUITO       0.40      0.09      0.14        23\n",
      "          DERRAME DE COMBUSTIBLE       0.41      0.26      0.31        98\n",
      "                       DERRUMBES       0.00      0.00      0.00         5\n",
      "              ENJAMBRE DE ABEJAS       0.90      0.97      0.93       904\n",
      "                     EXPLOSIONES       0.00      0.00      0.00         9\n",
      "                    FALSA ALARMA       0.67      0.65      0.66       330\n",
      "  FUGA DE GAS LP Y/O GAS NATURAL       0.65      0.84      0.74       339\n",
      "             INCENDIO DE ALMACEN       1.00      0.14      0.25         7\n",
      "      INCENDIO DE CASA DE CARTÓN       0.34      0.12      0.18       110\n",
      "    INCENDIO DE CASA DE MATERIAL       0.58      0.47      0.52       469\n",
      "            INCENDIO DE COMERCIO       0.47      0.27      0.34        60\n",
      "           INCENDIO DE INDUSTRIA       0.00      0.00      0.00         8\n",
      " INCENDIO DE INSTALACIÓN PÚBLICA       0.50      0.03      0.06        31\n",
      "            INCENDIO DE VEHÍCULO       0.72      0.84      0.78       231\n",
      "     INCENDIO DE ZACATE Y BASURA       0.86      0.94      0.90      2213\n",
      "INCIDENTE CON MATERIAL PELIGROSO       0.00      0.00      0.00         3\n",
      "                      INUNDACIÓN       0.00      0.00      0.00         2\n",
      "             OLOR A HIDROCARBURO       0.00      0.00      0.00        26\n",
      "                           OTROS       1.00      0.06      0.11        17\n",
      "                         RESCATE       0.35      0.17      0.23       103\n",
      "                RETIRO DE ANIMAL       0.66      0.74      0.70       137\n",
      "               SERVICIO ESPECIAL       0.00      0.00      0.00         2\n",
      "                       SIMULACRO       0.81      0.81      0.81        16\n",
      "\n",
      "                        accuracy                           0.76      5564\n",
      "                       macro avg       0.45      0.32      0.33      5564\n",
      "                    weighted avg       0.73      0.76      0.73      5564\n",
      "\n"
     ]
    }
   ],
   "source": [
    "#prediction = rfc.predict(X_test)\n",
    "print(confusion_matrix(y_test, prediction))\n",
    "print('\\n')\n",
    "print(classification_report(y_test, prediction))"
   ]
  },
  {
   "cell_type": "markdown",
   "metadata": {
    "colab_type": "text",
    "id": "6nzCHSN8qM1_"
   },
   "source": [
    "### Visual Representation"
   ]
  },
  {
   "cell_type": "code",
   "execution_count": 110,
   "metadata": {
    "colab": {
     "base_uri": "https://localhost:8080/",
     "height": 746
    },
    "colab_type": "code",
    "executionInfo": {
     "elapsed": 3036,
     "status": "ok",
     "timestamp": 1564852211569,
     "user": {
      "displayName": "Daniel Ramirez Rios",
      "photoUrl": "https://lh6.googleusercontent.com/-vO3eHtVyrAk/AAAAAAAAAAI/AAAAAAAAA9g/abxupfvFsFk/s64/photo.jpg",
      "userId": "16809089177157616231"
     },
     "user_tz": 420
    },
    "id": "uhp1S-KIrzvJ",
    "outputId": "fbddd8ff-bad9-4723-b36f-0535644b1625"
   },
   "outputs": [
    {
     "data": {
      "text/plain": [
       "Text(0.5, 2.05, 'Confusion matrix para Random Forest')"
      ]
     },
     "execution_count": 110,
     "metadata": {},
     "output_type": "execute_result"
    },
    {
     "data": {
      "image/png": "[encoded data removed]",
      "text/plain": [
       "<Figure size 1152x864 with 2 Axes>"
      ]
     },
     "metadata": {
      "needs_background": "light"
     },
     "output_type": "display_data"
    }
   ],
   "source": [
    "#Confusion matrix\n",
    "from sklearn.metrics import confusion_matrix\n",
    "frst_cm = confusion_matrix(y_test, prediction)\n",
    "fig = plt.figure(figsize = (16,12))\n",
    "sns.heatmap(frst_cm,annot=True,fmt='5.0f',cmap=\"coolwarm\")\n",
    "plt.title('Confusion matrix para Random Forest', y=2.05, size=30)"
   ]
  },
  {
   "cell_type": "code",
   "execution_count": 111,
   "metadata": {
    "colab": {
     "base_uri": "https://localhost:8080/",
     "height": 887
    },
    "colab_type": "code",
    "executionInfo": {
     "elapsed": 3426,
     "status": "ok",
     "timestamp": 1564852215344,
     "user": {
      "displayName": "Daniel Ramirez Rios",
      "photoUrl": "https://lh6.googleusercontent.com/-vO3eHtVyrAk/AAAAAAAAAAI/AAAAAAAAA9g/abxupfvFsFk/s64/photo.jpg",
      "userId": "16809089177157616231"
     },
     "user_tz": 420
    },
    "id": "MA1krZ7Frz3f",
    "outputId": "ee42398b-11e7-4f64-9df3-9df63919c750"
   },
   "outputs": [
    {
     "data": {
      "image/png": "[encoded data removed]",
      "text/plain": [
       "<Figure size 1800x1080 with 2 Axes>"
      ]
     },
     "metadata": {
      "needs_background": "light"
     },
     "output_type": "display_data"
    }
   ],
   "source": [
    "conf_mat = confusion_matrix(y_test, prediction, labels=np.sort(y_test.unique()))\n",
    "conf_mat_df = pd.DataFrame(\n",
    "    conf_mat)\n",
    "conf_mat_props = pd.DataFrame(\n",
    "    conf_mat_df.values / conf_mat_df.sum(axis=1)[:,None])\n",
    "fig = plt.figure(figsize = (25,15))\n",
    "\n",
    "sns.heatmap(conf_mat_props, annot=True, cmap= 'coolwarm');"
   ]
  }
 ],
 "metadata": {
  "colab": {
   "collapsed_sections": [],
   "name": "Servicios Bomberos HMO 2",
   "provenance": [],
   "toc_visible": true,
   "version": "0.3.2"
  },
  "kernelspec": {
   "display_name": "Python 3",
   "language": "python",
   "name": "python3"
  },
  "language_info": {
   "codemirror_mode": {
    "name": "ipython",
    "version": 3
   },
   "file_extension": ".py",
   "mimetype": "text/x-python",
   "name": "python",
   "nbconvert_exporter": "python",
   "pygments_lexer": "ipython3",
   "version": "3.7.3"
  }
 },
 "nbformat": 4,
 "nbformat_minor": 1
}
